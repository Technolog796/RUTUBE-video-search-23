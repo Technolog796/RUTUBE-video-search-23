{
 "cells": [
  {
   "cell_type": "code",
   "execution_count": 1,
   "id": "cbdedc3a-bb47-41c2-ae9c-7e894695da5d",
   "metadata": {
    "execution": {
     "iopub.execute_input": "2023-11-25T00:25:11.895718Z",
     "iopub.status.busy": "2023-11-25T00:25:11.894673Z",
     "iopub.status.idle": "2023-11-25T00:25:12.100521Z",
     "shell.execute_reply": "2023-11-25T00:25:12.098425Z",
     "shell.execute_reply.started": "2023-11-25T00:25:11.895683Z"
    },
    "tags": []
   },
   "outputs": [
    {
     "name": "stdout",
     "output_type": "stream",
     "text": [
      "Sat Nov 25 00:25:11 2023       \n",
      "+-----------------------------------------------------------------------------+\n",
      "| NVIDIA-SMI 525.147.05   Driver Version: 525.147.05   CUDA Version: 12.0     |\n",
      "|-------------------------------+----------------------+----------------------+\n",
      "| GPU  Name        Persistence-M| Bus-Id        Disp.A | Volatile Uncorr. ECC |\n",
      "| Fan  Temp  Perf  Pwr:Usage/Cap|         Memory-Usage | GPU-Util  Compute M. |\n",
      "|                               |                      |               MIG M. |\n",
      "|===============================+======================+======================|\n",
      "|   0  Tesla V100-PCIE...  On   | 00000000:8C:00.0 Off |                    0 |\n",
      "| N/A   28C    P0    26W / 250W |      4MiB / 32768MiB |      0%      Default |\n",
      "|                               |                      |                  N/A |\n",
      "+-------------------------------+----------------------+----------------------+\n",
      "                                                                               \n",
      "+-----------------------------------------------------------------------------+\n",
      "| Processes:                                                                  |\n",
      "|  GPU   GI   CI        PID   Type   Process name                  GPU Memory |\n",
      "|        ID   ID                                                   Usage      |\n",
      "|=============================================================================|\n",
      "|    0   N/A  N/A       892      G   /usr/lib/xorg/Xorg                  4MiB |\n",
      "+-----------------------------------------------------------------------------+\n"
     ]
    }
   ],
   "source": [
    "!nvidia-smi"
   ]
  },
  {
   "cell_type": "markdown",
   "id": "ec5d8a7b-5d56-46f7-9e14-4083a8dcf049",
   "metadata": {},
   "source": [
    "# Библиотеки"
   ]
  },
  {
   "cell_type": "code",
   "execution_count": 2,
   "id": "ad3e8d9e-5304-41af-9b7a-94e8b2f69d4e",
   "metadata": {
    "execution": {
     "iopub.execute_input": "2023-11-25T00:25:12.104578Z",
     "iopub.status.busy": "2023-11-25T00:25:12.103016Z",
     "iopub.status.idle": "2023-11-25T00:25:12.662467Z",
     "shell.execute_reply": "2023-11-25T00:25:12.661070Z",
     "shell.execute_reply.started": "2023-11-25T00:25:12.104504Z"
    },
    "tags": []
   },
   "outputs": [],
   "source": [
    "import pickle\n",
    "\n",
    "import numpy as np\n",
    "import pandas as pd\n",
    "import polars as pl\n",
    "\n",
    "import faiss\n",
    "\n",
    "from tqdm.auto import tqdm"
   ]
  },
  {
   "cell_type": "code",
   "execution_count": 3,
   "id": "3401b49a-8925-4fb3-b992-0eeefc527188",
   "metadata": {
    "execution": {
     "iopub.execute_input": "2023-11-25T00:25:12.665749Z",
     "iopub.status.busy": "2023-11-25T00:25:12.664982Z",
     "iopub.status.idle": "2023-11-25T00:25:24.070767Z",
     "shell.execute_reply": "2023-11-25T00:25:24.069681Z",
     "shell.execute_reply.started": "2023-11-25T00:25:12.665695Z"
    },
    "tags": []
   },
   "outputs": [],
   "source": [
    "import torch\n",
    "\n",
    "from make_embeds import get_embs"
   ]
  },
  {
   "cell_type": "markdown",
   "id": "d8958c2b-7924-429f-ad73-c80a077ab636",
   "metadata": {},
   "source": [
    "# Данные"
   ]
  },
  {
   "cell_type": "code",
   "execution_count": 4,
   "id": "58b0f705-fa2e-4cc6-b01f-ec100112ea9d",
   "metadata": {
    "execution": {
     "iopub.execute_input": "2023-11-25T00:25:24.073256Z",
     "iopub.status.busy": "2023-11-25T00:25:24.072505Z",
     "iopub.status.idle": "2023-11-25T00:28:37.321782Z",
     "shell.execute_reply": "2023-11-25T00:28:37.320593Z",
     "shell.execute_reply.started": "2023-11-25T00:25:24.073223Z"
    },
    "tags": []
   },
   "outputs": [
    {
     "data": {
      "text/html": [
       "<div><style>\n",
       ".dataframe > thead > tr > th,\n",
       ".dataframe > tbody > tr > td {\n",
       "  text-align: right;\n",
       "}\n",
       "</style>\n",
       "<small>shape: (13286417, 4)</small><table border=\"1\" class=\"dataframe\"><thead><tr><th>video_id</th><th>video_title</th><th>v_pub_datetime</th><th>v_pub_datetime_right</th></tr><tr><td>str</td><td>str</td><td>datetime[ns, +00:00]</td><td>str</td></tr></thead><tbody><tr><td>&quot;video_0&quot;</td><td>&quot;Bonus 3-6 in 3…</td><td>2023-05-05 10:43:01 +00:00</td><td>&quot;2023-05-05 10:…</td></tr><tr><td>&quot;video_1&quot;</td><td>&quot;Sean Paul feat…</td><td>2023-05-03 01:15:49 +00:00</td><td>&quot;2023-05-03 01:…</td></tr><tr><td>&quot;video_10&quot;</td><td>&quot;Пластилиновый …</td><td>2023-05-08 15:19:34 +00:00</td><td>&quot;2023-05-08 15:…</td></tr><tr><td>&quot;video_100&quot;</td><td>&quot;Суп из хребтов…</td><td>2023-05-09 07:32:25 +00:00</td><td>&quot;2023-05-09 07:…</td></tr><tr><td>&quot;video_1000&quot;</td><td>&quot;Майский вечер.…</td><td>2023-05-23 20:26:25 +00:00</td><td>&quot;2023-05-23 20:…</td></tr><tr><td>&quot;video_10000&quot;</td><td>&quot;SEKIRO  Пожило…</td><td>2022-10-25 14:45:08 +00:00</td><td>&quot;2022-10-25 14:…</td></tr><tr><td>&quot;video_10000000…</td><td>&quot;В ЗАРЕВЕ ЗАКАТ…</td><td>2014-03-25 09:42:49 +00:00</td><td>&quot;2014-03-25 09:…</td></tr><tr><td>&quot;video_10000001…</td><td>&quot;горнолыжный тр…</td><td>2014-03-17 22:03:12 +00:00</td><td>&quot;2014-03-17 22:…</td></tr><tr><td>&quot;video_10000002…</td><td>&quot;ՆՈՐ ԵՐԳ! Karen…</td><td>2014-03-26 15:41:15 +00:00</td><td>&quot;2014-03-26 15:…</td></tr><tr><td>&quot;video_10000003…</td><td>&quot;ԱՆՑՈՒԴԱՐՁ 27.0…</td><td>2014-03-30 08:10:02 +00:00</td><td>&quot;2014-03-30 08:…</td></tr><tr><td>&quot;video_10000004…</td><td>&quot;Фитнес-трекер …</td><td>2014-03-05 21:14:36 +00:00</td><td>&quot;2014-03-05 21:…</td></tr><tr><td>&quot;video_10000005…</td><td>&quot;Григорий Лепс …</td><td>2014-03-20 15:47:28 +00:00</td><td>&quot;2014-03-20 15:…</td></tr><tr><td>&hellip;</td><td>&hellip;</td><td>&hellip;</td><td>&hellip;</td></tr><tr><td>&quot;video_9999982&quot;</td><td>&quot;Электронное Та…</td><td>2014-03-25 12:32:16 +00:00</td><td>&quot;2014-03-25 12:…</td></tr><tr><td>&quot;video_9999983&quot;</td><td>&quot;POSVÁTNÁ HORA …</td><td>2014-03-18 21:15:18 +00:00</td><td>&quot;2014-03-18 21:…</td></tr><tr><td>&quot;video_9999984&quot;</td><td>&quot;Дело Румянцева…</td><td>2014-03-23 16:10:05 +00:00</td><td>&quot;2014-03-23 16:…</td></tr><tr><td>&quot;video_9999985&quot;</td><td>&quot;Макияж&quot;</td><td>2014-03-27 10:47:47 +00:00</td><td>&quot;2014-03-27 10:…</td></tr><tr><td>&quot;video_9999986&quot;</td><td>&quot;Интерны: Местн…</td><td>2021-02-10 09:33:03 +00:00</td><td>&quot;2021-02-10 09:…</td></tr><tr><td>&quot;video_9999987&quot;</td><td>&quot;Дина Гарипова:…</td><td>2014-03-07 17:57:29 +00:00</td><td>&quot;2014-03-07 17:…</td></tr><tr><td>&quot;video_9999988&quot;</td><td>&quot;Филюс Беркет-W…</td><td>2014-03-08 21:21:35 +00:00</td><td>&quot;2014-03-08 21:…</td></tr><tr><td>&quot;video_9999990&quot;</td><td>&quot;Bubble Blast&quot;</td><td>2014-03-03 09:30:52 +00:00</td><td>&quot;2014-03-03 09:…</td></tr><tr><td>&quot;video_9999992&quot;</td><td>&quot;Alpinestars an…</td><td>2014-03-17 09:46:38 +00:00</td><td>&quot;2014-03-17 09:…</td></tr><tr><td>&quot;video_9999993&quot;</td><td>&quot;НЕ РАСТЕРЯЙ ВО…</td><td>2014-03-23 14:15:36 +00:00</td><td>&quot;2014-03-23 14:…</td></tr><tr><td>&quot;video_9999996&quot;</td><td>&quot;ТАНГО ЖЕЛАНИЙ&quot;</td><td>2014-03-23 14:04:20 +00:00</td><td>&quot;2014-03-23 14:…</td></tr><tr><td>&quot;video_9999998&quot;</td><td>&quot;02032014063&quot;</td><td>2014-03-02 17:07:21 +00:00</td><td>&quot;2014-03-02 17:…</td></tr></tbody></table></div>"
      ],
      "text/plain": [
       "shape: (13_286_417, 4)\n",
       "┌───────────────┬──────────────────────────────┬────────────────────────────┬──────────────────────┐\n",
       "│ video_id      ┆ video_title                  ┆ v_pub_datetime             ┆ v_pub_datetime_right │\n",
       "│ ---           ┆ ---                          ┆ ---                        ┆ ---                  │\n",
       "│ str           ┆ str                          ┆ datetime[ns, +00:00]       ┆ str                  │\n",
       "╞═══════════════╪══════════════════════════════╪════════════════════════════╪══════════════════════╡\n",
       "│ video_0       ┆ Bonus 3-6 in 3 stars         ┆ 2023-05-05 10:43:01 +00:00 ┆ 2023-05-05 10:43:01  │\n",
       "│               ┆ (Technology…                 ┆                            ┆                      │\n",
       "│ video_1       ┆ Sean Paul feat Daddy Yankee  ┆ 2023-05-03 01:15:49 +00:00 ┆ 2023-05-03 01:15:49  │\n",
       "│               ┆ - Oh…                        ┆                            ┆                      │\n",
       "│ video_10      ┆ Пластилиновый леттеринг      ┆ 2023-05-08 15:19:34 +00:00 ┆ 2023-05-08 15:19:34  │\n",
       "│ video_100     ┆ Суп из хребтов красной рыбы  ┆ 2023-05-09 07:32:25 +00:00 ┆ 2023-05-09 07:32:25  │\n",
       "│ …             ┆ …                            ┆ …                          ┆ …                    │\n",
       "│ video_9999992 ┆ Alpinestars and Ryan         ┆ 2014-03-17 09:46:38 +00:00 ┆ 2014-03-17 09:46:38  │\n",
       "│               ┆ Villopoto I…                 ┆                            ┆                      │\n",
       "│ video_9999993 ┆ НЕ РАСТЕРЯЙ ВОСТОРГ ДУШИ     ┆ 2014-03-23 14:15:36 +00:00 ┆ 2014-03-23 14:15:36  │\n",
       "│ video_9999996 ┆ ТАНГО ЖЕЛАНИЙ                ┆ 2014-03-23 14:04:20 +00:00 ┆ 2014-03-23 14:04:20  │\n",
       "│ video_9999998 ┆ 02032014063                  ┆ 2014-03-02 17:07:21 +00:00 ┆ 2014-03-02 17:07:21  │\n",
       "└───────────────┴──────────────────────────────┴────────────────────────────┴──────────────────────┘"
      ]
     },
     "execution_count": 4,
     "metadata": {},
     "output_type": "execute_result"
    }
   ],
   "source": [
    "features = pl.read_parquet('./features.parquet', columns = ['video_id', 'v_pub_datetime']).sort('v_pub_datetime')\n",
    "features = features.unique()\n",
    "videos = pl.read_parquet('./videos.parquet', columns = ['video_id', 'video_title', 'v_pub_datetime']).sort('v_pub_datetime')\n",
    "videos = videos.join(features, on='video_id', how='left')\n",
    "videos = videos.filter((~pl.col('v_pub_datetime').is_null()) & (~pl.col('v_pub_datetime_right').is_null()))\n",
    "videos = videos.sort('video_id')\n",
    "videos"
   ]
  },
  {
   "cell_type": "code",
   "execution_count": 5,
   "id": "35008719-4e9a-454b-886f-50cce7b96d02",
   "metadata": {
    "execution": {
     "iopub.execute_input": "2023-11-25T00:28:37.324020Z",
     "iopub.status.busy": "2023-11-25T00:28:37.323277Z",
     "iopub.status.idle": "2023-11-25T00:28:37.743827Z",
     "shell.execute_reply": "2023-11-25T00:28:37.742490Z",
     "shell.execute_reply.started": "2023-11-25T00:28:37.323974Z"
    },
    "tags": []
   },
   "outputs": [
    {
     "data": {
      "text/html": [
       "<div><style>\n",
       ".dataframe > thead > tr > th,\n",
       ".dataframe > tbody > tr > td {\n",
       "  text-align: right;\n",
       "}\n",
       "</style>\n",
       "<small>shape: (5, 1)</small><table border=\"1\" class=\"dataframe\"><thead><tr><th>video_id</th></tr><tr><td>str</td></tr></thead><tbody><tr><td>&quot;video_3049590&quot;</td></tr><tr><td>&quot;video_3049590&quot;</td></tr><tr><td>&quot;video_3049590&quot;</td></tr><tr><td>&quot;video_31592942…</td></tr><tr><td>&quot;video_31592942…</td></tr></tbody></table></div>"
      ],
      "text/plain": [
       "shape: (5, 1)\n",
       "┌────────────────┐\n",
       "│ video_id       │\n",
       "│ ---            │\n",
       "│ str            │\n",
       "╞════════════════╡\n",
       "│ video_3049590  │\n",
       "│ video_3049590  │\n",
       "│ video_3049590  │\n",
       "│ video_31592942 │\n",
       "│ video_31592942 │\n",
       "└────────────────┘"
      ]
     },
     "execution_count": 5,
     "metadata": {},
     "output_type": "execute_result"
    }
   ],
   "source": [
    "automarkup = pl.read_parquet('./automarkup.parquet', columns=['video_id'])\n",
    "automarkup.head()"
   ]
  },
  {
   "cell_type": "code",
   "execution_count": 6,
   "id": "5e5cbb44-43ad-4dc9-8d45-6ef3762800f4",
   "metadata": {
    "execution": {
     "iopub.execute_input": "2023-11-25T00:28:37.746671Z",
     "iopub.status.busy": "2023-11-25T00:28:37.745447Z",
     "iopub.status.idle": "2023-11-25T00:28:40.599433Z",
     "shell.execute_reply": "2023-11-25T00:28:40.598101Z",
     "shell.execute_reply.started": "2023-11-25T00:28:37.746613Z"
    },
    "tags": []
   },
   "outputs": [
    {
     "data": {
      "text/plain": [
       "1381401"
      ]
     },
     "execution_count": 6,
     "metadata": {},
     "output_type": "execute_result"
    }
   ],
   "source": [
    "video_ids = videos[\"video_id\"].tail(1_000_000).to_list()\n",
    "video_ids += automarkup[\"video_id\"].to_list()\n",
    "video_ids = sorted(list(set(video_ids)))\n",
    "len(video_ids)"
   ]
  },
  {
   "cell_type": "code",
   "execution_count": null,
   "id": "1b3bf414-3517-40d8-ab64-d94ca01c5868",
   "metadata": {},
   "outputs": [],
   "source": [
    "sentences = np.array([title.lower().strip() for title in videos.filter(pl.col('video_id').is_in(video_ids))[\"video_title\"].to_list()])\n",
    "video_ids = np.array([title.lower().strip() for title in videos.filter(pl.col('video_id').is_in(video_ids))[\"video_id\"].to_list()])"
   ]
  },
  {
   "cell_type": "markdown",
   "id": "72f40044-ed79-4e80-9513-e518788c3319",
   "metadata": {},
   "source": [
    "# Получение векторов для названий"
   ]
  },
  {
   "cell_type": "code",
   "execution_count": 7,
   "id": "c96cdc6b-2871-440a-9da0-e52b59440954",
   "metadata": {
    "execution": {
     "iopub.execute_input": "2023-11-25T00:28:40.604980Z",
     "iopub.status.busy": "2023-11-25T00:28:40.603800Z",
     "iopub.status.idle": "2023-11-25T01:19:26.441036Z",
     "shell.execute_reply": "2023-11-25T01:19:26.439703Z",
     "shell.execute_reply.started": "2023-11-25T00:28:40.604926Z"
    },
    "tags": []
   },
   "outputs": [
    {
     "data": {
      "application/vnd.jupyter.widget-view+json": {
       "model_id": "294288e78a2b4004984ff2e624bafae5",
       "version_major": 2,
       "version_minor": 0
      },
      "text/plain": [
       "  0%|          | 0/10769 [00:00<?, ?it/s]"
      ]
     },
     "metadata": {},
     "output_type": "display_data"
    }
   ],
   "source": [
    "title_labse_768 = get_embs(\n",
    "    \"cointegrated/LaBSE-en-ru\",\n",
    "    sentences=sentences, \n",
    "    device=torch.device(\"cuda\"), \n",
    "    batch_size=128\n",
    ")"
   ]
  },
  {
   "cell_type": "code",
   "execution_count": 8,
   "id": "1b45a508-b51c-4071-8831-1411389e445c",
   "metadata": {
    "execution": {
     "iopub.execute_input": "2023-11-25T01:19:26.445315Z",
     "iopub.status.busy": "2023-11-25T01:19:26.444509Z",
     "iopub.status.idle": "2023-11-25T01:19:30.437817Z",
     "shell.execute_reply": "2023-11-25T01:19:30.436386Z",
     "shell.execute_reply.started": "2023-11-25T01:19:26.445254Z"
    },
    "tags": []
   },
   "outputs": [],
   "source": [
    "title_labse_768 = np.array(title_labse_768)"
   ]
  },
  {
   "cell_type": "markdown",
   "id": "0cd840ef-7029-470e-8b0d-7237327ea93c",
   "metadata": {},
   "source": [
    "# Построение Faiss"
   ]
  },
  {
   "cell_type": "code",
   "execution_count": 9,
   "id": "c2cb6f39-4565-41a8-b313-44ab8a816784",
   "metadata": {
    "execution": {
     "iopub.execute_input": "2023-11-25T01:19:30.440604Z",
     "iopub.status.busy": "2023-11-25T01:19:30.439364Z",
     "iopub.status.idle": "2023-11-25T01:19:34.849611Z",
     "shell.execute_reply": "2023-11-25T01:19:34.848603Z",
     "shell.execute_reply.started": "2023-11-25T01:19:30.440552Z"
    },
    "tags": []
   },
   "outputs": [],
   "source": [
    "d = 1024 # 768 \n",
    "index = faiss.IndexFlatIP(d)\n",
    "index.add(title_labse_768)"
   ]
  },
  {
   "cell_type": "code",
   "execution_count": 42,
   "id": "3dff523e-acf2-4ffe-8575-fb3f552bf546",
   "metadata": {
    "execution": {
     "iopub.execute_input": "2023-11-24T09:29:54.827989Z",
     "iopub.status.busy": "2023-11-24T09:29:54.827470Z",
     "iopub.status.idle": "2023-11-24T09:31:41.644044Z",
     "shell.execute_reply": "2023-11-24T09:31:41.642945Z",
     "shell.execute_reply.started": "2023-11-24T09:29:54.827945Z"
    },
    "tags": []
   },
   "outputs": [],
   "source": [
    "faiss.write_index(index, 'labse_candidates.index')"
   ]
  },
  {
   "cell_type": "markdown",
   "id": "9f2eb170-64a9-4b25-92c9-c69cdfe8ff3f",
   "metadata": {},
   "source": [
    "# Получение векторов для запросов"
   ]
  },
  {
   "cell_type": "code",
   "execution_count": 10,
   "id": "75c38d73-0049-4cd2-ab91-5dd677e0cd65",
   "metadata": {
    "execution": {
     "iopub.execute_input": "2023-11-25T01:19:34.852590Z",
     "iopub.status.busy": "2023-11-25T01:19:34.850891Z",
     "iopub.status.idle": "2023-11-25T01:19:41.975393Z",
     "shell.execute_reply": "2023-11-25T01:19:41.974217Z",
     "shell.execute_reply.started": "2023-11-25T01:19:34.852522Z"
    },
    "tags": []
   },
   "outputs": [],
   "source": [
    "automarkup = pl.read_parquet('./automarkup.parquet').sort('datetime')\n",
    "automarkup = automarkup.unique(subset='query', keep='last', maintain_order=True).tail(300_000)"
   ]
  },
  {
   "cell_type": "code",
   "execution_count": 11,
   "id": "f0135623-0453-4346-8ac6-df39dfe37b65",
   "metadata": {
    "execution": {
     "iopub.execute_input": "2023-11-25T01:19:41.977806Z",
     "iopub.status.busy": "2023-11-25T01:19:41.976748Z",
     "iopub.status.idle": "2023-11-25T01:26:28.142321Z",
     "shell.execute_reply": "2023-11-25T01:26:28.140804Z",
     "shell.execute_reply.started": "2023-11-25T01:19:41.977755Z"
    },
    "tags": []
   },
   "outputs": [
    {
     "data": {
      "application/vnd.jupyter.widget-view+json": {
       "model_id": "ee4e4e352cc14561aab179b11bdd4efb",
       "version_major": 2,
       "version_minor": 0
      },
      "text/plain": [
       "  0%|          | 0/2344 [00:00<?, ?it/s]"
      ]
     },
     "metadata": {},
     "output_type": "display_data"
    }
   ],
   "source": [
    "query_labse_768 = get_embs(\n",
    "    \"cointegrated/LaBSE-en-ru\",\n",
    "    sentences=[query.lower().strip() for query in automarkup[\"query\"].to_list()], \n",
    "    device=torch.device(\"cuda\"), \n",
    "    batch_size=128\n",
    ")"
   ]
  },
  {
   "cell_type": "code",
   "execution_count": 12,
   "id": "6bbd4a2c-79f6-4814-bd9f-78fa2fcaa6b9",
   "metadata": {
    "execution": {
     "iopub.execute_input": "2023-11-25T01:26:28.144886Z",
     "iopub.status.busy": "2023-11-25T01:26:28.143963Z",
     "iopub.status.idle": "2023-11-25T01:26:28.725672Z",
     "shell.execute_reply": "2023-11-25T01:26:28.723888Z",
     "shell.execute_reply.started": "2023-11-25T01:26:28.144838Z"
    },
    "tags": []
   },
   "outputs": [],
   "source": [
    "query_labse_768 = np.array(query_labse_768)"
   ]
  },
  {
   "cell_type": "code",
   "execution_count": 10,
   "id": "07f5f6a8-28a2-4e8b-95f1-43424707736b",
   "metadata": {
    "execution": {
     "iopub.execute_input": "2023-11-24T13:00:57.128820Z",
     "iopub.status.busy": "2023-11-24T13:00:57.127999Z",
     "iopub.status.idle": "2023-11-24T13:01:03.231906Z",
     "shell.execute_reply": "2023-11-24T13:01:03.230959Z",
     "shell.execute_reply.started": "2023-11-24T13:00:57.128772Z"
    },
    "tags": []
   },
   "outputs": [],
   "source": [
    "with open('query_labse_768.pickle', 'wb') as f:\n",
    "    pickle.dump(query_labse_768, f)"
   ]
  },
  {
   "cell_type": "markdown",
   "id": "bca14e03-ff72-4ea4-b855-aab55bcd628c",
   "metadata": {},
   "source": [
    "# Получение ближайших названий для запросов"
   ]
  },
  {
   "cell_type": "code",
   "execution_count": 11,
   "id": "b2f5d9f9-512c-44cf-ae5f-36cd0e866e17",
   "metadata": {
    "execution": {
     "iopub.execute_input": "2023-11-24T13:01:03.234398Z",
     "iopub.status.busy": "2023-11-24T13:01:03.233403Z",
     "iopub.status.idle": "2023-11-24T13:03:44.114817Z",
     "shell.execute_reply": "2023-11-24T13:03:44.113880Z",
     "shell.execute_reply.started": "2023-11-24T13:01:03.234341Z"
    }
   },
   "outputs": [],
   "source": [
    "index = faiss.read_index('labse_candidates.index')"
   ]
  },
  {
   "cell_type": "code",
   "execution_count": 12,
   "id": "ea341f83-7520-40a1-85b2-1615ab988bbd",
   "metadata": {
    "execution": {
     "iopub.execute_input": "2023-11-24T13:03:44.116549Z",
     "iopub.status.busy": "2023-11-24T13:03:44.115937Z",
     "iopub.status.idle": "2023-11-24T13:03:44.652427Z",
     "shell.execute_reply": "2023-11-24T13:03:44.651494Z",
     "shell.execute_reply.started": "2023-11-24T13:03:44.116504Z"
    },
    "tags": []
   },
   "outputs": [],
   "source": [
    "with open('query_labse_768.pickle', 'rb') as f:\n",
    "    query_labse_768 = pickle.load(f)"
   ]
  },
  {
   "cell_type": "code",
   "execution_count": 15,
   "id": "92bd8f2c-f08f-492a-a7de-4c53f37aeb29",
   "metadata": {
    "execution": {
     "iopub.execute_input": "2023-11-25T01:26:41.852444Z",
     "iopub.status.busy": "2023-11-25T01:26:41.851924Z",
     "iopub.status.idle": "2023-11-25T01:26:45.058752Z",
     "shell.execute_reply": "2023-11-25T01:26:45.057729Z",
     "shell.execute_reply.started": "2023-11-25T01:26:41.852413Z"
    }
   },
   "outputs": [],
   "source": [
    "res = faiss.StandardGpuResources()\n",
    "index_gpu = faiss.index_cpu_to_gpu(res, 0, index)"
   ]
  },
  {
   "cell_type": "code",
   "execution_count": 20,
   "id": "c2cd97f2-52a6-4e88-b3e6-fd861ece2cf9",
   "metadata": {
    "execution": {
     "iopub.execute_input": "2023-11-25T01:26:45.294461Z",
     "iopub.status.busy": "2023-11-25T01:26:45.293889Z",
     "iopub.status.idle": "2023-11-25T01:27:52.266419Z",
     "shell.execute_reply": "2023-11-25T01:27:52.265224Z",
     "shell.execute_reply.started": "2023-11-25T01:26:45.294412Z"
    }
   },
   "outputs": [],
   "source": [
    "D, I = index_gpu.search(query_labse_768, 100)"
   ]
  },
  {
   "cell_type": "code",
   "execution_count": null,
   "id": "918bcfe4-ef9d-484c-8abc-58245d3c283d",
   "metadata": {},
   "outputs": [],
   "source": [
    "with open('D_query_labse_768.pickle', 'wb') as f:\n",
    "    pickle.dump(D, f)\n",
    "    \n",
    "with open('I_query_labse_768.pickle', 'wb') as f:\n",
    "    pickle.dump(I, f)"
   ]
  },
  {
   "cell_type": "markdown",
   "id": "114d777b-d4ff-4ce5-856f-54ea8889d306",
   "metadata": {},
   "source": [
    "# Тестирование"
   ]
  },
  {
   "cell_type": "code",
   "execution_count": 22,
   "id": "fc5e00ab-06a9-4d95-922b-8d3e75274fc2",
   "metadata": {
    "execution": {
     "iopub.execute_input": "2023-11-25T01:36:14.081792Z",
     "iopub.status.busy": "2023-11-25T01:36:14.080913Z",
     "iopub.status.idle": "2023-11-25T01:36:22.582791Z",
     "shell.execute_reply": "2023-11-25T01:36:22.581496Z",
     "shell.execute_reply.started": "2023-11-25T01:36:14.081753Z"
    },
    "tags": []
   },
   "outputs": [
    {
     "data": {
      "application/vnd.jupyter.widget-view+json": {
       "model_id": "ba8328f18be04ae69448e64189bd9eca",
       "version_major": 2,
       "version_minor": 0
      },
      "text/plain": [
       "  0%|          | 0/300000 [00:00<?, ?it/s]"
      ]
     },
     "metadata": {},
     "output_type": "display_data"
    },
    {
     "data": {
      "text/plain": [
       "0.3381133333333333"
      ]
     },
     "execution_count": 22,
     "metadata": {},
     "output_type": "execute_result"
    }
   ],
   "source": [
    "p, q = 0, 0\n",
    "for i, video_id in enumerate(tqdm(automarkup[\"video_id\"].to_list())):\n",
    "    ids = I[i]\n",
    "    p += (video_id in video_ids[ids])\n",
    "    q += 1\n",
    "p / q # 0.34075666666666665"
   ]
  },
  {
   "cell_type": "code",
   "execution_count": 23,
   "id": "17b83a08-a2ae-4fe6-828f-d8fab457e40c",
   "metadata": {
    "execution": {
     "iopub.execute_input": "2023-11-25T01:36:22.585286Z",
     "iopub.status.busy": "2023-11-25T01:36:22.584652Z",
     "iopub.status.idle": "2023-11-25T01:36:39.025125Z",
     "shell.execute_reply": "2023-11-25T01:36:39.024019Z",
     "shell.execute_reply.started": "2023-11-25T01:36:22.585253Z"
    },
    "tags": []
   },
   "outputs": [
    {
     "data": {
      "application/vnd.jupyter.widget-view+json": {
       "model_id": "97fcc8fcdfca428fafa9d2b2e06be430",
       "version_major": 2,
       "version_minor": 0
      },
      "text/plain": [
       "  0%|          | 0/300000 [00:00<?, ?it/s]"
      ]
     },
     "metadata": {},
     "output_type": "display_data"
    },
    {
     "data": {
      "text/plain": [
       "0.1326422903107275"
      ]
     },
     "execution_count": 23,
     "metadata": {},
     "output_type": "execute_result"
    }
   ],
   "source": [
    "p, q = 0, 0\n",
    "for i, video_id in enumerate(tqdm(automarkup[\"video_id\"].to_list())):\n",
    "    ids = I[i]\n",
    "    for rank, value in enumerate(video_ids[ids]):\n",
    "        if video_id == value:\n",
    "            p += 1 / (rank + 1)\n",
    "            break\n",
    "    q += 1\n",
    "p / q # 0.11580963784777484"
   ]
  }
 ],
 "metadata": {
  "kernelspec": {
   "display_name": "DataSphere Kernel",
   "language": "python",
   "name": "python3"
  },
  "language_info": {
   "codemirror_mode": {
    "name": "ipython",
    "version": 3
   },
   "file_extension": ".py",
   "mimetype": "text/x-python",
   "name": "python",
   "nbconvert_exporter": "python",
   "pygments_lexer": "ipython3",
   "version": "3.7.7"
  }
 },
 "nbformat": 4,
 "nbformat_minor": 5
}
