{
 "cells": [
  {
   "cell_type": "markdown",
   "id": "8e2ce999-ec7c-41cb-975c-65c9bc72ede0",
   "metadata": {
    "execution": {
     "iopub.execute_input": "2023-11-25T10:11:48.576621Z",
     "iopub.status.busy": "2023-11-25T10:11:48.575826Z",
     "iopub.status.idle": "2023-11-25T10:11:48.587224Z",
     "shell.execute_reply": "2023-11-25T10:11:48.586423Z",
     "shell.execute_reply.started": "2023-11-25T10:11:48.576581Z"
    },
    "tags": []
   },
   "source": [
    "# Библиотеки"
   ]
  },
  {
   "cell_type": "code",
   "execution_count": null,
   "id": "e2871aa8-eb84-4521-97db-40c971e796cb",
   "metadata": {},
   "outputs": [],
   "source": [
    "from transformers import AutoTokenizer, AutoModel\n",
    "import torch\n",
    "from tqdm.auto import tqdm\n",
    "\n",
    "import os\n",
    "\n",
    "os.environ['TRANSFORMERS_CACHE'] = './cache/'"
   ]
  },
  {
   "cell_type": "code",
   "execution_count": null,
   "id": "c6215b42-6719-4668-a295-28602b6d0b15",
   "metadata": {},
   "outputs": [],
   "source": [
    "import faiss"
   ]
  },
  {
   "cell_type": "code",
   "execution_count": 1,
   "id": "38988020-c370-43be-b544-f13e04f932c2",
   "metadata": {
    "execution": {
     "iopub.execute_input": "2023-11-25T09:32:42.366129Z",
     "iopub.status.busy": "2023-11-25T09:32:42.365393Z",
     "iopub.status.idle": "2023-11-25T09:32:52.902446Z",
     "shell.execute_reply": "2023-11-25T09:32:52.901607Z",
     "shell.execute_reply.started": "2023-11-25T09:32:42.366090Z"
    },
    "tags": []
   },
   "outputs": [],
   "source": [
    "import gc\n",
    "import pickle\n",
    "\n",
    "import numpy as np\n",
    "import pandas as pd\n",
    "import polars as pl\n",
    "\n",
    "from catboost import CatBoostRanker, Pool\n",
    "\n",
    "from lemma import LemmaRecommender\n",
    "from semantic import SemanticRecommender"
   ]
  },
  {
   "cell_type": "markdown",
   "id": "6430904e-6ec2-45fc-9b2f-473b0fdf11bc",
   "metadata": {},
   "source": [
    "# Вспомогательные данные"
   ]
  },
  {
   "cell_type": "code",
   "execution_count": 2,
   "id": "eeefe1bb-57c1-4861-a8be-55b7f2cd10f9",
   "metadata": {
    "execution": {
     "iopub.execute_input": "2023-11-25T09:33:44.482365Z",
     "iopub.status.busy": "2023-11-25T09:33:44.481178Z",
     "iopub.status.idle": "2023-11-25T09:33:51.457955Z",
     "shell.execute_reply": "2023-11-25T09:33:51.456911Z",
     "shell.execute_reply.started": "2023-11-25T09:33:44.482309Z"
    },
    "tags": []
   },
   "outputs": [],
   "source": [
    "with open('lemma_rec_1e6.pickle', 'rb') as f:\n",
    "    lex_rec: LemmaRecommender = pickle.load(f)"
   ]
  },
  {
   "cell_type": "code",
   "execution_count": null,
   "id": "1694039c-c4ee-41a7-9316-5b7677577ead",
   "metadata": {},
   "outputs": [],
   "source": []
  },
  {
   "cell_type": "code",
   "execution_count": 4,
   "id": "0187b5c9-d807-49ed-9eaf-9ea4d1773515",
   "metadata": {
    "execution": {
     "iopub.execute_input": "2023-11-25T09:33:51.474994Z",
     "iopub.status.busy": "2023-11-25T09:33:51.474535Z",
     "iopub.status.idle": "2023-11-25T09:37:00.139507Z",
     "shell.execute_reply": "2023-11-25T09:37:00.138595Z",
     "shell.execute_reply.started": "2023-11-25T09:33:51.474953Z"
    },
    "tags": []
   },
   "outputs": [],
   "source": [
    "features = pl.read_parquet('./features.parquet', columns = ['video_id', 'v_pub_datetime']).sort('v_pub_datetime')\n",
    "features = features.unique()\n",
    "videos = pl.read_parquet('./videos.parquet', columns = ['video_id', 'video_title', 'v_pub_datetime']).sort('v_pub_datetime')\n",
    "videos = videos.join(features, on='video_id', how='left')\n",
    "videos = videos.filter((~pl.col('v_pub_datetime').is_null()) & (~pl.col('v_pub_datetime_right').is_null()))\n",
    "videos = videos.sort('video_id')"
   ]
  },
  {
   "cell_type": "code",
   "execution_count": 5,
   "id": "b772dfd7-c4de-4f64-b15c-d1ac2e79d645",
   "metadata": {
    "execution": {
     "iopub.execute_input": "2023-11-25T09:37:00.141453Z",
     "iopub.status.busy": "2023-11-25T09:37:00.140823Z",
     "iopub.status.idle": "2023-11-25T09:37:00.573743Z",
     "shell.execute_reply": "2023-11-25T09:37:00.572899Z",
     "shell.execute_reply.started": "2023-11-25T09:37:00.141410Z"
    },
    "tags": []
   },
   "outputs": [],
   "source": [
    "automarkup = pl.read_parquet('./automarkup.parquet', columns=['video_id'])"
   ]
  },
  {
   "cell_type": "code",
   "execution_count": 6,
   "id": "6d670c0a-3d54-4bda-bdd0-6f03a4567ca0",
   "metadata": {
    "execution": {
     "iopub.execute_input": "2023-11-25T09:37:00.575856Z",
     "iopub.status.busy": "2023-11-25T09:37:00.575049Z",
     "iopub.status.idle": "2023-11-25T09:37:03.140499Z",
     "shell.execute_reply": "2023-11-25T09:37:03.139668Z",
     "shell.execute_reply.started": "2023-11-25T09:37:00.575812Z"
    },
    "tags": []
   },
   "outputs": [
    {
     "data": {
      "text/plain": [
       "1381401"
      ]
     },
     "execution_count": 6,
     "metadata": {},
     "output_type": "execute_result"
    }
   ],
   "source": [
    "video_ids = videos[\"video_id\"].tail(1_000_000).to_list()\n",
    "video_ids += automarkup[\"video_id\"].to_list()\n",
    "video_ids = sorted(list(set(video_ids)))\n",
    "len(video_ids)"
   ]
  },
  {
   "cell_type": "code",
   "execution_count": 8,
   "id": "564ba66e-67c9-48bf-b0a3-5d4722453156",
   "metadata": {
    "execution": {
     "iopub.execute_input": "2023-11-25T09:37:03.159099Z",
     "iopub.status.busy": "2023-11-25T09:37:03.158340Z",
     "iopub.status.idle": "2023-11-25T09:37:26.951195Z",
     "shell.execute_reply": "2023-11-25T09:37:26.950380Z",
     "shell.execute_reply.started": "2023-11-25T09:37:03.159056Z"
    },
    "tags": []
   },
   "outputs": [
    {
     "data": {
      "application/vnd.jupyter.widget-view+json": {
       "model_id": "d9b049af11dd4c609bdf4d335c27200b",
       "version_major": 2,
       "version_minor": 0
      },
      "text/plain": [
       "tokenizer_config.json:   0%|          | 0.00/49.0 [00:00<?, ?B/s]"
      ]
     },
     "metadata": {},
     "output_type": "display_data"
    },
    {
     "data": {
      "application/vnd.jupyter.widget-view+json": {
       "model_id": "5cc740e02ab64ec5a2978fd56f2f327c",
       "version_major": 2,
       "version_minor": 0
      },
      "text/plain": [
       "config.json:   0%|          | 0.00/806 [00:00<?, ?B/s]"
      ]
     },
     "metadata": {},
     "output_type": "display_data"
    },
    {
     "data": {
      "application/vnd.jupyter.widget-view+json": {
       "model_id": "395cd3bf307744c6a9778b742280df63",
       "version_major": 2,
       "version_minor": 0
      },
      "text/plain": [
       "vocab.txt:   0%|          | 0.00/521k [00:00<?, ?B/s]"
      ]
     },
     "metadata": {},
     "output_type": "display_data"
    },
    {
     "data": {
      "application/vnd.jupyter.widget-view+json": {
       "model_id": "bf73db067697469993dcd9f0e8bb1faa",
       "version_major": 2,
       "version_minor": 0
      },
      "text/plain": [
       "special_tokens_map.json:   0%|          | 0.00/112 [00:00<?, ?B/s]"
      ]
     },
     "metadata": {},
     "output_type": "display_data"
    },
    {
     "data": {
      "application/vnd.jupyter.widget-view+json": {
       "model_id": "e4a2761bbe8344aaa5754c43b985b3c5",
       "version_major": 2,
       "version_minor": 0
      },
      "text/plain": [
       "model.safetensors:   0%|          | 0.00/516M [00:00<?, ?B/s]"
      ]
     },
     "metadata": {},
     "output_type": "display_data"
    }
   ],
   "source": [
    "device = 'cuda'\n",
    "tokenizer = AutoTokenizer.from_pretrained(\"cointegrated/LaBSE-en-ru\")\n",
    "model = AutoModel.from_pretrained(\"cointegrated/LaBSE-en-ru\").to(device)"
   ]
  },
  {
   "cell_type": "code",
   "execution_count": 9,
   "id": "3d51e824-4cc1-4794-a14c-91033244a602",
   "metadata": {
    "execution": {
     "iopub.execute_input": "2023-11-25T09:37:26.954292Z",
     "iopub.status.busy": "2023-11-25T09:37:26.953560Z",
     "iopub.status.idle": "2023-11-25T09:39:51.270308Z",
     "shell.execute_reply": "2023-11-25T09:39:51.269424Z",
     "shell.execute_reply.started": "2023-11-25T09:37:26.954246Z"
    },
    "tags": []
   },
   "outputs": [],
   "source": [
    "sem_rec = SemanticRecommender(videos.filter(pl.col('video_id').is_in(video_ids))[\"video_id\"].to_list(), faiss.read_index('labse_candidates.index'),  tokenizer, model)"
   ]
  },
  {
   "cell_type": "code",
   "execution_count": 11,
   "id": "0471d700-1608-4c60-a90e-42ed380b2524",
   "metadata": {
    "execution": {
     "iopub.execute_input": "2023-11-25T09:39:51.287237Z",
     "iopub.status.busy": "2023-11-25T09:39:51.286424Z",
     "iopub.status.idle": "2023-11-25T09:39:51.810314Z",
     "shell.execute_reply": "2023-11-25T09:39:51.809503Z",
     "shell.execute_reply.started": "2023-11-25T09:39:51.287203Z"
    },
    "tags": []
   },
   "outputs": [
    {
     "data": {
      "text/plain": [
       "1436"
      ]
     },
     "execution_count": 11,
     "metadata": {},
     "output_type": "execute_result"
    }
   ],
   "source": [
    "gc.collect()"
   ]
  },
  {
   "cell_type": "code",
   "execution_count": 12,
   "id": "70f788d4-6aa5-41a8-85b0-fea213309b78",
   "metadata": {
    "execution": {
     "iopub.execute_input": "2023-11-25T09:39:51.812307Z",
     "iopub.status.busy": "2023-11-25T09:39:51.811394Z",
     "iopub.status.idle": "2023-11-25T09:40:02.494098Z",
     "shell.execute_reply": "2023-11-25T09:40:02.493072Z",
     "shell.execute_reply.started": "2023-11-25T09:39:51.812257Z"
    },
    "tags": []
   },
   "outputs": [],
   "source": [
    "with open('I_query_labse_768.pickle', 'rb') as f:\n",
    "    I = pickle.load(f)\n",
    "    \n",
    "with open('D_query_labse_768.pickle', 'rb') as f:\n",
    "    D = pickle.load(f)"
   ]
  },
  {
   "cell_type": "markdown",
   "id": "9742c202-c769-4bef-a17d-0e1f67ff1771",
   "metadata": {},
   "source": [
    "# Данные"
   ]
  },
  {
   "cell_type": "code",
   "execution_count": 63,
   "id": "a6451a0e-0e85-4928-bc9b-295be9935152",
   "metadata": {
    "execution": {
     "iopub.execute_input": "2023-11-25T10:13:46.232460Z",
     "iopub.status.busy": "2023-11-25T10:13:46.231601Z",
     "iopub.status.idle": "2023-11-25T10:13:50.339973Z",
     "shell.execute_reply": "2023-11-25T10:13:50.339179Z",
     "shell.execute_reply.started": "2023-11-25T10:13:46.232415Z"
    },
    "tags": []
   },
   "outputs": [
    {
     "data": {
      "text/html": [
       "<div><style>\n",
       ".dataframe > thead > tr > th,\n",
       ".dataframe > tbody > tr > td {\n",
       "  text-align: right;\n",
       "}\n",
       "</style>\n",
       "<small>shape: (5, 29)</small><table border=\"1\" class=\"dataframe\"><thead><tr><th>video_id</th><th>report_date</th><th>v_channel_reg_datetime</th><th>v_channel_type</th><th>v_category</th><th>v_pub_datetime</th><th>total_comments</th><th>v_year_views</th><th>v_month_views</th><th>v_week_views</th><th>v_day_views</th><th>v_likes</th><th>v_dislikes</th><th>v_duration</th><th>v_cr_click_like_7_days</th><th>v_cr_click_dislike_7_days</th><th>v_cr_click_vtop_7_days</th><th>v_cr_click_long_view_7_days</th><th>v_cr_click_comment_7_days</th><th>v_cr_click_like_30_days</th><th>v_cr_click_dislike_30_days</th><th>v_cr_click_vtop_30_days</th><th>v_cr_click_long_view_30_days</th><th>v_cr_click_comment_30_days</th><th>v_cr_click_like_1_days</th><th>v_cr_click_dislike_1_days</th><th>v_cr_click_vtop_1_days</th><th>v_cr_click_long_view_1_days</th><th>v_cr_click_comment_1_days</th></tr><tr><td>str</td><td>str</td><td>str</td><td>str</td><td>str</td><td>str</td><td>i64</td><td>i64</td><td>i64</td><td>i64</td><td>i64</td><td>i64</td><td>i64</td><td>i64</td><td>f64</td><td>f64</td><td>f64</td><td>f64</td><td>f64</td><td>f64</td><td>f64</td><td>f64</td><td>f64</td><td>f64</td><td>f64</td><td>f64</td><td>f64</td><td>f64</td><td>f64</td></tr></thead><tbody><tr><td>&quot;video_29980905…</td><td>&quot;2023-11-02&quot;</td><td>&quot;2023-08-07 09:…</td><td>&quot;UGC&quot;</td><td>&quot;Разное&quot;</td><td>&quot;2023-08-19 17:…</td><td>0</td><td>1</td><td>0</td><td>0</td><td>0</td><td>0</td><td>0</td><td>66154</td><td>0.0</td><td>0.0</td><td>0.0</td><td>0.0</td><td>0.0</td><td>0.0</td><td>0.0</td><td>0.0</td><td>0.0</td><td>0.0</td><td>0.0</td><td>0.0</td><td>0.0</td><td>0.0</td><td>0.0</td></tr><tr><td>&quot;video_15248440…</td><td>&quot;2023-11-02&quot;</td><td>&quot;2023-09-29 10:…</td><td>&quot;UGC&quot;</td><td>&quot;Разное&quot;</td><td>&quot;2023-10-05 13:…</td><td>0</td><td>2</td><td>2</td><td>1</td><td>1</td><td>0</td><td>0</td><td>248315</td><td>0.0</td><td>0.0</td><td>0.0</td><td>1.0</td><td>0.0</td><td>0.0</td><td>0.0</td><td>0.0</td><td>0.5</td><td>0.0</td><td>0.0</td><td>0.0</td><td>0.0</td><td>1.0</td><td>0.0</td></tr><tr><td>&quot;video_26882913…</td><td>&quot;2023-11-02&quot;</td><td>&quot;2022-03-11 06:…</td><td>&quot;UGC&quot;</td><td>&quot;Видеоигры&quot;</td><td>&quot;2023-04-25 13:…</td><td>0</td><td>3</td><td>0</td><td>0</td><td>0</td><td>0</td><td>0</td><td>935936</td><td>0.0</td><td>0.0</td><td>0.0</td><td>0.0</td><td>0.0</td><td>0.0</td><td>0.0</td><td>0.0</td><td>0.0</td><td>0.0</td><td>0.0</td><td>0.0</td><td>0.0</td><td>0.0</td><td>0.0</td></tr><tr><td>&quot;video_30857849…</td><td>&quot;2023-11-02&quot;</td><td>&quot;2022-03-22 11:…</td><td>&quot;UGC&quot;</td><td>&quot;Авто-мото&quot;</td><td>&quot;2022-03-22 11:…</td><td>0</td><td>1</td><td>0</td><td>0</td><td>0</td><td>0</td><td>0</td><td>10000</td><td>0.0</td><td>0.0</td><td>0.0</td><td>0.0</td><td>0.0</td><td>0.0</td><td>0.0</td><td>0.0</td><td>0.0</td><td>0.0</td><td>0.0</td><td>0.0</td><td>0.0</td><td>0.0</td><td>0.0</td></tr><tr><td>&quot;video_9173713&quot;</td><td>&quot;2023-11-02&quot;</td><td>&quot;2022-03-15 13:…</td><td>&quot;UGC&quot;</td><td>&quot;Строительство …</td><td>&quot;2023-05-15 13:…</td><td>0</td><td>1</td><td>0</td><td>0</td><td>0</td><td>0</td><td>0</td><td>170853</td><td>0.0</td><td>0.0</td><td>0.0</td><td>0.0</td><td>0.0</td><td>0.0</td><td>0.0</td><td>0.0</td><td>0.0</td><td>0.0</td><td>0.0</td><td>0.0</td><td>0.0</td><td>0.0</td><td>0.0</td></tr></tbody></table></div>"
      ],
      "text/plain": [
       "shape: (5, 29)\n",
       "┌────┬───────────┬────────────┬────────────┬───┬────────────┬────────────┬────────────┬────────────┐\n",
       "│ vi ┆ report_da ┆ v_channel_ ┆ v_channel_ ┆ … ┆ v_cr_click ┆ v_cr_click ┆ v_cr_click ┆ v_cr_click │\n",
       "│ de ┆ te        ┆ reg_dateti ┆ type       ┆   ┆ _dislike_1 ┆ _vtop_1_da ┆ _long_view ┆ _comment_1 │\n",
       "│ o_ ┆ ---       ┆ me         ┆ ---        ┆   ┆ _days      ┆ ys         ┆ _1_days    ┆ _days      │\n",
       "│ id ┆ str       ┆ ---        ┆ str        ┆   ┆ ---        ┆ ---        ┆ ---        ┆ ---        │\n",
       "│ -- ┆           ┆ str        ┆            ┆   ┆ f64        ┆ f64        ┆ f64        ┆ f64        │\n",
       "│ -  ┆           ┆            ┆            ┆   ┆            ┆            ┆            ┆            │\n",
       "│ st ┆           ┆            ┆            ┆   ┆            ┆            ┆            ┆            │\n",
       "│ r  ┆           ┆            ┆            ┆   ┆            ┆            ┆            ┆            │\n",
       "╞════╪═══════════╪════════════╪════════════╪═══╪════════════╪════════════╪════════════╪════════════╡\n",
       "│ vi ┆ 2023-11-0 ┆ 2023-08-07 ┆ UGC        ┆ … ┆ 0.0        ┆ 0.0        ┆ 0.0        ┆ 0.0        │\n",
       "│ de ┆ 2         ┆ 09:28:27   ┆            ┆   ┆            ┆            ┆            ┆            │\n",
       "│ o_ ┆           ┆            ┆            ┆   ┆            ┆            ┆            ┆            │\n",
       "│ 29 ┆           ┆            ┆            ┆   ┆            ┆            ┆            ┆            │\n",
       "│ 98 ┆           ┆            ┆            ┆   ┆            ┆            ┆            ┆            │\n",
       "│ 09 ┆           ┆            ┆            ┆   ┆            ┆            ┆            ┆            │\n",
       "│ 05 ┆           ┆            ┆            ┆   ┆            ┆            ┆            ┆            │\n",
       "│ vi ┆ 2023-11-0 ┆ 2023-09-29 ┆ UGC        ┆ … ┆ 0.0        ┆ 0.0        ┆ 1.0        ┆ 0.0        │\n",
       "│ de ┆ 2         ┆ 10:20:17   ┆            ┆   ┆            ┆            ┆            ┆            │\n",
       "│ o_ ┆           ┆            ┆            ┆   ┆            ┆            ┆            ┆            │\n",
       "│ 15 ┆           ┆            ┆            ┆   ┆            ┆            ┆            ┆            │\n",
       "│ 24 ┆           ┆            ┆            ┆   ┆            ┆            ┆            ┆            │\n",
       "│ 84 ┆           ┆            ┆            ┆   ┆            ┆            ┆            ┆            │\n",
       "│ 40 ┆           ┆            ┆            ┆   ┆            ┆            ┆            ┆            │\n",
       "│ vi ┆ 2023-11-0 ┆ 2022-03-11 ┆ UGC        ┆ … ┆ 0.0        ┆ 0.0        ┆ 0.0        ┆ 0.0        │\n",
       "│ de ┆ 2         ┆ 06:43:22   ┆            ┆   ┆            ┆            ┆            ┆            │\n",
       "│ o_ ┆           ┆            ┆            ┆   ┆            ┆            ┆            ┆            │\n",
       "│ 26 ┆           ┆            ┆            ┆   ┆            ┆            ┆            ┆            │\n",
       "│ 88 ┆           ┆            ┆            ┆   ┆            ┆            ┆            ┆            │\n",
       "│ 29 ┆           ┆            ┆            ┆   ┆            ┆            ┆            ┆            │\n",
       "│ 13 ┆           ┆            ┆            ┆   ┆            ┆            ┆            ┆            │\n",
       "│ vi ┆ 2023-11-0 ┆ 2022-03-22 ┆ UGC        ┆ … ┆ 0.0        ┆ 0.0        ┆ 0.0        ┆ 0.0        │\n",
       "│ de ┆ 2         ┆ 11:09:45   ┆            ┆   ┆            ┆            ┆            ┆            │\n",
       "│ o_ ┆           ┆            ┆            ┆   ┆            ┆            ┆            ┆            │\n",
       "│ 30 ┆           ┆            ┆            ┆   ┆            ┆            ┆            ┆            │\n",
       "│ 85 ┆           ┆            ┆            ┆   ┆            ┆            ┆            ┆            │\n",
       "│ 78 ┆           ┆            ┆            ┆   ┆            ┆            ┆            ┆            │\n",
       "│ 49 ┆           ┆            ┆            ┆   ┆            ┆            ┆            ┆            │\n",
       "│ vi ┆ 2023-11-0 ┆ 2022-03-15 ┆ UGC        ┆ … ┆ 0.0        ┆ 0.0        ┆ 0.0        ┆ 0.0        │\n",
       "│ de ┆ 2         ┆ 13:22:52   ┆            ┆   ┆            ┆            ┆            ┆            │\n",
       "│ o_ ┆           ┆            ┆            ┆   ┆            ┆            ┆            ┆            │\n",
       "│ 91 ┆           ┆            ┆            ┆   ┆            ┆            ┆            ┆            │\n",
       "│ 73 ┆           ┆            ┆            ┆   ┆            ┆            ┆            ┆            │\n",
       "│ 71 ┆           ┆            ┆            ┆   ┆            ┆            ┆            ┆            │\n",
       "│ 3  ┆           ┆            ┆            ┆   ┆            ┆            ┆            ┆            │\n",
       "└────┴───────────┴────────────┴────────────┴───┴────────────┴────────────┴────────────┴────────────┘"
      ]
     },
     "execution_count": 63,
     "metadata": {},
     "output_type": "execute_result"
    }
   ],
   "source": [
    "features = pl.read_parquet('./features_nov.parquet')  # .sort('report_date')\n",
    "features.head()"
   ]
  },
  {
   "cell_type": "code",
   "execution_count": 64,
   "id": "67543e0e-35e0-4f0a-9c9e-b639f10655db",
   "metadata": {
    "execution": {
     "iopub.execute_input": "2023-11-25T10:13:52.069811Z",
     "iopub.status.busy": "2023-11-25T10:13:52.068907Z",
     "iopub.status.idle": "2023-11-25T10:13:54.231757Z",
     "shell.execute_reply": "2023-11-25T10:13:54.230876Z",
     "shell.execute_reply.started": "2023-11-25T10:13:52.069755Z"
    },
    "tags": []
   },
   "outputs": [],
   "source": [
    "for dtype, col in zip(features.dtypes, features.columns):\n",
    "    if dtype == pl.Int64:\n",
    "        features = features.with_columns(features[col].cast(pl.Int32))\n",
    "    if dtype == pl.Float64:\n",
    "        features = features.with_columns(features[col].cast(pl.Float32))"
   ]
  },
  {
   "cell_type": "code",
   "execution_count": 65,
   "id": "4ffe2a1c-d93d-4e4c-badd-468fccea1271",
   "metadata": {
    "execution": {
     "iopub.execute_input": "2023-11-25T10:13:54.233750Z",
     "iopub.status.busy": "2023-11-25T10:13:54.232977Z",
     "iopub.status.idle": "2023-11-25T10:13:54.253190Z",
     "shell.execute_reply": "2023-11-25T10:13:54.252447Z",
     "shell.execute_reply.started": "2023-11-25T10:13:54.233697Z"
    },
    "tags": []
   },
   "outputs": [
    {
     "data": {
      "text/html": [
       "<div><style>\n",
       ".dataframe > thead > tr > th,\n",
       ".dataframe > tbody > tr > td {\n",
       "  text-align: right;\n",
       "}\n",
       "</style>\n",
       "<small>shape: (5, 29)</small><table border=\"1\" class=\"dataframe\"><thead><tr><th>video_id</th><th>report_date</th><th>v_channel_reg_datetime</th><th>v_channel_type</th><th>v_category</th><th>v_pub_datetime</th><th>total_comments</th><th>v_year_views</th><th>v_month_views</th><th>v_week_views</th><th>v_day_views</th><th>v_likes</th><th>v_dislikes</th><th>v_duration</th><th>v_cr_click_like_7_days</th><th>v_cr_click_dislike_7_days</th><th>v_cr_click_vtop_7_days</th><th>v_cr_click_long_view_7_days</th><th>v_cr_click_comment_7_days</th><th>v_cr_click_like_30_days</th><th>v_cr_click_dislike_30_days</th><th>v_cr_click_vtop_30_days</th><th>v_cr_click_long_view_30_days</th><th>v_cr_click_comment_30_days</th><th>v_cr_click_like_1_days</th><th>v_cr_click_dislike_1_days</th><th>v_cr_click_vtop_1_days</th><th>v_cr_click_long_view_1_days</th><th>v_cr_click_comment_1_days</th></tr><tr><td>str</td><td>str</td><td>str</td><td>str</td><td>str</td><td>str</td><td>i32</td><td>i32</td><td>i32</td><td>i32</td><td>i32</td><td>i32</td><td>i32</td><td>i32</td><td>f32</td><td>f32</td><td>f32</td><td>f32</td><td>f32</td><td>f32</td><td>f32</td><td>f32</td><td>f32</td><td>f32</td><td>f32</td><td>f32</td><td>f32</td><td>f32</td><td>f32</td></tr></thead><tbody><tr><td>&quot;video_29980905…</td><td>&quot;2023-11-02&quot;</td><td>&quot;2023-08-07 09:…</td><td>&quot;UGC&quot;</td><td>&quot;Разное&quot;</td><td>&quot;2023-08-19 17:…</td><td>0</td><td>1</td><td>0</td><td>0</td><td>0</td><td>0</td><td>0</td><td>66154</td><td>0.0</td><td>0.0</td><td>0.0</td><td>0.0</td><td>0.0</td><td>0.0</td><td>0.0</td><td>0.0</td><td>0.0</td><td>0.0</td><td>0.0</td><td>0.0</td><td>0.0</td><td>0.0</td><td>0.0</td></tr><tr><td>&quot;video_15248440…</td><td>&quot;2023-11-02&quot;</td><td>&quot;2023-09-29 10:…</td><td>&quot;UGC&quot;</td><td>&quot;Разное&quot;</td><td>&quot;2023-10-05 13:…</td><td>0</td><td>2</td><td>2</td><td>1</td><td>1</td><td>0</td><td>0</td><td>248315</td><td>0.0</td><td>0.0</td><td>0.0</td><td>1.0</td><td>0.0</td><td>0.0</td><td>0.0</td><td>0.0</td><td>0.5</td><td>0.0</td><td>0.0</td><td>0.0</td><td>0.0</td><td>1.0</td><td>0.0</td></tr><tr><td>&quot;video_26882913…</td><td>&quot;2023-11-02&quot;</td><td>&quot;2022-03-11 06:…</td><td>&quot;UGC&quot;</td><td>&quot;Видеоигры&quot;</td><td>&quot;2023-04-25 13:…</td><td>0</td><td>3</td><td>0</td><td>0</td><td>0</td><td>0</td><td>0</td><td>935936</td><td>0.0</td><td>0.0</td><td>0.0</td><td>0.0</td><td>0.0</td><td>0.0</td><td>0.0</td><td>0.0</td><td>0.0</td><td>0.0</td><td>0.0</td><td>0.0</td><td>0.0</td><td>0.0</td><td>0.0</td></tr><tr><td>&quot;video_30857849…</td><td>&quot;2023-11-02&quot;</td><td>&quot;2022-03-22 11:…</td><td>&quot;UGC&quot;</td><td>&quot;Авто-мото&quot;</td><td>&quot;2022-03-22 11:…</td><td>0</td><td>1</td><td>0</td><td>0</td><td>0</td><td>0</td><td>0</td><td>10000</td><td>0.0</td><td>0.0</td><td>0.0</td><td>0.0</td><td>0.0</td><td>0.0</td><td>0.0</td><td>0.0</td><td>0.0</td><td>0.0</td><td>0.0</td><td>0.0</td><td>0.0</td><td>0.0</td><td>0.0</td></tr><tr><td>&quot;video_9173713&quot;</td><td>&quot;2023-11-02&quot;</td><td>&quot;2022-03-15 13:…</td><td>&quot;UGC&quot;</td><td>&quot;Строительство …</td><td>&quot;2023-05-15 13:…</td><td>0</td><td>1</td><td>0</td><td>0</td><td>0</td><td>0</td><td>0</td><td>170853</td><td>0.0</td><td>0.0</td><td>0.0</td><td>0.0</td><td>0.0</td><td>0.0</td><td>0.0</td><td>0.0</td><td>0.0</td><td>0.0</td><td>0.0</td><td>0.0</td><td>0.0</td><td>0.0</td><td>0.0</td></tr></tbody></table></div>"
      ],
      "text/plain": [
       "shape: (5, 29)\n",
       "┌────┬───────────┬────────────┬────────────┬───┬────────────┬────────────┬────────────┬────────────┐\n",
       "│ vi ┆ report_da ┆ v_channel_ ┆ v_channel_ ┆ … ┆ v_cr_click ┆ v_cr_click ┆ v_cr_click ┆ v_cr_click │\n",
       "│ de ┆ te        ┆ reg_dateti ┆ type       ┆   ┆ _dislike_1 ┆ _vtop_1_da ┆ _long_view ┆ _comment_1 │\n",
       "│ o_ ┆ ---       ┆ me         ┆ ---        ┆   ┆ _days      ┆ ys         ┆ _1_days    ┆ _days      │\n",
       "│ id ┆ str       ┆ ---        ┆ str        ┆   ┆ ---        ┆ ---        ┆ ---        ┆ ---        │\n",
       "│ -- ┆           ┆ str        ┆            ┆   ┆ f32        ┆ f32        ┆ f32        ┆ f32        │\n",
       "│ -  ┆           ┆            ┆            ┆   ┆            ┆            ┆            ┆            │\n",
       "│ st ┆           ┆            ┆            ┆   ┆            ┆            ┆            ┆            │\n",
       "│ r  ┆           ┆            ┆            ┆   ┆            ┆            ┆            ┆            │\n",
       "╞════╪═══════════╪════════════╪════════════╪═══╪════════════╪════════════╪════════════╪════════════╡\n",
       "│ vi ┆ 2023-11-0 ┆ 2023-08-07 ┆ UGC        ┆ … ┆ 0.0        ┆ 0.0        ┆ 0.0        ┆ 0.0        │\n",
       "│ de ┆ 2         ┆ 09:28:27   ┆            ┆   ┆            ┆            ┆            ┆            │\n",
       "│ o_ ┆           ┆            ┆            ┆   ┆            ┆            ┆            ┆            │\n",
       "│ 29 ┆           ┆            ┆            ┆   ┆            ┆            ┆            ┆            │\n",
       "│ 98 ┆           ┆            ┆            ┆   ┆            ┆            ┆            ┆            │\n",
       "│ 09 ┆           ┆            ┆            ┆   ┆            ┆            ┆            ┆            │\n",
       "│ 05 ┆           ┆            ┆            ┆   ┆            ┆            ┆            ┆            │\n",
       "│ vi ┆ 2023-11-0 ┆ 2023-09-29 ┆ UGC        ┆ … ┆ 0.0        ┆ 0.0        ┆ 1.0        ┆ 0.0        │\n",
       "│ de ┆ 2         ┆ 10:20:17   ┆            ┆   ┆            ┆            ┆            ┆            │\n",
       "│ o_ ┆           ┆            ┆            ┆   ┆            ┆            ┆            ┆            │\n",
       "│ 15 ┆           ┆            ┆            ┆   ┆            ┆            ┆            ┆            │\n",
       "│ 24 ┆           ┆            ┆            ┆   ┆            ┆            ┆            ┆            │\n",
       "│ 84 ┆           ┆            ┆            ┆   ┆            ┆            ┆            ┆            │\n",
       "│ 40 ┆           ┆            ┆            ┆   ┆            ┆            ┆            ┆            │\n",
       "│ vi ┆ 2023-11-0 ┆ 2022-03-11 ┆ UGC        ┆ … ┆ 0.0        ┆ 0.0        ┆ 0.0        ┆ 0.0        │\n",
       "│ de ┆ 2         ┆ 06:43:22   ┆            ┆   ┆            ┆            ┆            ┆            │\n",
       "│ o_ ┆           ┆            ┆            ┆   ┆            ┆            ┆            ┆            │\n",
       "│ 26 ┆           ┆            ┆            ┆   ┆            ┆            ┆            ┆            │\n",
       "│ 88 ┆           ┆            ┆            ┆   ┆            ┆            ┆            ┆            │\n",
       "│ 29 ┆           ┆            ┆            ┆   ┆            ┆            ┆            ┆            │\n",
       "│ 13 ┆           ┆            ┆            ┆   ┆            ┆            ┆            ┆            │\n",
       "│ vi ┆ 2023-11-0 ┆ 2022-03-22 ┆ UGC        ┆ … ┆ 0.0        ┆ 0.0        ┆ 0.0        ┆ 0.0        │\n",
       "│ de ┆ 2         ┆ 11:09:45   ┆            ┆   ┆            ┆            ┆            ┆            │\n",
       "│ o_ ┆           ┆            ┆            ┆   ┆            ┆            ┆            ┆            │\n",
       "│ 30 ┆           ┆            ┆            ┆   ┆            ┆            ┆            ┆            │\n",
       "│ 85 ┆           ┆            ┆            ┆   ┆            ┆            ┆            ┆            │\n",
       "│ 78 ┆           ┆            ┆            ┆   ┆            ┆            ┆            ┆            │\n",
       "│ 49 ┆           ┆            ┆            ┆   ┆            ┆            ┆            ┆            │\n",
       "│ vi ┆ 2023-11-0 ┆ 2022-03-15 ┆ UGC        ┆ … ┆ 0.0        ┆ 0.0        ┆ 0.0        ┆ 0.0        │\n",
       "│ de ┆ 2         ┆ 13:22:52   ┆            ┆   ┆            ┆            ┆            ┆            │\n",
       "│ o_ ┆           ┆            ┆            ┆   ┆            ┆            ┆            ┆            │\n",
       "│ 91 ┆           ┆            ┆            ┆   ┆            ┆            ┆            ┆            │\n",
       "│ 73 ┆           ┆            ┆            ┆   ┆            ┆            ┆            ┆            │\n",
       "│ 71 ┆           ┆            ┆            ┆   ┆            ┆            ┆            ┆            │\n",
       "│ 3  ┆           ┆            ┆            ┆   ┆            ┆            ┆            ┆            │\n",
       "└────┴───────────┴────────────┴────────────┴───┴────────────┴────────────┴────────────┴────────────┘"
      ]
     },
     "execution_count": 65,
     "metadata": {},
     "output_type": "execute_result"
    }
   ],
   "source": [
    "features.head()"
   ]
  },
  {
   "cell_type": "code",
   "execution_count": null,
   "id": "fef6cb55-010f-4e4f-9814-a78fee7dddff",
   "metadata": {
    "execution": {
     "iopub.execute_input": "2023-11-25T10:13:54.255998Z",
     "iopub.status.busy": "2023-11-25T10:13:54.255128Z"
    },
    "tags": []
   },
   "outputs": [],
   "source": [
    "v_channel_reg_datetime = features[\"v_channel_reg_datetime\"].to_pandas()\n",
    "v_pub_datetime = features[\"v_pub_datetime\"].to_pandas()"
   ]
  },
  {
   "cell_type": "code",
   "execution_count": null,
   "id": "ab086098-3d75-4ecf-9851-dbeb06549c95",
   "metadata": {
    "tags": []
   },
   "outputs": [],
   "source": [
    "v_channel_reg_datetime_ind = (pd.to_datetime(v_channel_reg_datetime) - pd.Timestamp(year=2010, month=1, day=1)).dt.days\n",
    "v_pub_datetime_ind = (pd.to_datetime(v_pub_datetime) - pd.Timestamp(year=2010, month=1, day=1)).dt.days"
   ]
  },
  {
   "cell_type": "code",
   "execution_count": null,
   "id": "7264c328-4dad-4ee5-a0e4-ad76015c2ce2",
   "metadata": {
    "tags": []
   },
   "outputs": [],
   "source": [
    "features = features.with_columns(v_channel_reg_datetime_ind=pl.Series(v_channel_reg_datetime_ind), v_pub_datetime_ind=pl.Series(v_pub_datetime_ind))"
   ]
  },
  {
   "cell_type": "code",
   "execution_count": null,
   "id": "4a1bd7ce-f7f0-4428-801f-77ad39da1618",
   "metadata": {
    "tags": []
   },
   "outputs": [],
   "source": [
    "features = features.drop(['report_date', 'v_channel_reg_datetime', 'v_pub_datetime']).unique(subset='video_id', keep='last')\n",
    "features.head()"
   ]
  },
  {
   "cell_type": "code",
   "execution_count": 20,
   "id": "b5c25b67-3e9b-4590-99cd-f778fdb2942f",
   "metadata": {
    "execution": {
     "iopub.execute_input": "2023-11-25T09:40:50.089090Z",
     "iopub.status.busy": "2023-11-25T09:40:50.088332Z",
     "iopub.status.idle": "2023-11-25T09:40:56.667620Z",
     "shell.execute_reply": "2023-11-25T09:40:56.666734Z",
     "shell.execute_reply.started": "2023-11-25T09:40:50.089043Z"
    },
    "tags": []
   },
   "outputs": [
    {
     "data": {
      "text/html": [
       "<div><style>\n",
       ".dataframe > thead > tr > th,\n",
       ".dataframe > tbody > tr > td {\n",
       "  text-align: right;\n",
       "}\n",
       "</style>\n",
       "<small>shape: (6234424, 13)</small><table border=\"1\" class=\"dataframe\"><thead><tr><th>is_authorized</th><th>datetime</th><th>query</th><th>video_id</th><th>duration</th><th>position</th><th>watchtime</th><th>emotion</th><th>vtop</th><th>comment</th><th>channel</th><th>tv_show</th><th>season</th></tr><tr><td>bool</td><td>str</td><td>str</td><td>str</td><td>i64</td><td>f64</td><td>i64</td><td>i64</td><td>bool</td><td>i64</td><td>str</td><td>str</td><td>str</td></tr></thead><tbody><tr><td>false</td><td>&quot;2023-05-03 00:…</td><td>&quot;битва экстрасе…</td><td>&quot;video_26455637…</td><td>4283080</td><td>2.0</td><td>0</td><td>0</td><td>null</td><td>0</td><td>&quot;Телеканал ТНТ&quot;</td><td>&quot;Новая битва эк…</td><td>null</td></tr><tr><td>false</td><td>&quot;2023-05-03 00:…</td><td>&quot; шоу импровеза…</td><td>&quot;video_16872535…</td><td>2752000</td><td>1.0</td><td>52</td><td>0</td><td>null</td><td>0</td><td>&quot;Импровизация&quot;</td><td>&quot;Импровизация&quot;</td><td>&quot;Сезон 1&quot;</td></tr><tr><td>false</td><td>&quot;2023-05-03 00:…</td><td>&quot;Звезды в Африк…</td><td>&quot;video_22077053…</td><td>5401240</td><td>2.0</td><td>2602</td><td>0</td><td>null</td><td>0</td><td>&quot;Телеканал ТНТ&quot;</td><td>&quot;Новые звезды в…</td><td>null</td></tr><tr><td>false</td><td>&quot;2023-05-03 00:…</td><td>&quot;Женский камерн…</td><td>&quot;video_34215629…</td><td>167234</td><td>10.0</td><td>0</td><td>0</td><td>null</td><td>0</td><td>&quot;Мой Зеленоград…</td><td>null</td><td>null</td></tr><tr><td>false</td><td>&quot;2023-05-03 00:…</td><td>&quot;«Отставник-3» …</td><td>&quot;video_33416258…</td><td>5452000</td><td>2.0</td><td>5350</td><td>0</td><td>null</td><td>0</td><td>&quot;НТВ&quot;</td><td>null</td><td>null</td></tr><tr><td>false</td><td>&quot;2023-05-03 00:…</td><td>&quot;бригада 2 сери…</td><td>&quot;video_32064413…</td><td>3155356</td><td>1.0</td><td>2903</td><td>0</td><td>null</td><td>0</td><td>&quot;Алексей Невски…</td><td>null</td><td>null</td></tr><tr><td>false</td><td>&quot;2023-05-03 00:…</td><td>&quot;звезды в африк…</td><td>&quot;video_29354050…</td><td>5597534</td><td>1.0</td><td>0</td><td>0</td><td>null</td><td>0</td><td>&quot;Телеканал ТНТ&quot;</td><td>&quot;Новые звезды в…</td><td>null</td></tr><tr><td>false</td><td>&quot;2023-05-03 00:…</td><td>&quot;Битва экстрасе…</td><td>&quot;video_8087432&quot;</td><td>5489400</td><td>1.0</td><td>155</td><td>0</td><td>null</td><td>0</td><td>&quot;Телеканал ТНТ&quot;</td><td>&quot;Экстрасенсы. Б…</td><td>null</td></tr><tr><td>false</td><td>&quot;2023-05-03 00:…</td><td>&quot;взрослые игры …</td><td>&quot;video_8601875&quot;</td><td>2568067</td><td>1.0</td><td>2512</td><td>0</td><td>null</td><td>0</td><td>&quot;Первый канал&quot;</td><td>&quot;Мужское / Женс…</td><td>&quot;Сезон&quot;</td></tr><tr><td>false</td><td>&quot;2023-05-03 00:…</td><td>&quot;На западе ниче…</td><td>&quot;video_30121652…</td><td>80014</td><td>27.0</td><td>41</td><td>0</td><td>null</td><td>0</td><td>&quot;Спортивно-разв…</td><td>null</td><td>null</td></tr><tr><td>false</td><td>&quot;2023-05-03 00:…</td><td>&quot;Битва сильнейш…</td><td>&quot;video_7472050&quot;</td><td>4363534</td><td>1.0</td><td>590</td><td>0</td><td>null</td><td>0</td><td>&quot;Телеканал ТНТ&quot;</td><td>&quot;Экстрасенсы. Б…</td><td>null</td></tr><tr><td>false</td><td>&quot;2023-05-03 00:…</td><td>&quot;Аваьар 9&quot;</td><td>&quot;video_30784815…</td><td>8872854</td><td>1.0</td><td>22</td><td>0</td><td>null</td><td>0</td><td>&quot;НТВ&quot;</td><td>null</td><td>null</td></tr><tr><td>&hellip;</td><td>&hellip;</td><td>&hellip;</td><td>&hellip;</td><td>&hellip;</td><td>&hellip;</td><td>&hellip;</td><td>&hellip;</td><td>&hellip;</td><td>&hellip;</td><td>&hellip;</td><td>&hellip;</td><td>&hellip;</td></tr><tr><td>false</td><td>&quot;2023-11-03 23:…</td><td>&quot;мужское женско…</td><td>&quot;video_27443506…</td><td>2390209</td><td>2.0</td><td>42</td><td>0</td><td>null</td><td>0</td><td>&quot;Первый канал&quot;</td><td>&quot;Мужское / Женс…</td><td>&quot;Сезон&quot;</td></tr><tr><td>false</td><td>&quot;2023-11-03 23:…</td><td>&quot;фиксики часики…</td><td>&quot;video_9868472&quot;</td><td>162029</td><td>3.0</td><td>31</td><td>0</td><td>null</td><td>0</td><td>&quot;Идеальная прич…</td><td>null</td><td>null</td></tr><tr><td>false</td><td>&quot;2023-11-03 23:…</td><td>&quot;мужское женско…</td><td>&quot;video_25462140…</td><td>2394176</td><td>3.0</td><td>12</td><td>0</td><td>null</td><td>0</td><td>&quot;Первый канал&quot;</td><td>&quot;Мужское / Женс…</td><td>&quot;Сезон&quot;</td></tr><tr><td>false</td><td>&quot;2023-11-03 23:…</td><td>&quot;bitva ekstrase…</td><td>&quot;video_25347986…</td><td>7049200</td><td>1.0</td><td>0</td><td>0</td><td>null</td><td>0</td><td>&quot;Телеканал ТНТ&quot;</td><td>&quot;Экстрасенсы. Б…</td><td>null</td></tr><tr><td>false</td><td>&quot;2023-11-03 23:…</td><td>&quot;экстра такси&quot;</td><td>&quot;video_12944943…</td><td>1622360</td><td>1.0</td><td>1</td><td>0</td><td>null</td><td>0</td><td>&quot;Телеканал ТВ-3…</td><td>&quot;ЭКСТРА Такси&quot;</td><td>null</td></tr><tr><td>false</td><td>&quot;2023-11-03 23:…</td><td>&quot;Открытый микро…</td><td>&quot;video_32457371…</td><td>2804139</td><td>1.0</td><td>1</td><td>0</td><td>null</td><td>0</td><td>&quot;Телеканал ТНТ&quot;</td><td>&quot;Открытый микро…</td><td>null</td></tr><tr><td>false</td><td>&quot;2023-11-03 23:…</td><td>&quot;Морские дьявол…</td><td>&quot;video_7827289&quot;</td><td>2966048</td><td>2.0</td><td>-1</td><td>0</td><td>null</td><td>0</td><td>&quot;НТВ&quot;</td><td>null</td><td>null</td></tr><tr><td>false</td><td>&quot;2023-11-03 23:…</td><td>&quot;Последний геро…</td><td>&quot;video_17629988…</td><td>5899000</td><td>1.0</td><td>2</td><td>0</td><td>null</td><td>0</td><td>&quot;Телеканал ТВ-3…</td><td>&quot;Последний геро…</td><td>&quot;Сезон 1&quot;</td></tr><tr><td>false</td><td>&quot;2023-11-03 23:…</td><td>&quot;форсаж 10&quot;</td><td>&quot;video_30618852…</td><td>6254145</td><td>2.0</td><td>51</td><td>0</td><td>null</td><td>0</td><td>&quot;70 млн. просмо…</td><td>null</td><td>null</td></tr><tr><td>false</td><td>&quot;2023-11-03 23:…</td><td>&quot;блондинка в шо…</td><td>&quot;video_7629393&quot;</td><td>771210</td><td>1.0</td><td>10</td><td>0</td><td>null</td><td>0</td><td>&quot;GaYBrighTForuM…</td><td>null</td><td>null</td></tr><tr><td>true</td><td>&quot;2023-11-03 23:…</td><td>&quot;standoff 2&quot;</td><td>&quot;video_25669614…</td><td>887367</td><td>2.0</td><td>0</td><td>0</td><td>null</td><td>0</td><td>&quot;Веля&quot;</td><td>null</td><td>null</td></tr><tr><td>false</td><td>&quot;2023-11-03 23:…</td><td>&quot;Петрашка&quot;</td><td>&quot;video_20436400…</td><td>300139</td><td>6.0</td><td>292</td><td>0</td><td>null</td><td>0</td><td>&quot;Петрашка&quot;</td><td>null</td><td>null</td></tr></tbody></table></div>"
      ],
      "text/plain": [
       "shape: (6_234_424, 13)\n",
       "┌────────────┬────────────┬────────────┬───────────┬───┬─────────┬───────────┬───────────┬─────────┐\n",
       "│ is_authori ┆ datetime   ┆ query      ┆ video_id  ┆ … ┆ comment ┆ channel   ┆ tv_show   ┆ season  │\n",
       "│ zed        ┆ ---        ┆ ---        ┆ ---       ┆   ┆ ---     ┆ ---       ┆ ---       ┆ ---     │\n",
       "│ ---        ┆ str        ┆ str        ┆ str       ┆   ┆ i64     ┆ str       ┆ str       ┆ str     │\n",
       "│ bool       ┆            ┆            ┆           ┆   ┆         ┆           ┆           ┆         │\n",
       "╞════════════╪════════════╪════════════╪═══════════╪═══╪═════════╪═══════════╪═══════════╪═════════╡\n",
       "│ false      ┆ 2023-05-03 ┆ битва экст ┆ video_264 ┆ … ┆ 0       ┆ Телеканал ┆ Новая     ┆ null    │\n",
       "│            ┆ 00:00:01+0 ┆ расенсов   ┆ 55637     ┆   ┆         ┆ ТНТ       ┆ битва экс ┆         │\n",
       "│            ┆ 3:00       ┆ 23 сезон   ┆           ┆   ┆         ┆           ┆ трасенсов ┆         │\n",
       "│            ┆            ┆ фина…      ┆           ┆   ┆         ┆           ┆ (2022)    ┆         │\n",
       "│ false      ┆ 2023-05-03 ┆ шоу импров ┆ video_168 ┆ … ┆ 0       ┆ Импровиза ┆ Импровиза ┆ Сезон 1 │\n",
       "│            ┆ 00:00:11+0 ┆ езация 1   ┆ 72535     ┆   ┆         ┆ ция       ┆ ция       ┆         │\n",
       "│            ┆ 3:00       ┆ сезон 5    ┆           ┆   ┆         ┆           ┆           ┆         │\n",
       "│            ┆            ┆ сери…      ┆           ┆   ┆         ┆           ┆           ┆         │\n",
       "│ false      ┆ 2023-05-03 ┆ Звезды в   ┆ video_220 ┆ … ┆ 0       ┆ Телеканал ┆ Новые     ┆ null    │\n",
       "│            ┆ 00:00:13+0 ┆ Африке     ┆ 77053     ┆   ┆         ┆ ТНТ       ┆ звезды в  ┆         │\n",
       "│            ┆ 3:00       ┆            ┆           ┆   ┆         ┆           ┆ Африке    ┆         │\n",
       "│ false      ┆ 2023-05-03 ┆ Женский    ┆ video_342 ┆ … ┆ 0       ┆ Мой Зелен ┆ null      ┆ null    │\n",
       "│            ┆ 00:00:16+0 ┆ камерный   ┆ 15629     ┆   ┆         ┆ оград     ┆           ┆         │\n",
       "│            ┆ 3:00       ┆ хор \\\\\"\"Гл ┆           ┆   ┆         ┆           ┆           ┆         │\n",
       "│            ┆            ┆ ория\\…     ┆           ┆   ┆         ┆           ┆           ┆         │\n",
       "│ …          ┆ …          ┆ …          ┆ …         ┆ … ┆ …       ┆ …         ┆ …         ┆ …       │\n",
       "│ false      ┆ 2023-11-03 ┆ форсаж 10  ┆ video_306 ┆ … ┆ 0       ┆ 70 млн.   ┆ null      ┆ null    │\n",
       "│            ┆ 23:59:42+0 ┆            ┆ 18852     ┆   ┆         ┆ просмотро ┆           ┆         │\n",
       "│            ┆ 3:00       ┆            ┆           ┆   ┆         ┆ в         ┆           ┆         │\n",
       "│ false      ┆ 2023-11-03 ┆ блондинка  ┆ video_762 ┆ … ┆ 0       ┆ GaYBrighT ┆ null      ┆ null    │\n",
       "│            ┆ 23:59:44+0 ┆ в шоколаде ┆ 9393      ┆   ┆         ┆ ForuM     ┆           ┆         │\n",
       "│            ┆ 3:00       ┆            ┆           ┆   ┆         ┆           ┆           ┆         │\n",
       "│ true       ┆ 2023-11-03 ┆ standoff 2 ┆ video_256 ┆ … ┆ 0       ┆ Веля      ┆ null      ┆ null    │\n",
       "│            ┆ 23:59:48+0 ┆            ┆ 69614     ┆   ┆         ┆           ┆           ┆         │\n",
       "│            ┆ 3:00       ┆            ┆           ┆   ┆         ┆           ┆           ┆         │\n",
       "│ false      ┆ 2023-11-03 ┆ Петрашка   ┆ video_204 ┆ … ┆ 0       ┆ Петрашка  ┆ null      ┆ null    │\n",
       "│            ┆ 23:59:55+0 ┆            ┆ 36400     ┆   ┆         ┆           ┆           ┆         │\n",
       "│            ┆ 3:00       ┆            ┆           ┆   ┆         ┆           ┆           ┆         │\n",
       "└────────────┴────────────┴────────────┴───────────┴───┴─────────┴───────────┴───────────┴─────────┘"
      ]
     },
     "execution_count": 20,
     "metadata": {},
     "output_type": "execute_result"
    }
   ],
   "source": [
    "automarkup = pl.read_parquet('./automarkup.parquet').sort('datetime')\n",
    "automarkup"
   ]
  },
  {
   "cell_type": "code",
   "execution_count": 21,
   "id": "15bb9429-df56-4dcb-9b4a-d80ea1dde89e",
   "metadata": {
    "execution": {
     "iopub.execute_input": "2023-11-25T09:40:56.669553Z",
     "iopub.status.busy": "2023-11-25T09:40:56.668730Z",
     "iopub.status.idle": "2023-11-25T09:40:57.600823Z",
     "shell.execute_reply": "2023-11-25T09:40:57.599935Z",
     "shell.execute_reply.started": "2023-11-25T09:40:56.669516Z"
    },
    "tags": []
   },
   "outputs": [],
   "source": [
    "automarkup = automarkup.unique(subset='query', keep='last', maintain_order=True).tail(300_000).to_pandas()"
   ]
  },
  {
   "cell_type": "code",
   "execution_count": 22,
   "id": "e39557b1-4a42-4fb2-a4f3-c698d740d5ef",
   "metadata": {
    "execution": {
     "iopub.execute_input": "2023-11-25T09:40:57.602456Z",
     "iopub.status.busy": "2023-11-25T09:40:57.601813Z",
     "iopub.status.idle": "2023-11-25T09:40:57.650699Z",
     "shell.execute_reply": "2023-11-25T09:40:57.649807Z",
     "shell.execute_reply.started": "2023-11-25T09:40:57.602416Z"
    },
    "tags": []
   },
   "outputs": [
    {
     "data": {
      "text/html": [
       "<div>\n",
       "<style scoped>\n",
       "    .dataframe tbody tr th:only-of-type {\n",
       "        vertical-align: middle;\n",
       "    }\n",
       "\n",
       "    .dataframe tbody tr th {\n",
       "        vertical-align: top;\n",
       "    }\n",
       "\n",
       "    .dataframe thead th {\n",
       "        text-align: right;\n",
       "    }\n",
       "</style>\n",
       "<table border=\"1\" class=\"dataframe\">\n",
       "  <thead>\n",
       "    <tr style=\"text-align: right;\">\n",
       "      <th></th>\n",
       "      <th>is_authorized</th>\n",
       "      <th>datetime</th>\n",
       "      <th>query</th>\n",
       "      <th>video_id</th>\n",
       "      <th>duration</th>\n",
       "      <th>position</th>\n",
       "      <th>watchtime</th>\n",
       "      <th>emotion</th>\n",
       "      <th>vtop</th>\n",
       "      <th>comment</th>\n",
       "      <th>channel</th>\n",
       "      <th>tv_show</th>\n",
       "      <th>season</th>\n",
       "      <th>query_id</th>\n",
       "    </tr>\n",
       "  </thead>\n",
       "  <tbody>\n",
       "    <tr>\n",
       "      <th>0</th>\n",
       "      <td>True</td>\n",
       "      <td>2023-10-05 09:11:26+03:00</td>\n",
       "      <td>музыка русских композиторов</td>\n",
       "      <td>video_29044766</td>\n",
       "      <td>3545014</td>\n",
       "      <td>9.0</td>\n",
       "      <td>3536</td>\n",
       "      <td>2</td>\n",
       "      <td>True</td>\n",
       "      <td>0</td>\n",
       "      <td>Ах, какая музыка!</td>\n",
       "      <td>None</td>\n",
       "      <td>None</td>\n",
       "      <td>0</td>\n",
       "    </tr>\n",
       "    <tr>\n",
       "      <th>1</th>\n",
       "      <td>False</td>\n",
       "      <td>2023-10-05 09:11:32+03:00</td>\n",
       "      <td>04.10.2023 обзор лиги чемпионов</td>\n",
       "      <td>video_12889081</td>\n",
       "      <td>2837600</td>\n",
       "      <td>1.0</td>\n",
       "      <td>1993</td>\n",
       "      <td>0</td>\n",
       "      <td>None</td>\n",
       "      <td>0</td>\n",
       "      <td>МАТЧ!</td>\n",
       "      <td>Обзоры матчей</td>\n",
       "      <td>None</td>\n",
       "      <td>1</td>\n",
       "    </tr>\n",
       "    <tr>\n",
       "      <th>2</th>\n",
       "      <td>False</td>\n",
       "      <td>2023-10-05 09:11:36+03:00</td>\n",
       "      <td>эпичный форсайт</td>\n",
       "      <td>video_28975291</td>\n",
       "      <td>133462</td>\n",
       "      <td>1.0</td>\n",
       "      <td>1</td>\n",
       "      <td>0</td>\n",
       "      <td>None</td>\n",
       "      <td>0</td>\n",
       "      <td>РЭУ им. Г.В. Плеханова</td>\n",
       "      <td>None</td>\n",
       "      <td>None</td>\n",
       "      <td>2</td>\n",
       "    </tr>\n",
       "    <tr>\n",
       "      <th>3</th>\n",
       "      <td>False</td>\n",
       "      <td>2023-10-05 09:11:37+03:00</td>\n",
       "      <td>ЭТО ВАГНЕР ШТИЛТ</td>\n",
       "      <td>video_31774411</td>\n",
       "      <td>145025</td>\n",
       "      <td>1.0</td>\n",
       "      <td>131</td>\n",
       "      <td>0</td>\n",
       "      <td>None</td>\n",
       "      <td>0</td>\n",
       "      <td>Solar Fox</td>\n",
       "      <td>None</td>\n",
       "      <td>None</td>\n",
       "      <td>3</td>\n",
       "    </tr>\n",
       "    <tr>\n",
       "      <th>4</th>\n",
       "      <td>False</td>\n",
       "      <td>2023-10-05 09:11:43+03:00</td>\n",
       "      <td>Новые пацанки7 чЗвезды в Африке</td>\n",
       "      <td>video_33350644</td>\n",
       "      <td>6783800</td>\n",
       "      <td>1.0</td>\n",
       "      <td>0</td>\n",
       "      <td>0</td>\n",
       "      <td>None</td>\n",
       "      <td>0</td>\n",
       "      <td>Телеканал ТНТ</td>\n",
       "      <td>Новые звезды в Африке</td>\n",
       "      <td>None</td>\n",
       "      <td>4</td>\n",
       "    </tr>\n",
       "    <tr>\n",
       "      <th>...</th>\n",
       "      <td>...</td>\n",
       "      <td>...</td>\n",
       "      <td>...</td>\n",
       "      <td>...</td>\n",
       "      <td>...</td>\n",
       "      <td>...</td>\n",
       "      <td>...</td>\n",
       "      <td>...</td>\n",
       "      <td>...</td>\n",
       "      <td>...</td>\n",
       "      <td>...</td>\n",
       "      <td>...</td>\n",
       "      <td>...</td>\n",
       "      <td>...</td>\n",
       "    </tr>\n",
       "    <tr>\n",
       "      <th>299995</th>\n",
       "      <td>False</td>\n",
       "      <td>2023-11-03 23:59:34+03:00</td>\n",
       "      <td>Последний герой остаться семьёй</td>\n",
       "      <td>video_17629988</td>\n",
       "      <td>5899000</td>\n",
       "      <td>1.0</td>\n",
       "      <td>2</td>\n",
       "      <td>0</td>\n",
       "      <td>None</td>\n",
       "      <td>0</td>\n",
       "      <td>Телеканал ТВ-3</td>\n",
       "      <td>Последний герой</td>\n",
       "      <td>Сезон 1</td>\n",
       "      <td>299995</td>\n",
       "    </tr>\n",
       "    <tr>\n",
       "      <th>299996</th>\n",
       "      <td>False</td>\n",
       "      <td>2023-11-03 23:59:42+03:00</td>\n",
       "      <td>форсаж 10</td>\n",
       "      <td>video_30618852</td>\n",
       "      <td>6254145</td>\n",
       "      <td>2.0</td>\n",
       "      <td>51</td>\n",
       "      <td>0</td>\n",
       "      <td>None</td>\n",
       "      <td>0</td>\n",
       "      <td>70 млн. просмотров</td>\n",
       "      <td>None</td>\n",
       "      <td>None</td>\n",
       "      <td>299996</td>\n",
       "    </tr>\n",
       "    <tr>\n",
       "      <th>299997</th>\n",
       "      <td>False</td>\n",
       "      <td>2023-11-03 23:59:44+03:00</td>\n",
       "      <td>блондинка в шоколаде</td>\n",
       "      <td>video_7629393</td>\n",
       "      <td>771210</td>\n",
       "      <td>1.0</td>\n",
       "      <td>10</td>\n",
       "      <td>0</td>\n",
       "      <td>None</td>\n",
       "      <td>0</td>\n",
       "      <td>GaYBrighTForuM</td>\n",
       "      <td>None</td>\n",
       "      <td>None</td>\n",
       "      <td>299997</td>\n",
       "    </tr>\n",
       "    <tr>\n",
       "      <th>299998</th>\n",
       "      <td>True</td>\n",
       "      <td>2023-11-03 23:59:48+03:00</td>\n",
       "      <td>standoff 2</td>\n",
       "      <td>video_25669614</td>\n",
       "      <td>887367</td>\n",
       "      <td>2.0</td>\n",
       "      <td>0</td>\n",
       "      <td>0</td>\n",
       "      <td>None</td>\n",
       "      <td>0</td>\n",
       "      <td>Веля</td>\n",
       "      <td>None</td>\n",
       "      <td>None</td>\n",
       "      <td>299998</td>\n",
       "    </tr>\n",
       "    <tr>\n",
       "      <th>299999</th>\n",
       "      <td>False</td>\n",
       "      <td>2023-11-03 23:59:55+03:00</td>\n",
       "      <td>Петрашка</td>\n",
       "      <td>video_20436400</td>\n",
       "      <td>300139</td>\n",
       "      <td>6.0</td>\n",
       "      <td>292</td>\n",
       "      <td>0</td>\n",
       "      <td>None</td>\n",
       "      <td>0</td>\n",
       "      <td>Петрашка</td>\n",
       "      <td>None</td>\n",
       "      <td>None</td>\n",
       "      <td>299999</td>\n",
       "    </tr>\n",
       "  </tbody>\n",
       "</table>\n",
       "<p>300000 rows × 14 columns</p>\n",
       "</div>"
      ],
      "text/plain": [
       "        is_authorized                   datetime  ...   season query_id\n",
       "0                True  2023-10-05 09:11:26+03:00  ...     None        0\n",
       "1               False  2023-10-05 09:11:32+03:00  ...     None        1\n",
       "2               False  2023-10-05 09:11:36+03:00  ...     None        2\n",
       "3               False  2023-10-05 09:11:37+03:00  ...     None        3\n",
       "4               False  2023-10-05 09:11:43+03:00  ...     None        4\n",
       "...               ...                        ...  ...      ...      ...\n",
       "299995          False  2023-11-03 23:59:34+03:00  ...  Сезон 1   299995\n",
       "299996          False  2023-11-03 23:59:42+03:00  ...     None   299996\n",
       "299997          False  2023-11-03 23:59:44+03:00  ...     None   299997\n",
       "299998           True  2023-11-03 23:59:48+03:00  ...     None   299998\n",
       "299999          False  2023-11-03 23:59:55+03:00  ...     None   299999\n",
       "\n",
       "[300000 rows x 14 columns]"
      ]
     },
     "execution_count": 22,
     "metadata": {},
     "output_type": "execute_result"
    }
   ],
   "source": [
    "automarkup['query_id'] = np.arange(len(automarkup))\n",
    "automarkup"
   ]
  },
  {
   "cell_type": "code",
   "execution_count": 23,
   "id": "1b7f663f-272e-4a4d-bcae-16830d1464bf",
   "metadata": {
    "execution": {
     "iopub.execute_input": "2023-11-25T09:40:57.653122Z",
     "iopub.status.busy": "2023-11-25T09:40:57.652072Z",
     "iopub.status.idle": "2023-11-25T09:40:58.169654Z",
     "shell.execute_reply": "2023-11-25T09:40:58.168857Z",
     "shell.execute_reply.started": "2023-11-25T09:40:57.653076Z"
    },
    "tags": []
   },
   "outputs": [
    {
     "data": {
      "text/plain": [
       "114"
      ]
     },
     "execution_count": 23,
     "metadata": {},
     "output_type": "execute_result"
    }
   ],
   "source": [
    "gc.collect()"
   ]
  },
  {
   "cell_type": "markdown",
   "id": "e5bcb2d8-bd67-4d24-a417-c5312d997816",
   "metadata": {},
   "source": [
    "# Построение датасета"
   ]
  },
  {
   "cell_type": "code",
   "execution_count": 36,
   "id": "642f49cd-f6e9-45f3-95ba-ad3e97b3a650",
   "metadata": {
    "execution": {
     "iopub.execute_input": "2023-11-25T10:01:44.673610Z",
     "iopub.status.busy": "2023-11-25T10:01:44.672738Z",
     "iopub.status.idle": "2023-11-25T10:01:44.722408Z",
     "shell.execute_reply": "2023-11-25T10:01:44.721442Z",
     "shell.execute_reply.started": "2023-11-25T10:01:44.673570Z"
    },
    "tags": []
   },
   "outputs": [
    {
     "data": {
      "text/html": [
       "<div><style>\n",
       ".dataframe > thead > tr > th,\n",
       ".dataframe > tbody > tr > td {\n",
       "  text-align: right;\n",
       "}\n",
       "</style>\n",
       "<small>shape: (5, 3)</small><table border=\"1\" class=\"dataframe\"><thead><tr><th>query_id</th><th>video_id</th><th>label</th></tr><tr><td>i32</td><td>str</td><td>f32</td></tr></thead><tbody><tr><td>0</td><td>&quot;video_29044766…</td><td>1.0</td></tr><tr><td>1</td><td>&quot;video_12889081…</td><td>1.0</td></tr><tr><td>2</td><td>&quot;video_28975291…</td><td>1.0</td></tr><tr><td>3</td><td>&quot;video_31774411…</td><td>1.0</td></tr><tr><td>4</td><td>&quot;video_33350644…</td><td>1.0</td></tr></tbody></table></div>"
      ],
      "text/plain": [
       "shape: (5, 3)\n",
       "┌──────────┬────────────────┬───────┐\n",
       "│ query_id ┆ video_id       ┆ label │\n",
       "│ ---      ┆ ---            ┆ ---   │\n",
       "│ i32      ┆ str            ┆ f32   │\n",
       "╞══════════╪════════════════╪═══════╡\n",
       "│ 0        ┆ video_29044766 ┆ 1.0   │\n",
       "│ 1        ┆ video_12889081 ┆ 1.0   │\n",
       "│ 2        ┆ video_28975291 ┆ 1.0   │\n",
       "│ 3        ┆ video_31774411 ┆ 1.0   │\n",
       "│ 4        ┆ video_33350644 ┆ 1.0   │\n",
       "└──────────┴────────────────┴───────┘"
      ]
     },
     "execution_count": 36,
     "metadata": {},
     "output_type": "execute_result"
    }
   ],
   "source": [
    "labels = pl.from_pandas(automarkup[['query_id', 'video_id']]).with_columns(pl.col(\"query_id\").cast(pl.Int32), label=pl.lit(1, pl.Float32))\n",
    "labels.head()"
   ]
  },
  {
   "cell_type": "code",
   "execution_count": 37,
   "id": "44791257-4cdb-4177-9094-4a25e4279f33",
   "metadata": {
    "execution": {
     "iopub.execute_input": "2023-11-25T10:01:44.786369Z",
     "iopub.status.busy": "2023-11-25T10:01:44.785645Z",
     "iopub.status.idle": "2023-11-25T10:01:46.542236Z",
     "shell.execute_reply": "2023-11-25T10:01:46.541217Z",
     "shell.execute_reply.started": "2023-11-25T10:01:44.786334Z"
    },
    "tags": []
   },
   "outputs": [
    {
     "name": "stderr",
     "output_type": "stream",
     "text": [
      "<ipython-input-37-1130442607e0>:1: FutureWarning: Using .astype to convert from timezone-aware dtype to timezone-naive dtype is deprecated and will raise in a future version.  Use obj.tz_localize(None) or obj.tz_convert('UTC').tz_localize(None) instead\n",
      "  datetime_ind = (pd.to_datetime(automarkup[\"datetime\"]).astype('datetime64[ns]') - pd.Timestamp(year=2010, month=1, day=1)).dt.days\n"
     ]
    },
    {
     "data": {
      "text/html": [
       "<div><style>\n",
       ".dataframe > thead > tr > th,\n",
       ".dataframe > tbody > tr > td {\n",
       "  text-align: right;\n",
       "}\n",
       "</style>\n",
       "<small>shape: (300000, 2)</small><table border=\"1\" class=\"dataframe\"><thead><tr><th>query_id</th><th>datetime_ind</th></tr><tr><td>i32</td><td>i32</td></tr></thead><tbody><tr><td>0</td><td>5025</td></tr><tr><td>1</td><td>5025</td></tr><tr><td>2</td><td>5025</td></tr><tr><td>3</td><td>5025</td></tr><tr><td>4</td><td>5025</td></tr><tr><td>5</td><td>5025</td></tr><tr><td>6</td><td>5025</td></tr><tr><td>7</td><td>5025</td></tr><tr><td>8</td><td>5025</td></tr><tr><td>9</td><td>5025</td></tr><tr><td>10</td><td>5025</td></tr><tr><td>11</td><td>5025</td></tr><tr><td>&hellip;</td><td>&hellip;</td></tr><tr><td>299988</td><td>5054</td></tr><tr><td>299989</td><td>5054</td></tr><tr><td>299990</td><td>5054</td></tr><tr><td>299991</td><td>5054</td></tr><tr><td>299992</td><td>5054</td></tr><tr><td>299993</td><td>5054</td></tr><tr><td>299994</td><td>5054</td></tr><tr><td>299995</td><td>5054</td></tr><tr><td>299996</td><td>5054</td></tr><tr><td>299997</td><td>5054</td></tr><tr><td>299998</td><td>5054</td></tr><tr><td>299999</td><td>5054</td></tr></tbody></table></div>"
      ],
      "text/plain": [
       "shape: (300_000, 2)\n",
       "┌──────────┬──────────────┐\n",
       "│ query_id ┆ datetime_ind │\n",
       "│ ---      ┆ ---          │\n",
       "│ i32      ┆ i32          │\n",
       "╞══════════╪══════════════╡\n",
       "│ 0        ┆ 5025         │\n",
       "│ 1        ┆ 5025         │\n",
       "│ 2        ┆ 5025         │\n",
       "│ 3        ┆ 5025         │\n",
       "│ …        ┆ …            │\n",
       "│ 299996   ┆ 5054         │\n",
       "│ 299997   ┆ 5054         │\n",
       "│ 299998   ┆ 5054         │\n",
       "│ 299999   ┆ 5054         │\n",
       "└──────────┴──────────────┘"
      ]
     },
     "execution_count": 37,
     "metadata": {},
     "output_type": "execute_result"
    }
   ],
   "source": [
    "datetime_ind = (pd.to_datetime(automarkup[\"datetime\"]).astype('datetime64[ns]') - pd.Timestamp(year=2010, month=1, day=1)).dt.days\n",
    "ind_df = pl.DataFrame([\n",
    "    pl.Series('query_id', list(automarkup[\"query_id\"]), pl.Int32),\n",
    "    pl.Series('datetime_ind', list(datetime_ind), pl.Int32),\n",
    "])\n",
    "ind_df"
   ]
  },
  {
   "cell_type": "code",
   "execution_count": 104,
   "id": "f753e556-30a9-4692-abab-e5bea3142b7d",
   "metadata": {
    "execution": {
     "iopub.execute_input": "2023-11-25T09:21:44.343159Z",
     "iopub.status.busy": "2023-11-25T09:21:44.342814Z",
     "iopub.status.idle": "2023-11-25T09:21:45.556735Z",
     "shell.execute_reply": "2023-11-25T09:21:45.555674Z",
     "shell.execute_reply.started": "2023-11-25T09:21:44.343134Z"
    },
    "tags": []
   },
   "outputs": [],
   "source": [
    "# merged = lex_rec.predict(automarkup['query'], 100)\n",
    "merged = pl.read_parquet('lex_rec.parquet')"
   ]
  },
  {
   "cell_type": "code",
   "execution_count": 105,
   "id": "dbf39c06-dc28-4c25-ad23-f0c5d51b5895",
   "metadata": {
    "execution": {
     "iopub.execute_input": "2023-11-25T09:21:45.558755Z",
     "iopub.status.busy": "2023-11-25T09:21:45.558248Z",
     "iopub.status.idle": "2023-11-25T09:22:24.764960Z",
     "shell.execute_reply": "2023-11-25T09:22:24.764059Z",
     "shell.execute_reply.started": "2023-11-25T09:21:45.558717Z"
    },
    "tags": []
   },
   "outputs": [],
   "source": [
    "merged = merged.join(sem_rec.predict(I, D), on=['query_id', 'video_id'], how='outer')"
   ]
  },
  {
   "cell_type": "code",
   "execution_count": 106,
   "id": "81945d81-3790-418a-90ab-953c780839b7",
   "metadata": {
    "execution": {
     "iopub.execute_input": "2023-11-25T09:22:24.766755Z",
     "iopub.status.busy": "2023-11-25T09:22:24.766245Z",
     "iopub.status.idle": "2023-11-25T09:22:26.294431Z",
     "shell.execute_reply": "2023-11-25T09:22:26.293160Z",
     "shell.execute_reply.started": "2023-11-25T09:22:24.766728Z"
    },
    "tags": []
   },
   "outputs": [],
   "source": [
    "merged = merged.join(labels, on=['query_id', 'video_id'], how='left')\n",
    "merged = merged.fill_null(0)"
   ]
  },
  {
   "cell_type": "code",
   "execution_count": 107,
   "id": "9d365e64-935e-4f65-a1ca-dd72ba33a0cb",
   "metadata": {
    "execution": {
     "iopub.execute_input": "2023-11-25T09:22:26.295880Z",
     "iopub.status.busy": "2023-11-25T09:22:26.295556Z",
     "iopub.status.idle": "2023-11-25T09:22:27.349660Z",
     "shell.execute_reply": "2023-11-25T09:22:27.348652Z",
     "shell.execute_reply.started": "2023-11-25T09:22:26.295856Z"
    },
    "tags": []
   },
   "outputs": [],
   "source": [
    "merged = merged.join(ind_df, on=['query_id'], how='left')"
   ]
  },
  {
   "cell_type": "code",
   "execution_count": 108,
   "id": "6247f54f-da80-45d8-9283-8ba1cb1ebc65",
   "metadata": {
    "execution": {
     "iopub.execute_input": "2023-11-25T09:22:27.350936Z",
     "iopub.status.busy": "2023-11-25T09:22:27.350624Z",
     "iopub.status.idle": "2023-11-25T09:22:29.548899Z",
     "shell.execute_reply": "2023-11-25T09:22:29.548052Z",
     "shell.execute_reply.started": "2023-11-25T09:22:27.350913Z"
    },
    "tags": []
   },
   "outputs": [
    {
     "data": {
      "text/plain": [
       "431"
      ]
     },
     "execution_count": 108,
     "metadata": {},
     "output_type": "execute_result"
    }
   ],
   "source": [
    "gc.collect()"
   ]
  },
  {
   "cell_type": "code",
   "execution_count": 109,
   "id": "77064832-f57c-4ca0-afe7-bb725a7be93b",
   "metadata": {
    "execution": {
     "iopub.execute_input": "2023-11-25T09:22:29.550243Z",
     "iopub.status.busy": "2023-11-25T09:22:29.549927Z",
     "iopub.status.idle": "2023-11-25T09:22:37.278553Z",
     "shell.execute_reply": "2023-11-25T09:22:37.277608Z",
     "shell.execute_reply.started": "2023-11-25T09:22:29.550220Z"
    },
    "tags": []
   },
   "outputs": [],
   "source": [
    "merged = merged.join(features, on=['video_id'], how='left')\n",
    "merged = merged.with_columns(ind_diff=pl.col('datetime_ind') - pl.col('v_pub_datetime_ind'))\n",
    "merged = merged.fill_null(-1)"
   ]
  },
  {
   "cell_type": "code",
   "execution_count": 110,
   "id": "298e3bc9-3d3e-46f3-85c8-9adaaf12bff6",
   "metadata": {
    "execution": {
     "iopub.execute_input": "2023-11-25T09:22:37.280543Z",
     "iopub.status.busy": "2023-11-25T09:22:37.280055Z",
     "iopub.status.idle": "2023-11-25T09:22:37.325179Z",
     "shell.execute_reply": "2023-11-25T09:22:37.324205Z",
     "shell.execute_reply.started": "2023-11-25T09:22:37.280517Z"
    },
    "tags": []
   },
   "outputs": [
    {
     "name": "stdout",
     "output_type": "stream",
     "text": [
      "['query_id', 'video_id', 'lex_score', 'lex_rank', 'sem_score', 'sem_rank', 'label', 'datetime_ind', 'v_channel_type', 'v_category', 'total_comments', 'v_year_views', 'v_month_views', 'v_week_views', 'v_day_views', 'v_likes', 'v_dislikes', 'v_duration', 'v_cr_click_like_7_days', 'v_cr_click_dislike_7_days', 'v_cr_click_vtop_7_days', 'v_cr_click_long_view_7_days', 'v_cr_click_comment_7_days', 'v_cr_click_like_30_days', 'v_cr_click_dislike_30_days', 'v_cr_click_vtop_30_days', 'v_cr_click_long_view_30_days', 'v_cr_click_comment_30_days', 'v_cr_click_like_1_days', 'v_cr_click_dislike_1_days', 'v_cr_click_vtop_1_days', 'v_cr_click_long_view_1_days', 'v_cr_click_comment_1_days', 'v_channel_reg_datetime_ind', 'v_pub_datetime_ind', 'ind_diff'] shape: (55_536_124, 36)\n",
      "┌──────────┬──────────┬───────────┬──────────┬───┬────────────┬────────────┬────────────┬──────────┐\n",
      "│ query_id ┆ video_id ┆ lex_score ┆ lex_rank ┆ … ┆ v_cr_click ┆ v_channel_ ┆ v_pub_date ┆ ind_diff │\n",
      "│ ---      ┆ ---      ┆ ---       ┆ ---      ┆   ┆ _comment_1 ┆ reg_dateti ┆ time_ind   ┆ ---      │\n",
      "│ i32      ┆ str      ┆ f32       ┆ i8       ┆   ┆ _days      ┆ me_ind     ┆ ---        ┆ i64      │\n",
      "│          ┆          ┆           ┆          ┆   ┆ ---        ┆ ---        ┆ i64        ┆          │\n",
      "│          ┆          ┆           ┆          ┆   ┆ f32        ┆ i64        ┆            ┆          │\n",
      "╞══════════╪══════════╪═══════════╪══════════╪═══╪════════════╪════════════╪════════════╪══════════╡\n",
      "│ 0        ┆ video_93 ┆ 0.0       ┆ 0        ┆ … ┆ 0.0        ┆ 4959       ┆ 4960       ┆ 65       │\n",
      "│          ┆ 81491    ┆           ┆          ┆   ┆            ┆            ┆            ┆          │\n",
      "│ 0        ┆ video_12 ┆ 0.0       ┆ 0        ┆ … ┆ 0.0        ┆ 4454       ┆ 4553       ┆ 472      │\n",
      "│          ┆ 828694   ┆           ┆          ┆   ┆            ┆            ┆            ┆          │\n",
      "│ 0        ┆ video_32 ┆ 0.0       ┆ 0        ┆ … ┆ 0.0        ┆ 4456       ┆ 4834       ┆ 191      │\n",
      "│          ┆ 495163   ┆           ┆          ┆   ┆            ┆            ┆            ┆          │\n",
      "│ 0        ┆ video_90 ┆ 0.0       ┆ 0        ┆ … ┆ 0.0        ┆ 4991       ┆ 5013       ┆ 12       │\n",
      "│          ┆ 07701    ┆           ┆          ┆   ┆            ┆            ┆            ┆          │\n",
      "│ …        ┆ …        ┆ …         ┆ …        ┆ … ┆ …          ┆ …          ┆ …          ┆ …        │\n",
      "│ 284241   ┆ video_30 ┆ 17.408688 ┆ 76       ┆ … ┆ 0.0        ┆ 5019       ┆ 5025       ┆ 28       │\n",
      "│          ┆ 70845    ┆           ┆          ┆   ┆            ┆            ┆            ┆          │\n",
      "│ 298091   ┆ video_47 ┆ 12.621014 ┆ 6        ┆ … ┆ 0.0        ┆ 5019       ┆ 5023       ┆ 31       │\n",
      "│          ┆ 48056    ┆           ┆          ┆   ┆            ┆            ┆            ┆          │\n",
      "│ 299289   ┆ video_32 ┆ 12.516791 ┆ 77       ┆ … ┆ 0.0        ┆ 4497       ┆ 5050       ┆ 4        │\n",
      "│          ┆ 236956   ┆           ┆          ┆   ┆            ┆            ┆            ┆          │\n",
      "│ 40647    ┆ video_15 ┆ 14.851212 ┆ 73       ┆ … ┆ 0.0        ┆ 4801       ┆ 5046       ┆ -16      │\n",
      "│          ┆ 847022   ┆           ┆          ┆   ┆            ┆            ┆            ┆          │\n",
      "└──────────┴──────────┴───────────┴──────────┴───┴────────────┴────────────┴────────────┴──────────┘ 0.42633333333333334\n"
     ]
    }
   ],
   "source": [
    "print(merged.columns, merged, merged['label'].sum() / len(automarkup))"
   ]
  },
  {
   "cell_type": "raw",
   "id": "fd5717ec-8c8f-45cd-b52c-80377e3e8e56",
   "metadata": {},
   "source": [
    "0.42633333333333334\n",
    "\n",
    "(55_536_124, 32)"
   ]
  },
  {
   "cell_type": "markdown",
   "id": "f21e979e-66ad-42fb-8620-c69f5da17886",
   "metadata": {},
   "source": [
    "# Обучение ранкера"
   ]
  },
  {
   "cell_type": "code",
   "execution_count": 111,
   "id": "39dc82ff-bdda-408f-90ec-6b24b47c2853",
   "metadata": {
    "execution": {
     "iopub.execute_input": "2023-11-25T09:24:40.280409Z",
     "iopub.status.busy": "2023-11-25T09:24:40.279718Z",
     "iopub.status.idle": "2023-11-25T09:25:12.998855Z",
     "shell.execute_reply": "2023-11-25T09:25:12.998058Z",
     "shell.execute_reply.started": "2023-11-25T09:24:40.280376Z"
    },
    "tags": []
   },
   "outputs": [
    {
     "data": {
      "text/html": [
       "<div>\n",
       "<style scoped>\n",
       "    .dataframe tbody tr th:only-of-type {\n",
       "        vertical-align: middle;\n",
       "    }\n",
       "\n",
       "    .dataframe tbody tr th {\n",
       "        vertical-align: top;\n",
       "    }\n",
       "\n",
       "    .dataframe thead th {\n",
       "        text-align: right;\n",
       "    }\n",
       "</style>\n",
       "<table border=\"1\" class=\"dataframe\">\n",
       "  <thead>\n",
       "    <tr style=\"text-align: right;\">\n",
       "      <th></th>\n",
       "      <th>query_id</th>\n",
       "      <th>video_id</th>\n",
       "      <th>lex_score</th>\n",
       "      <th>lex_rank</th>\n",
       "      <th>sem_score</th>\n",
       "      <th>sem_rank</th>\n",
       "      <th>label</th>\n",
       "      <th>datetime_ind</th>\n",
       "      <th>v_channel_type</th>\n",
       "      <th>v_category</th>\n",
       "      <th>total_comments</th>\n",
       "      <th>v_year_views</th>\n",
       "      <th>v_month_views</th>\n",
       "      <th>v_week_views</th>\n",
       "      <th>v_day_views</th>\n",
       "      <th>v_likes</th>\n",
       "      <th>v_dislikes</th>\n",
       "      <th>v_duration</th>\n",
       "      <th>v_cr_click_like_7_days</th>\n",
       "      <th>v_cr_click_dislike_7_days</th>\n",
       "      <th>v_cr_click_vtop_7_days</th>\n",
       "      <th>v_cr_click_long_view_7_days</th>\n",
       "      <th>v_cr_click_comment_7_days</th>\n",
       "      <th>v_cr_click_like_30_days</th>\n",
       "      <th>v_cr_click_dislike_30_days</th>\n",
       "      <th>v_cr_click_vtop_30_days</th>\n",
       "      <th>v_cr_click_long_view_30_days</th>\n",
       "      <th>v_cr_click_comment_30_days</th>\n",
       "      <th>v_cr_click_like_1_days</th>\n",
       "      <th>v_cr_click_dislike_1_days</th>\n",
       "      <th>v_cr_click_vtop_1_days</th>\n",
       "      <th>v_cr_click_long_view_1_days</th>\n",
       "      <th>v_cr_click_comment_1_days</th>\n",
       "      <th>v_channel_reg_datetime_ind</th>\n",
       "      <th>v_pub_datetime_ind</th>\n",
       "      <th>ind_diff</th>\n",
       "    </tr>\n",
       "  </thead>\n",
       "  <tbody>\n",
       "    <tr>\n",
       "      <th>37008014</th>\n",
       "      <td>200000</td>\n",
       "      <td>video_10084466</td>\n",
       "      <td>0.00000</td>\n",
       "      <td>0</td>\n",
       "      <td>0.684040</td>\n",
       "      <td>1</td>\n",
       "      <td>0.0</td>\n",
       "      <td>5047</td>\n",
       "      <td>ТВ И СМИ</td>\n",
       "      <td>Люди и блоги</td>\n",
       "      <td>0</td>\n",
       "      <td>150</td>\n",
       "      <td>15</td>\n",
       "      <td>3</td>\n",
       "      <td>1</td>\n",
       "      <td>0</td>\n",
       "      <td>0</td>\n",
       "      <td>159289</td>\n",
       "      <td>0.000000</td>\n",
       "      <td>0.0</td>\n",
       "      <td>0.0</td>\n",
       "      <td>1.000000</td>\n",
       "      <td>0.0</td>\n",
       "      <td>0.000000</td>\n",
       "      <td>0.0</td>\n",
       "      <td>0.0</td>\n",
       "      <td>0.866667</td>\n",
       "      <td>0.0</td>\n",
       "      <td>0.000000</td>\n",
       "      <td>0.0</td>\n",
       "      <td>0.0</td>\n",
       "      <td>1.000000</td>\n",
       "      <td>0.0</td>\n",
       "      <td>1746</td>\n",
       "      <td>2782</td>\n",
       "      <td>2265</td>\n",
       "    </tr>\n",
       "    <tr>\n",
       "      <th>37008015</th>\n",
       "      <td>200000</td>\n",
       "      <td>video_7692001</td>\n",
       "      <td>0.00000</td>\n",
       "      <td>0</td>\n",
       "      <td>0.667560</td>\n",
       "      <td>2</td>\n",
       "      <td>0.0</td>\n",
       "      <td>5047</td>\n",
       "      <td>UGC</td>\n",
       "      <td>Люди и блоги</td>\n",
       "      <td>0</td>\n",
       "      <td>1</td>\n",
       "      <td>0</td>\n",
       "      <td>0</td>\n",
       "      <td>0</td>\n",
       "      <td>0</td>\n",
       "      <td>0</td>\n",
       "      <td>1337263</td>\n",
       "      <td>0.000000</td>\n",
       "      <td>0.0</td>\n",
       "      <td>0.0</td>\n",
       "      <td>0.000000</td>\n",
       "      <td>0.0</td>\n",
       "      <td>0.000000</td>\n",
       "      <td>0.0</td>\n",
       "      <td>0.0</td>\n",
       "      <td>0.000000</td>\n",
       "      <td>0.0</td>\n",
       "      <td>0.000000</td>\n",
       "      <td>0.0</td>\n",
       "      <td>0.0</td>\n",
       "      <td>0.000000</td>\n",
       "      <td>0.0</td>\n",
       "      <td>2324</td>\n",
       "      <td>2730</td>\n",
       "      <td>2317</td>\n",
       "    </tr>\n",
       "    <tr>\n",
       "      <th>37008016</th>\n",
       "      <td>200000</td>\n",
       "      <td>video_7947351</td>\n",
       "      <td>0.00000</td>\n",
       "      <td>0</td>\n",
       "      <td>0.663303</td>\n",
       "      <td>3</td>\n",
       "      <td>0.0</td>\n",
       "      <td>5047</td>\n",
       "      <td>ТВ И СМИ</td>\n",
       "      <td>Телепередачи</td>\n",
       "      <td>0</td>\n",
       "      <td>3</td>\n",
       "      <td>0</td>\n",
       "      <td>0</td>\n",
       "      <td>0</td>\n",
       "      <td>0</td>\n",
       "      <td>0</td>\n",
       "      <td>4263023</td>\n",
       "      <td>0.000000</td>\n",
       "      <td>0.0</td>\n",
       "      <td>0.0</td>\n",
       "      <td>0.000000</td>\n",
       "      <td>0.0</td>\n",
       "      <td>0.000000</td>\n",
       "      <td>0.0</td>\n",
       "      <td>0.0</td>\n",
       "      <td>0.000000</td>\n",
       "      <td>0.0</td>\n",
       "      <td>0.000000</td>\n",
       "      <td>0.0</td>\n",
       "      <td>0.0</td>\n",
       "      <td>0.000000</td>\n",
       "      <td>0.0</td>\n",
       "      <td>1977</td>\n",
       "      <td>2497</td>\n",
       "      <td>2550</td>\n",
       "    </tr>\n",
       "    <tr>\n",
       "      <th>37008017</th>\n",
       "      <td>200000</td>\n",
       "      <td>video_8225001</td>\n",
       "      <td>0.00000</td>\n",
       "      <td>0</td>\n",
       "      <td>0.648002</td>\n",
       "      <td>4</td>\n",
       "      <td>0.0</td>\n",
       "      <td>5047</td>\n",
       "      <td>UGC</td>\n",
       "      <td>Юмор</td>\n",
       "      <td>0</td>\n",
       "      <td>1</td>\n",
       "      <td>0</td>\n",
       "      <td>0</td>\n",
       "      <td>0</td>\n",
       "      <td>0</td>\n",
       "      <td>0</td>\n",
       "      <td>304610</td>\n",
       "      <td>0.000000</td>\n",
       "      <td>0.0</td>\n",
       "      <td>0.0</td>\n",
       "      <td>0.000000</td>\n",
       "      <td>0.0</td>\n",
       "      <td>0.000000</td>\n",
       "      <td>0.0</td>\n",
       "      <td>0.0</td>\n",
       "      <td>0.000000</td>\n",
       "      <td>0.0</td>\n",
       "      <td>0.000000</td>\n",
       "      <td>0.0</td>\n",
       "      <td>0.0</td>\n",
       "      <td>0.000000</td>\n",
       "      <td>0.0</td>\n",
       "      <td>918</td>\n",
       "      <td>-248</td>\n",
       "      <td>5295</td>\n",
       "    </tr>\n",
       "    <tr>\n",
       "      <th>37008018</th>\n",
       "      <td>200000</td>\n",
       "      <td>video_8205725</td>\n",
       "      <td>0.00000</td>\n",
       "      <td>0</td>\n",
       "      <td>0.613291</td>\n",
       "      <td>5</td>\n",
       "      <td>0.0</td>\n",
       "      <td>5047</td>\n",
       "      <td>UGC</td>\n",
       "      <td>Люди и блоги</td>\n",
       "      <td>0</td>\n",
       "      <td>1</td>\n",
       "      <td>1</td>\n",
       "      <td>0</td>\n",
       "      <td>0</td>\n",
       "      <td>0</td>\n",
       "      <td>0</td>\n",
       "      <td>168736</td>\n",
       "      <td>0.000000</td>\n",
       "      <td>0.0</td>\n",
       "      <td>0.0</td>\n",
       "      <td>0.000000</td>\n",
       "      <td>0.0</td>\n",
       "      <td>0.000000</td>\n",
       "      <td>0.0</td>\n",
       "      <td>0.0</td>\n",
       "      <td>0.000000</td>\n",
       "      <td>0.0</td>\n",
       "      <td>0.000000</td>\n",
       "      <td>0.0</td>\n",
       "      <td>0.0</td>\n",
       "      <td>0.000000</td>\n",
       "      <td>0.0</td>\n",
       "      <td>1382</td>\n",
       "      <td>1382</td>\n",
       "      <td>3665</td>\n",
       "    </tr>\n",
       "    <tr>\n",
       "      <th>...</th>\n",
       "      <td>...</td>\n",
       "      <td>...</td>\n",
       "      <td>...</td>\n",
       "      <td>...</td>\n",
       "      <td>...</td>\n",
       "      <td>...</td>\n",
       "      <td>...</td>\n",
       "      <td>...</td>\n",
       "      <td>...</td>\n",
       "      <td>...</td>\n",
       "      <td>...</td>\n",
       "      <td>...</td>\n",
       "      <td>...</td>\n",
       "      <td>...</td>\n",
       "      <td>...</td>\n",
       "      <td>...</td>\n",
       "      <td>...</td>\n",
       "      <td>...</td>\n",
       "      <td>...</td>\n",
       "      <td>...</td>\n",
       "      <td>...</td>\n",
       "      <td>...</td>\n",
       "      <td>...</td>\n",
       "      <td>...</td>\n",
       "      <td>...</td>\n",
       "      <td>...</td>\n",
       "      <td>...</td>\n",
       "      <td>...</td>\n",
       "      <td>...</td>\n",
       "      <td>...</td>\n",
       "      <td>...</td>\n",
       "      <td>...</td>\n",
       "      <td>...</td>\n",
       "      <td>...</td>\n",
       "      <td>...</td>\n",
       "      <td>...</td>\n",
       "    </tr>\n",
       "    <tr>\n",
       "      <th>55536119</th>\n",
       "      <td>299999</td>\n",
       "      <td>video_9104812</td>\n",
       "      <td>0.00000</td>\n",
       "      <td>0</td>\n",
       "      <td>0.636250</td>\n",
       "      <td>97</td>\n",
       "      <td>0.0</td>\n",
       "      <td>5054</td>\n",
       "      <td>UGC</td>\n",
       "      <td>Сериалы</td>\n",
       "      <td>0</td>\n",
       "      <td>267</td>\n",
       "      <td>22</td>\n",
       "      <td>2</td>\n",
       "      <td>1</td>\n",
       "      <td>0</td>\n",
       "      <td>0</td>\n",
       "      <td>445931</td>\n",
       "      <td>0.000000</td>\n",
       "      <td>0.0</td>\n",
       "      <td>0.0</td>\n",
       "      <td>0.500000</td>\n",
       "      <td>0.0</td>\n",
       "      <td>0.000000</td>\n",
       "      <td>0.0</td>\n",
       "      <td>0.0</td>\n",
       "      <td>0.545455</td>\n",
       "      <td>0.0</td>\n",
       "      <td>0.000000</td>\n",
       "      <td>0.0</td>\n",
       "      <td>0.0</td>\n",
       "      <td>0.000000</td>\n",
       "      <td>0.0</td>\n",
       "      <td>1369</td>\n",
       "      <td>1487</td>\n",
       "      <td>3567</td>\n",
       "    </tr>\n",
       "    <tr>\n",
       "      <th>55536120</th>\n",
       "      <td>299999</td>\n",
       "      <td>video_3284663</td>\n",
       "      <td>0.00000</td>\n",
       "      <td>0</td>\n",
       "      <td>0.635740</td>\n",
       "      <td>98</td>\n",
       "      <td>0.0</td>\n",
       "      <td>5054</td>\n",
       "      <td>ТВ И СМИ</td>\n",
       "      <td>Телепередачи</td>\n",
       "      <td>4</td>\n",
       "      <td>2547</td>\n",
       "      <td>324</td>\n",
       "      <td>99</td>\n",
       "      <td>17</td>\n",
       "      <td>26</td>\n",
       "      <td>0</td>\n",
       "      <td>1675009</td>\n",
       "      <td>0.010101</td>\n",
       "      <td>0.0</td>\n",
       "      <td>0.0</td>\n",
       "      <td>0.565657</td>\n",
       "      <td>0.0</td>\n",
       "      <td>0.006173</td>\n",
       "      <td>0.0</td>\n",
       "      <td>0.0</td>\n",
       "      <td>0.558642</td>\n",
       "      <td>0.0</td>\n",
       "      <td>0.058824</td>\n",
       "      <td>0.0</td>\n",
       "      <td>0.0</td>\n",
       "      <td>0.470588</td>\n",
       "      <td>0.0</td>\n",
       "      <td>1977</td>\n",
       "      <td>4956</td>\n",
       "      <td>98</td>\n",
       "    </tr>\n",
       "    <tr>\n",
       "      <th>55536121</th>\n",
       "      <td>299999</td>\n",
       "      <td>video_15383894</td>\n",
       "      <td>0.00000</td>\n",
       "      <td>0</td>\n",
       "      <td>0.634490</td>\n",
       "      <td>99</td>\n",
       "      <td>0.0</td>\n",
       "      <td>5054</td>\n",
       "      <td>UGC</td>\n",
       "      <td>Фильмы</td>\n",
       "      <td>0</td>\n",
       "      <td>131</td>\n",
       "      <td>18</td>\n",
       "      <td>0</td>\n",
       "      <td>0</td>\n",
       "      <td>0</td>\n",
       "      <td>0</td>\n",
       "      <td>140800</td>\n",
       "      <td>0.000000</td>\n",
       "      <td>0.0</td>\n",
       "      <td>0.0</td>\n",
       "      <td>0.000000</td>\n",
       "      <td>0.0</td>\n",
       "      <td>0.000000</td>\n",
       "      <td>0.0</td>\n",
       "      <td>0.0</td>\n",
       "      <td>0.777778</td>\n",
       "      <td>0.0</td>\n",
       "      <td>0.000000</td>\n",
       "      <td>0.0</td>\n",
       "      <td>0.0</td>\n",
       "      <td>0.000000</td>\n",
       "      <td>0.0</td>\n",
       "      <td>4852</td>\n",
       "      <td>4910</td>\n",
       "      <td>144</td>\n",
       "    </tr>\n",
       "    <tr>\n",
       "      <th>55536122</th>\n",
       "      <td>299999</td>\n",
       "      <td>video_9956117</td>\n",
       "      <td>0.00000</td>\n",
       "      <td>0</td>\n",
       "      <td>0.633999</td>\n",
       "      <td>100</td>\n",
       "      <td>0.0</td>\n",
       "      <td>5054</td>\n",
       "      <td>UGC</td>\n",
       "      <td>Сад и огород</td>\n",
       "      <td>0</td>\n",
       "      <td>20</td>\n",
       "      <td>20</td>\n",
       "      <td>4</td>\n",
       "      <td>1</td>\n",
       "      <td>0</td>\n",
       "      <td>0</td>\n",
       "      <td>65766</td>\n",
       "      <td>0.000000</td>\n",
       "      <td>0.0</td>\n",
       "      <td>0.0</td>\n",
       "      <td>1.000000</td>\n",
       "      <td>0.0</td>\n",
       "      <td>0.000000</td>\n",
       "      <td>0.0</td>\n",
       "      <td>0.0</td>\n",
       "      <td>0.800000</td>\n",
       "      <td>0.0</td>\n",
       "      <td>0.000000</td>\n",
       "      <td>0.0</td>\n",
       "      <td>0.0</td>\n",
       "      <td>1.000000</td>\n",
       "      <td>0.0</td>\n",
       "      <td>4208</td>\n",
       "      <td>5023</td>\n",
       "      <td>31</td>\n",
       "    </tr>\n",
       "    <tr>\n",
       "      <th>55536123</th>\n",
       "      <td>299999</td>\n",
       "      <td>video_28069534</td>\n",
       "      <td>12.54798</td>\n",
       "      <td>1</td>\n",
       "      <td>0.000000</td>\n",
       "      <td>0</td>\n",
       "      <td>0.0</td>\n",
       "      <td>5054</td>\n",
       "      <td>UGC</td>\n",
       "      <td>Разное</td>\n",
       "      <td>0</td>\n",
       "      <td>1</td>\n",
       "      <td>1</td>\n",
       "      <td>1</td>\n",
       "      <td>0</td>\n",
       "      <td>0</td>\n",
       "      <td>0</td>\n",
       "      <td>6545659</td>\n",
       "      <td>0.000000</td>\n",
       "      <td>0.0</td>\n",
       "      <td>0.0</td>\n",
       "      <td>0.000000</td>\n",
       "      <td>0.0</td>\n",
       "      <td>0.000000</td>\n",
       "      <td>0.0</td>\n",
       "      <td>0.0</td>\n",
       "      <td>0.000000</td>\n",
       "      <td>0.0</td>\n",
       "      <td>0.000000</td>\n",
       "      <td>0.0</td>\n",
       "      <td>0.0</td>\n",
       "      <td>0.000000</td>\n",
       "      <td>0.0</td>\n",
       "      <td>5019</td>\n",
       "      <td>5032</td>\n",
       "      <td>22</td>\n",
       "    </tr>\n",
       "  </tbody>\n",
       "</table>\n",
       "<p>18528110 rows × 36 columns</p>\n",
       "</div>"
      ],
      "text/plain": [
       "          query_id        video_id  ...  v_pub_datetime_ind  ind_diff\n",
       "37008014    200000  video_10084466  ...                2782      2265\n",
       "37008015    200000   video_7692001  ...                2730      2317\n",
       "37008016    200000   video_7947351  ...                2497      2550\n",
       "37008017    200000   video_8225001  ...                -248      5295\n",
       "37008018    200000   video_8205725  ...                1382      3665\n",
       "...            ...             ...  ...                 ...       ...\n",
       "55536119    299999   video_9104812  ...                1487      3567\n",
       "55536120    299999   video_3284663  ...                4956        98\n",
       "55536121    299999  video_15383894  ...                4910       144\n",
       "55536122    299999   video_9956117  ...                5023        31\n",
       "55536123    299999  video_28069534  ...                5032        22\n",
       "\n",
       "[18528110 rows x 36 columns]"
      ]
     },
     "execution_count": 111,
     "metadata": {},
     "output_type": "execute_result"
    }
   ],
   "source": [
    "merged = merged.sort('query_id').to_pandas()\n",
    "train_df = merged[merged.query_id < 200_000]\n",
    "val_df = merged[merged.query_id >= 200_000]\n",
    "val_df"
   ]
  },
  {
   "cell_type": "code",
   "execution_count": null,
   "id": "7545c643-1a8f-4399-b9d7-23d790f876d3",
   "metadata": {},
   "outputs": [],
   "source": []
  },
  {
   "cell_type": "code",
   "execution_count": 112,
   "id": "9194a68b-c53b-46b3-9999-498b90336a44",
   "metadata": {
    "execution": {
     "iopub.execute_input": "2023-11-25T09:25:13.000347Z",
     "iopub.status.busy": "2023-11-25T09:25:13.000025Z",
     "iopub.status.idle": "2023-11-25T09:26:12.665275Z",
     "shell.execute_reply": "2023-11-25T09:26:12.663952Z",
     "shell.execute_reply.started": "2023-11-25T09:25:13.000324Z"
    },
    "tags": []
   },
   "outputs": [],
   "source": [
    "train_df.to_parquet('train_df.parquet')\n",
    "val_df.to_parquet('val_df.parquet')"
   ]
  },
  {
   "cell_type": "code",
   "execution_count": null,
   "id": "5a504f5a-cbd8-410f-841d-3983ba896ef1",
   "metadata": {},
   "outputs": [],
   "source": []
  },
  {
   "cell_type": "code",
   "execution_count": 24,
   "id": "dd3d6b7e-27d3-4c73-a692-a4a227938ac1",
   "metadata": {
    "execution": {
     "iopub.execute_input": "2023-11-25T09:40:58.172898Z",
     "iopub.status.busy": "2023-11-25T09:40:58.172299Z",
     "iopub.status.idle": "2023-11-25T09:41:54.661636Z",
     "shell.execute_reply": "2023-11-25T09:41:54.660789Z",
     "shell.execute_reply.started": "2023-11-25T09:40:58.172856Z"
    }
   },
   "outputs": [],
   "source": [
    "train_df = pd.read_parquet('train_df.parquet')\n",
    "val_df = pd.read_parquet('val_df.parquet')"
   ]
  },
  {
   "cell_type": "code",
   "execution_count": null,
   "id": "449b168a-63ec-4ac5-8406-be1ca1d71ce5",
   "metadata": {},
   "outputs": [],
   "source": []
  },
  {
   "cell_type": "code",
   "execution_count": 27,
   "id": "4133d956-066e-45cc-a2b3-814770425c47",
   "metadata": {
    "execution": {
     "iopub.execute_input": "2023-11-25T09:43:09.632020Z",
     "iopub.status.busy": "2023-11-25T09:43:09.631111Z",
     "iopub.status.idle": "2023-11-25T09:43:09.641830Z",
     "shell.execute_reply": "2023-11-25T09:43:09.641062Z",
     "shell.execute_reply.started": "2023-11-25T09:43:09.631975Z"
    },
    "tags": []
   },
   "outputs": [],
   "source": [
    "cat_features = ['v_channel_type', 'v_category']"
   ]
  },
  {
   "cell_type": "code",
   "execution_count": 28,
   "id": "f30fc476-f6e4-4388-bd13-661d1253e05a",
   "metadata": {
    "execution": {
     "iopub.execute_input": "2023-11-25T09:43:11.070550Z",
     "iopub.status.busy": "2023-11-25T09:43:11.069748Z",
     "iopub.status.idle": "2023-11-25T09:43:45.162575Z",
     "shell.execute_reply": "2023-11-25T09:43:45.161132Z",
     "shell.execute_reply.started": "2023-11-25T09:43:11.070496Z"
    },
    "tags": []
   },
   "outputs": [],
   "source": [
    "train_pool = Pool(\n",
    "    data=train_df.drop(['query_id', 'video_id', 'label'], axis=1),\n",
    "    label=train_df['label'],\n",
    "    group_id=train_df['query_id'],\n",
    "    cat_features=cat_features\n",
    ")\n",
    "\n",
    "val_pool = Pool(\n",
    "    data=val_df.drop(['query_id', 'video_id', 'label'], axis=1),\n",
    "    label=val_df['label'],\n",
    "    group_id=val_df['query_id'],\n",
    "    cat_features=cat_features\n",
    ")"
   ]
  },
  {
   "cell_type": "code",
   "execution_count": 31,
   "id": "db57f654-f9ad-426f-9aa9-699f574fc0fa",
   "metadata": {
    "execution": {
     "iopub.execute_input": "2023-11-25T09:50:05.083022Z",
     "iopub.status.busy": "2023-11-25T09:50:05.082324Z",
     "iopub.status.idle": "2023-11-25T09:50:05.093544Z",
     "shell.execute_reply": "2023-11-25T09:50:05.092806Z",
     "shell.execute_reply.started": "2023-11-25T09:50:05.082987Z"
    },
    "tags": []
   },
   "outputs": [],
   "source": [
    "params = {\n",
    "    'task_type': 'GPU',\n",
    "    'loss_function': 'YetiRank',\n",
    "    'eval_metric': 'NDCG:top=5',\n",
    "    'iterations': 512,\n",
    "    # 'learning_rate': 0.01,\n",
    "}"
   ]
  },
  {
   "cell_type": "code",
   "execution_count": 32,
   "id": "772479ce-f177-4ea0-b2d6-f4aae31beb9f",
   "metadata": {
    "execution": {
     "iopub.execute_input": "2023-11-25T09:50:05.197196Z",
     "iopub.status.busy": "2023-11-25T09:50:05.196642Z",
     "iopub.status.idle": "2023-11-25T10:00:57.312445Z",
     "shell.execute_reply": "2023-11-25T10:00:57.311590Z",
     "shell.execute_reply.started": "2023-11-25T09:50:05.197166Z"
    },
    "tags": []
   },
   "outputs": [
    {
     "name": "stdout",
     "output_type": "stream",
     "text": [
      "Groupwise loss function. OneHotMaxSize set to 10\n"
     ]
    },
    {
     "name": "stderr",
     "output_type": "stream",
     "text": [
      "Default metric period is 5 because PFound, NDCG is/are not implemented for GPU\n",
      "Metric PFound is not implemented on GPU. Will use CPU for metric computation, this could significantly affect learning time\n",
      "Metric NDCG:top=5;type=Base is not implemented on GPU. Will use CPU for metric computation, this could significantly affect learning time\n"
     ]
    },
    {
     "name": "stdout",
     "output_type": "stream",
     "text": [
      "0:\ttest: 0.6285417\tbest: 0.6285417 (0)\ttotal: 1.7s\tremaining: 14m 29s\n",
      "10:\ttest: 0.7068445\tbest: 0.7068445 (10)\ttotal: 13.8s\tremaining: 10m 28s\n",
      "20:\ttest: 0.7266498\tbest: 0.7266498 (20)\ttotal: 25.9s\tremaining: 10m 6s\n",
      "30:\ttest: 0.7332181\tbest: 0.7332181 (30)\ttotal: 38s\tremaining: 9m 49s\n",
      "40:\ttest: 0.7378937\tbest: 0.7378937 (40)\ttotal: 50s\tremaining: 9m 34s\n",
      "50:\ttest: 0.7423039\tbest: 0.7423039 (50)\ttotal: 1m 2s\tremaining: 9m 20s\n",
      "60:\ttest: 0.7431685\tbest: 0.7431685 (60)\ttotal: 1m 14s\tremaining: 9m 7s\n",
      "70:\ttest: 0.7539244\tbest: 0.7539244 (70)\ttotal: 1m 26s\tremaining: 8m 54s\n",
      "80:\ttest: 0.7566736\tbest: 0.7566736 (80)\ttotal: 1m 37s\tremaining: 8m 41s\n",
      "90:\ttest: 0.7615779\tbest: 0.7615779 (90)\ttotal: 1m 50s\tremaining: 8m 29s\n",
      "100:\ttest: 0.7660053\tbest: 0.7660053 (100)\ttotal: 2m 2s\tremaining: 8m 16s\n",
      "110:\ttest: 0.7722546\tbest: 0.7722546 (110)\ttotal: 2m 14s\tremaining: 8m 4s\n",
      "120:\ttest: 0.7741977\tbest: 0.7741977 (120)\ttotal: 2m 26s\tremaining: 7m 52s\n",
      "130:\ttest: 0.7762364\tbest: 0.7762364 (130)\ttotal: 2m 38s\tremaining: 7m 40s\n",
      "140:\ttest: 0.7785288\tbest: 0.7785288 (140)\ttotal: 2m 50s\tremaining: 7m 28s\n",
      "150:\ttest: 0.7798959\tbest: 0.7798959 (150)\ttotal: 3m 2s\tremaining: 7m 16s\n",
      "160:\ttest: 0.7813113\tbest: 0.7813113 (160)\ttotal: 3m 14s\tremaining: 7m 3s\n",
      "170:\ttest: 0.7830303\tbest: 0.7830303 (170)\ttotal: 3m 26s\tremaining: 6m 51s\n",
      "180:\ttest: 0.7843965\tbest: 0.7843965 (180)\ttotal: 3m 38s\tremaining: 6m 39s\n",
      "190:\ttest: 0.7856468\tbest: 0.7856468 (190)\ttotal: 3m 50s\tremaining: 6m 27s\n",
      "200:\ttest: 0.7866561\tbest: 0.7866561 (200)\ttotal: 4m 2s\tremaining: 6m 15s\n",
      "210:\ttest: 0.7874855\tbest: 0.7874855 (210)\ttotal: 4m 14s\tremaining: 6m 3s\n",
      "220:\ttest: 0.7881778\tbest: 0.7881778 (220)\ttotal: 4m 26s\tremaining: 5m 51s\n",
      "230:\ttest: 0.7890133\tbest: 0.7890133 (230)\ttotal: 4m 38s\tremaining: 5m 39s\n",
      "240:\ttest: 0.7897088\tbest: 0.7897088 (240)\ttotal: 4m 50s\tremaining: 5m 27s\n",
      "250:\ttest: 0.7906295\tbest: 0.7906295 (250)\ttotal: 5m 2s\tremaining: 5m 14s\n",
      "260:\ttest: 0.7913281\tbest: 0.7913281 (260)\ttotal: 5m 14s\tremaining: 5m 2s\n",
      "270:\ttest: 0.7919252\tbest: 0.7919252 (270)\ttotal: 5m 26s\tremaining: 4m 50s\n",
      "280:\ttest: 0.7925198\tbest: 0.7925198 (280)\ttotal: 5m 38s\tremaining: 4m 38s\n",
      "290:\ttest: 0.7927289\tbest: 0.7927289 (290)\ttotal: 5m 50s\tremaining: 4m 26s\n",
      "300:\ttest: 0.7932135\tbest: 0.7932135 (300)\ttotal: 6m 2s\tremaining: 4m 14s\n",
      "310:\ttest: 0.7935732\tbest: 0.7935732 (310)\ttotal: 6m 14s\tremaining: 4m 2s\n",
      "320:\ttest: 0.7939971\tbest: 0.7939971 (320)\ttotal: 6m 26s\tremaining: 3m 50s\n",
      "330:\ttest: 0.7944156\tbest: 0.7944156 (330)\ttotal: 6m 38s\tremaining: 3m 38s\n",
      "340:\ttest: 0.7947962\tbest: 0.7947962 (340)\ttotal: 6m 51s\tremaining: 3m 26s\n",
      "350:\ttest: 0.7950786\tbest: 0.7950786 (350)\ttotal: 7m 3s\tremaining: 3m 14s\n",
      "360:\ttest: 0.7956255\tbest: 0.7956255 (360)\ttotal: 7m 15s\tremaining: 3m 1s\n",
      "370:\ttest: 0.7960513\tbest: 0.7960513 (370)\ttotal: 7m 27s\tremaining: 2m 49s\n",
      "380:\ttest: 0.7962597\tbest: 0.7962597 (380)\ttotal: 7m 39s\tremaining: 2m 37s\n",
      "390:\ttest: 0.7965512\tbest: 0.7965512 (390)\ttotal: 7m 51s\tremaining: 2m 25s\n",
      "400:\ttest: 0.7968933\tbest: 0.7968933 (400)\ttotal: 8m 3s\tremaining: 2m 13s\n",
      "410:\ttest: 0.7971875\tbest: 0.7971875 (410)\ttotal: 8m 15s\tremaining: 2m 1s\n",
      "420:\ttest: 0.7973218\tbest: 0.7973218 (420)\ttotal: 8m 27s\tremaining: 1m 49s\n",
      "430:\ttest: 0.7974703\tbest: 0.7974703 (430)\ttotal: 8m 39s\tremaining: 1m 37s\n",
      "440:\ttest: 0.7976842\tbest: 0.7976842 (440)\ttotal: 8m 51s\tremaining: 1m 25s\n",
      "450:\ttest: 0.7978646\tbest: 0.7978646 (450)\ttotal: 9m 3s\tremaining: 1m 13s\n",
      "460:\ttest: 0.7980300\tbest: 0.7980300 (460)\ttotal: 9m 15s\tremaining: 1m 1s\n",
      "470:\ttest: 0.7983386\tbest: 0.7983386 (470)\ttotal: 9m 27s\tremaining: 49.4s\n",
      "480:\ttest: 0.7984897\tbest: 0.7984897 (480)\ttotal: 9m 39s\tremaining: 37.4s\n",
      "490:\ttest: 0.7986901\tbest: 0.7986901 (490)\ttotal: 9m 51s\tremaining: 25.3s\n",
      "500:\ttest: 0.7987781\tbest: 0.7987781 (500)\ttotal: 10m 3s\tremaining: 13.3s\n",
      "510:\ttest: 0.7989050\tbest: 0.7989050 (510)\ttotal: 10m 15s\tremaining: 1.21s\n",
      "511:\ttest: 0.7989340\tbest: 0.7989340 (511)\ttotal: 10m 17s\tremaining: 0us\n",
      "bestTest = 0.7989339542\n",
      "bestIteration = 511\n"
     ]
    },
    {
     "data": {
      "text/plain": [
       "<catboost.core.CatBoostRanker at 0x7f3a7243f7f0>"
      ]
     },
     "execution_count": 32,
     "metadata": {},
     "output_type": "execute_result"
    }
   ],
   "source": [
    "model_cb = CatBoostRanker(**params, random_seed=56)\n",
    "model_cb.fit(train_pool, eval_set=val_pool, plot=False, verbose=10, use_best_model=True)"
   ]
  },
  {
   "cell_type": "raw",
   "id": "781ba8ae-8c69-4fe0-bda4-1725c16fe6c5",
   "metadata": {},
   "source": [
    "0.8349227518 (GPU) 0.8257930373 (CPU)\n",
    "0.9250865511 (features)\n",
    "\n",
    "-------------------------------------\n",
    "\n",
    "\n",
    "0.9196210212 (CPU) 0.9225162 (GPU)\n",
    "\n",
    "0.7673159034 (GPU)\n",
    "0.7989339542 (GPU)"
   ]
  },
  {
   "cell_type": "markdown",
   "id": "f2c47ee4-5da3-4ada-8116-cc13ad161aaf",
   "metadata": {},
   "source": [
    "# Тестирование"
   ]
  },
  {
   "cell_type": "code",
   "execution_count": 33,
   "id": "996e49f5-d791-4622-bc46-618410ad83a7",
   "metadata": {
    "execution": {
     "iopub.execute_input": "2023-11-25T10:00:57.314361Z",
     "iopub.status.busy": "2023-11-25T10:00:57.313652Z",
     "iopub.status.idle": "2023-11-25T10:00:57.466165Z",
     "shell.execute_reply": "2023-11-25T10:00:57.465229Z",
     "shell.execute_reply.started": "2023-11-25T10:00:57.314320Z"
    },
    "tags": []
   },
   "outputs": [
    {
     "data": {
      "text/plain": [
       "0.34779991828675616"
      ]
     },
     "execution_count": 33,
     "metadata": {},
     "output_type": "execute_result"
    }
   ],
   "source": [
    "np.max(model_cb.get_evals_result()['validation']['NDCG:top=5;type=Base']) / val_df['query_id'].nunique() * val_df['label'].sum()"
   ]
  },
  {
   "cell_type": "raw",
   "id": "462ee843-6498-4baa-abec-7bc0dc19c365",
   "metadata": {},
   "source": [
    "0.17835220932908666\n",
    "\n",
    "0.33403563222876510 (+ labse)\n",
    "0.34779991828675616"
   ]
  },
  {
   "cell_type": "code",
   "execution_count": null,
   "id": "6c460f26-974a-422d-8ce1-b24b7ede0416",
   "metadata": {},
   "outputs": [],
   "source": []
  },
  {
   "cell_type": "code",
   "execution_count": 38,
   "id": "45443be3-65a5-445f-82b5-e1d65032f3c5",
   "metadata": {
    "execution": {
     "iopub.execute_input": "2023-11-25T10:01:54.174479Z",
     "iopub.status.busy": "2023-11-25T10:01:54.173499Z",
     "iopub.status.idle": "2023-11-25T10:01:57.948676Z",
     "shell.execute_reply": "2023-11-25T10:01:57.947726Z",
     "shell.execute_reply.started": "2023-11-25T10:01:54.174431Z"
    },
    "tags": []
   },
   "outputs": [],
   "source": [
    "test = pl.from_pandas(val_df)"
   ]
  },
  {
   "cell_type": "code",
   "execution_count": 39,
   "id": "4b733ac5-6115-40ba-ba48-4b4cfa48d290",
   "metadata": {
    "execution": {
     "iopub.execute_input": "2023-11-25T10:01:57.950743Z",
     "iopub.status.busy": "2023-11-25T10:01:57.950016Z",
     "iopub.status.idle": "2023-11-25T10:02:08.786014Z",
     "shell.execute_reply": "2023-11-25T10:02:08.785013Z",
     "shell.execute_reply.started": "2023-11-25T10:01:57.950687Z"
    },
    "tags": []
   },
   "outputs": [],
   "source": [
    "test = test.with_columns(\n",
    "    score=pl.Series(model_cb.predict(val_pool))\n",
    ")\n",
    "\n",
    "test = (\n",
    "    test\n",
    "    .sort(by='score', descending=True)\n",
    "    .groupby('query_id').agg(pl.col('video_id').head(5))\n",
    "    .join(labels, on='query_id', how='outer')\n",
    "    .select('query_id', 'video_id', 'video_id_right')\n",
    ")"
   ]
  },
  {
   "cell_type": "code",
   "execution_count": 40,
   "id": "8147803f-5d2d-4d7f-9c6e-7f8d91ae4e5c",
   "metadata": {
    "execution": {
     "iopub.execute_input": "2023-11-25T10:02:08.788598Z",
     "iopub.status.busy": "2023-11-25T10:02:08.788134Z",
     "iopub.status.idle": "2023-11-25T10:02:08.941820Z",
     "shell.execute_reply": "2023-11-25T10:02:08.940847Z",
     "shell.execute_reply.started": "2023-11-25T10:02:08.788564Z"
    },
    "tags": []
   },
   "outputs": [],
   "source": [
    "test = test.to_pandas()"
   ]
  },
  {
   "cell_type": "code",
   "execution_count": 41,
   "id": "036f0eed-4217-474e-a96f-f1831cc5a888",
   "metadata": {
    "execution": {
     "iopub.execute_input": "2023-11-25T10:02:08.944123Z",
     "iopub.status.busy": "2023-11-25T10:02:08.943437Z",
     "iopub.status.idle": "2023-11-25T10:02:09.624232Z",
     "shell.execute_reply": "2023-11-25T10:02:09.623155Z",
     "shell.execute_reply.started": "2023-11-25T10:02:08.944084Z"
    },
    "tags": []
   },
   "outputs": [
    {
     "data": {
      "text/plain": [
       "0.09693666666666667"
      ]
     },
     "execution_count": 41,
     "metadata": {},
     "output_type": "execute_result"
    }
   ],
   "source": [
    "p, q = 0, 0\n",
    "for preds, label in zip(test.video_id, test.video_id_right):\n",
    "    if preds is not None:\n",
    "        p += label in preds\n",
    "    q += 1\n",
    "p / q # 0.04955"
   ]
  },
  {
   "cell_type": "raw",
   "id": "143877a4-a06a-4cbd-9014-08f0ae59120e",
   "metadata": {},
   "source": [
    "init: 0.029176666666666667\n",
    "\n",
    "0.04955 (+ features) 0.04966\n",
    "0.08908333333333333 (+ labse)\n",
    "0.09693666666666667"
   ]
  },
  {
   "cell_type": "code",
   "execution_count": 42,
   "id": "4d86076f-cb82-4e11-a558-12b26d38f9b3",
   "metadata": {
    "execution": {
     "iopub.execute_input": "2023-11-25T10:02:09.626472Z",
     "iopub.status.busy": "2023-11-25T10:02:09.625495Z",
     "iopub.status.idle": "2023-11-25T10:02:09.909491Z",
     "shell.execute_reply": "2023-11-25T10:02:09.908225Z",
     "shell.execute_reply.started": "2023-11-25T10:02:09.626426Z"
    },
    "tags": []
   },
   "outputs": [
    {
     "data": {
      "text/plain": [
       "0.07184116666666787"
      ]
     },
     "execution_count": 42,
     "metadata": {},
     "output_type": "execute_result"
    }
   ],
   "source": [
    "p, q = 0, 0\n",
    "for preds, label in zip(test.video_id, test.video_id_right):\n",
    "    if preds is not None:\n",
    "        for rank, pred in enumerate(preds):\n",
    "            if pred == label:\n",
    "                p += 1 / (rank + 1)\n",
    "                break\n",
    "    q += 1\n",
    "p / q # 0.03422005555555579"
   ]
  },
  {
   "cell_type": "raw",
   "id": "d6052c47-8beb-4296-8c57-53751a0ae1e0",
   "metadata": {},
   "source": [
    "init: 0.01956661111111065\n",
    "\n",
    "0.03422005555555579 (+ features) 0.0335855555555555\n",
    "0.06061805555555900 (+ labse)\n",
    "0.07184116666666787"
   ]
  },
  {
   "cell_type": "markdown",
   "id": "27d7bd25-1e10-4fca-aef1-5d58adb8585f",
   "metadata": {},
   "source": [
    "# Получение предсказаний для тестовой выборки"
   ]
  },
  {
   "cell_type": "code",
   "execution_count": 43,
   "id": "1670a33a-6508-4633-a6a2-f5b29cdc1230",
   "metadata": {
    "execution": {
     "iopub.execute_input": "2023-11-25T10:02:18.702554Z",
     "iopub.status.busy": "2023-11-25T10:02:18.701830Z",
     "iopub.status.idle": "2023-11-25T10:02:18.741304Z",
     "shell.execute_reply": "2023-11-25T10:02:18.740478Z",
     "shell.execute_reply.started": "2023-11-25T10:02:18.702506Z"
    },
    "tags": []
   },
   "outputs": [
    {
     "data": {
      "text/html": [
       "<div>\n",
       "<style scoped>\n",
       "    .dataframe tbody tr th:only-of-type {\n",
       "        vertical-align: middle;\n",
       "    }\n",
       "\n",
       "    .dataframe tbody tr th {\n",
       "        vertical-align: top;\n",
       "    }\n",
       "\n",
       "    .dataframe thead th {\n",
       "        text-align: right;\n",
       "    }\n",
       "</style>\n",
       "<table border=\"1\" class=\"dataframe\">\n",
       "  <thead>\n",
       "    <tr style=\"text-align: right;\">\n",
       "      <th></th>\n",
       "      <th>query</th>\n",
       "    </tr>\n",
       "  </thead>\n",
       "  <tbody>\n",
       "    <tr>\n",
       "      <th>0</th>\n",
       "      <td>Битва сильнейших экстрасенсов 2023 смотреть | ...</td>\n",
       "    </tr>\n",
       "    <tr>\n",
       "      <th>1</th>\n",
       "      <td>битва сильнейших экстрасенсов 2023\\nбитва силь...</td>\n",
       "    </tr>\n",
       "    <tr>\n",
       "      <th>2</th>\n",
       "      <td>Экстрасенсы. Битва сильнейших, 4 выпуск</td>\n",
       "    </tr>\n",
       "    <tr>\n",
       "      <th>3</th>\n",
       "      <td>супер стар 4 сезон</td>\n",
       "    </tr>\n",
       "    <tr>\n",
       "      <th>4</th>\n",
       "      <td>пять ночей с Фредди</td>\n",
       "    </tr>\n",
       "    <tr>\n",
       "      <th>...</th>\n",
       "      <td>...</td>\n",
       "    </tr>\n",
       "    <tr>\n",
       "      <th>1995</th>\n",
       "      <td>Шоу аватар 2023</td>\n",
       "    </tr>\n",
       "    <tr>\n",
       "      <th>1996</th>\n",
       "      <td>Макс</td>\n",
       "    </tr>\n",
       "    <tr>\n",
       "      <th>1997</th>\n",
       "      <td>смотреть мужское женское 2019</td>\n",
       "    </tr>\n",
       "    <tr>\n",
       "      <th>1998</th>\n",
       "      <td>шоу вована и лексуса</td>\n",
       "    </tr>\n",
       "    <tr>\n",
       "      <th>1999</th>\n",
       "      <td>мужкое женское выпуск от 04 06 2021</td>\n",
       "    </tr>\n",
       "  </tbody>\n",
       "</table>\n",
       "<p>2000 rows × 1 columns</p>\n",
       "</div>"
      ],
      "text/plain": [
       "                                                  query\n",
       "0     Битва сильнейших экстрасенсов 2023 смотреть | ...\n",
       "1     битва сильнейших экстрасенсов 2023\\nбитва силь...\n",
       "2               Экстрасенсы. Битва сильнейших, 4 выпуск\n",
       "3                                    супер стар 4 сезон\n",
       "4                                   пять ночей с Фредди\n",
       "...                                                 ...\n",
       "1995                                    Шоу аватар 2023\n",
       "1996                                              Макс \n",
       "1997                      смотреть мужское женское 2019\n",
       "1998                               шоу вована и лексуса\n",
       "1999                мужкое женское выпуск от 04 06 2021\n",
       "\n",
       "[2000 rows x 1 columns]"
      ]
     },
     "execution_count": 43,
     "metadata": {},
     "output_type": "execute_result"
    }
   ],
   "source": [
    "test_queries = pd.read_csv('./test_dataset_submission_queries.csv')\n",
    "test_queries"
   ]
  },
  {
   "cell_type": "code",
   "execution_count": 44,
   "id": "7fe38655-fdc8-4768-8a3a-df1eb5e93849",
   "metadata": {
    "execution": {
     "iopub.execute_input": "2023-11-25T10:02:20.310791Z",
     "iopub.status.busy": "2023-11-25T10:02:20.309724Z",
     "iopub.status.idle": "2023-11-25T10:02:26.197431Z",
     "shell.execute_reply": "2023-11-25T10:02:26.196586Z",
     "shell.execute_reply.started": "2023-11-25T10:02:20.310677Z"
    },
    "tags": []
   },
   "outputs": [
    {
     "data": {
      "application/vnd.jupyter.widget-view+json": {
       "model_id": "21f93eab047144649b0cd263cc4ed86c",
       "version_major": 2,
       "version_minor": 0
      },
      "text/plain": [
       "  0%|          | 0/1 [00:00<?, ?it/s]"
      ]
     },
     "metadata": {},
     "output_type": "display_data"
    }
   ],
   "source": [
    "merged = lex_rec.predict(test_queries['query'], 100)"
   ]
  },
  {
   "cell_type": "code",
   "execution_count": 45,
   "id": "8ff2370c-3a55-4db3-88c4-c70b23c87426",
   "metadata": {
    "execution": {
     "iopub.execute_input": "2023-11-25T10:02:26.199535Z",
     "iopub.status.busy": "2023-11-25T10:02:26.198607Z",
     "iopub.status.idle": "2023-11-25T10:03:38.234862Z",
     "shell.execute_reply": "2023-11-25T10:03:38.234064Z",
     "shell.execute_reply.started": "2023-11-25T10:02:26.199472Z"
    },
    "tags": []
   },
   "outputs": [
    {
     "data": {
      "application/vnd.jupyter.widget-view+json": {
       "model_id": "f7a8a1999feb4ba185e56baed60b2227",
       "version_major": 2,
       "version_minor": 0
      },
      "text/plain": [
       "  0%|          | 0/2000 [00:00<?, ?it/s]"
      ]
     },
     "metadata": {},
     "output_type": "display_data"
    }
   ],
   "source": [
    "sem_recs = []\n",
    "for i, query in enumerate(tqdm(test_queries['query'])):\n",
    "    sem_recs.append(sem_rec.predict_one(query, 100))\n",
    "    sem_recs[-1] = sem_recs[-1].with_columns(query_id=pl.lit(i, pl.Int32))"
   ]
  },
  {
   "cell_type": "code",
   "execution_count": 46,
   "id": "866522f1-8213-4c5a-ad7c-8c7059264307",
   "metadata": {
    "execution": {
     "iopub.execute_input": "2023-11-25T10:03:38.237471Z",
     "iopub.status.busy": "2023-11-25T10:03:38.236816Z",
     "iopub.status.idle": "2023-11-25T10:03:38.348183Z",
     "shell.execute_reply": "2023-11-25T10:03:38.347133Z",
     "shell.execute_reply.started": "2023-11-25T10:03:38.237439Z"
    },
    "tags": []
   },
   "outputs": [],
   "source": [
    "merged = merged.join(pl.concat(sem_recs), on=['query_id', 'video_id'], how='outer')"
   ]
  },
  {
   "cell_type": "code",
   "execution_count": 47,
   "id": "77d4ab79-ecef-4c82-b36c-62e389a56df9",
   "metadata": {
    "execution": {
     "iopub.execute_input": "2023-11-25T10:03:38.350338Z",
     "iopub.status.busy": "2023-11-25T10:03:38.349467Z",
     "iopub.status.idle": "2023-11-25T10:03:38.367712Z",
     "shell.execute_reply": "2023-11-25T10:03:38.366855Z",
     "shell.execute_reply.started": "2023-11-25T10:03:38.350289Z"
    },
    "tags": []
   },
   "outputs": [],
   "source": [
    "merged = merged.fill_null(0)"
   ]
  },
  {
   "cell_type": "code",
   "execution_count": 48,
   "id": "a0ce5b4c-60ac-4f9b-8fa5-d25904fed881",
   "metadata": {
    "execution": {
     "iopub.execute_input": "2023-11-25T10:03:38.369770Z",
     "iopub.status.busy": "2023-11-25T10:03:38.368924Z",
     "iopub.status.idle": "2023-11-25T10:03:38.380692Z",
     "shell.execute_reply": "2023-11-25T10:03:38.379788Z",
     "shell.execute_reply.started": "2023-11-25T10:03:38.369734Z"
    }
   },
   "outputs": [],
   "source": [
    "merged = merged.with_columns(datetime_ind=pl.lit(5064, pl.Int32))"
   ]
  },
  {
   "cell_type": "code",
   "execution_count": 49,
   "id": "b72121f5-153f-4591-af5e-935b6fa477e9",
   "metadata": {
    "execution": {
     "iopub.execute_input": "2023-11-25T10:06:43.251290Z",
     "iopub.status.busy": "2023-11-25T10:06:43.250297Z",
     "iopub.status.idle": "2023-11-25T10:06:44.478328Z",
     "shell.execute_reply": "2023-11-25T10:06:44.477483Z",
     "shell.execute_reply.started": "2023-11-25T10:06:43.251249Z"
    },
    "tags": []
   },
   "outputs": [],
   "source": [
    "merged = merged.join(features, on=['video_id'], how='left')\n",
    "merged = merged.with_columns(ind_diff=pl.col('datetime_ind') - pl.col('v_pub_datetime_ind'))\n",
    "merged = merged.fill_null(-1)"
   ]
  },
  {
   "cell_type": "code",
   "execution_count": 50,
   "id": "f4b97a96-f94d-4dcf-b93b-032cc80a8191",
   "metadata": {
    "execution": {
     "iopub.execute_input": "2023-11-25T10:06:46.328503Z",
     "iopub.status.busy": "2023-11-25T10:06:46.327786Z",
     "iopub.status.idle": "2023-11-25T10:06:46.375217Z",
     "shell.execute_reply": "2023-11-25T10:06:46.374354Z",
     "shell.execute_reply.started": "2023-11-25T10:06:46.328468Z"
    },
    "tags": []
   },
   "outputs": [],
   "source": [
    "merged = merged.sort('query_id')"
   ]
  },
  {
   "cell_type": "code",
   "execution_count": 51,
   "id": "a1ec751b-53e8-491e-8b27-453c8f899e48",
   "metadata": {
    "execution": {
     "iopub.execute_input": "2023-11-25T10:06:46.479455Z",
     "iopub.status.busy": "2023-11-25T10:06:46.478546Z",
     "iopub.status.idle": "2023-11-25T10:06:46.537045Z",
     "shell.execute_reply": "2023-11-25T10:06:46.536261Z",
     "shell.execute_reply.started": "2023-11-25T10:06:46.479402Z"
    },
    "tags": []
   },
   "outputs": [
    {
     "data": {
      "text/html": [
       "<div><style>\n",
       ".dataframe > thead > tr > th,\n",
       ".dataframe > tbody > tr > td {\n",
       "  text-align: right;\n",
       "}\n",
       "</style>\n",
       "<small>shape: (376165, 35)</small><table border=\"1\" class=\"dataframe\"><thead><tr><th>query_id</th><th>video_id</th><th>lex_score</th><th>lex_rank</th><th>sem_score</th><th>sem_rank</th><th>datetime_ind</th><th>v_channel_type</th><th>v_category</th><th>total_comments</th><th>v_year_views</th><th>v_month_views</th><th>v_week_views</th><th>v_day_views</th><th>v_likes</th><th>v_dislikes</th><th>v_duration</th><th>v_cr_click_like_7_days</th><th>v_cr_click_dislike_7_days</th><th>v_cr_click_vtop_7_days</th><th>v_cr_click_long_view_7_days</th><th>v_cr_click_comment_7_days</th><th>v_cr_click_like_30_days</th><th>v_cr_click_dislike_30_days</th><th>v_cr_click_vtop_30_days</th><th>v_cr_click_long_view_30_days</th><th>v_cr_click_comment_30_days</th><th>v_cr_click_like_1_days</th><th>v_cr_click_dislike_1_days</th><th>v_cr_click_vtop_1_days</th><th>v_cr_click_long_view_1_days</th><th>v_cr_click_comment_1_days</th><th>v_channel_reg_datetime_ind</th><th>v_pub_datetime_ind</th><th>ind_diff</th></tr><tr><td>i32</td><td>str</td><td>f32</td><td>i8</td><td>f32</td><td>i8</td><td>i32</td><td>str</td><td>str</td><td>i32</td><td>i32</td><td>i32</td><td>i32</td><td>i32</td><td>i32</td><td>i32</td><td>i32</td><td>f32</td><td>f32</td><td>f32</td><td>f32</td><td>f32</td><td>f32</td><td>f32</td><td>f32</td><td>f32</td><td>f32</td><td>f32</td><td>f32</td><td>f32</td><td>f32</td><td>f32</td><td>i64</td><td>i64</td><td>i64</td></tr></thead><tbody><tr><td>0</td><td>&quot;video_7205638&quot;</td><td>0.0</td><td>0</td><td>0.854891</td><td>1</td><td>5064</td><td>&quot;UGC&quot;</td><td>&quot;Телепередачи&quot;</td><td>0</td><td>726</td><td>59</td><td>0</td><td>0</td><td>0</td><td>0</td><td>82416</td><td>0.0</td><td>0.0</td><td>0.0</td><td>0.0</td><td>0.0</td><td>0.0</td><td>0.0</td><td>0.0</td><td>0.050847</td><td>0.0</td><td>0.0</td><td>0.0</td><td>0.0</td><td>0.0</td><td>0.0</td><td>4753</td><td>4857</td><td>207</td></tr><tr><td>0</td><td>&quot;video_14611671…</td><td>0.0</td><td>0</td><td>0.854891</td><td>2</td><td>5064</td><td>&quot;UGC&quot;</td><td>&quot;Развлечения&quot;</td><td>0</td><td>305</td><td>9</td><td>2</td><td>0</td><td>0</td><td>0</td><td>85886</td><td>0.0</td><td>0.0</td><td>0.0</td><td>1.0</td><td>0.0</td><td>0.0</td><td>0.0</td><td>0.0</td><td>0.666667</td><td>0.0</td><td>0.0</td><td>0.0</td><td>0.0</td><td>0.0</td><td>0.0</td><td>4753</td><td>4861</td><td>203</td></tr><tr><td>0</td><td>&quot;video_9558708&quot;</td><td>0.0</td><td>0</td><td>0.854891</td><td>3</td><td>5064</td><td>&quot;UGC&quot;</td><td>&quot;Телепередачи&quot;</td><td>0</td><td>303</td><td>17</td><td>7</td><td>0</td><td>0</td><td>0</td><td>85886</td><td>0.0</td><td>0.0</td><td>0.0</td><td>0.285714</td><td>0.0</td><td>0.0</td><td>0.0</td><td>0.0</td><td>0.411765</td><td>0.0</td><td>0.0</td><td>0.0</td><td>0.0</td><td>0.0</td><td>0.0</td><td>4753</td><td>4861</td><td>203</td></tr><tr><td>0</td><td>&quot;video_5123456&quot;</td><td>0.0</td><td>0</td><td>0.854742</td><td>4</td><td>5064</td><td>&quot;UGC&quot;</td><td>&quot;Телепередачи&quot;</td><td>0</td><td>382</td><td>24</td><td>10</td><td>4</td><td>0</td><td>0</td><td>75643</td><td>0.0</td><td>0.0</td><td>0.0</td><td>0.5</td><td>0.0</td><td>0.0</td><td>0.0</td><td>0.0</td><td>0.333333</td><td>0.0</td><td>0.0</td><td>0.0</td><td>0.0</td><td>0.0</td><td>0.0</td><td>4753</td><td>4861</td><td>203</td></tr><tr><td>0</td><td>&quot;video_28238230…</td><td>0.0</td><td>0</td><td>0.848417</td><td>5</td><td>5064</td><td>&quot;UGC&quot;</td><td>&quot;Телепередачи&quot;</td><td>0</td><td>452</td><td>71</td><td>2</td><td>0</td><td>0</td><td>0</td><td>76377</td><td>0.0</td><td>0.0</td><td>0.0</td><td>0.0</td><td>0.0</td><td>0.0</td><td>0.0</td><td>0.0</td><td>0.112676</td><td>0.0</td><td>0.0</td><td>0.0</td><td>0.0</td><td>0.0</td><td>0.0</td><td>4753</td><td>4861</td><td>203</td></tr><tr><td>0</td><td>&quot;video_30934264…</td><td>0.0</td><td>0</td><td>0.84822</td><td>6</td><td>5064</td><td>&quot;UGC&quot;</td><td>&quot;Сериалы&quot;</td><td>0</td><td>158</td><td>3</td><td>0</td><td>0</td><td>0</td><td>0</td><td>73941</td><td>0.0</td><td>0.0</td><td>0.0</td><td>0.0</td><td>0.0</td><td>0.0</td><td>0.0</td><td>0.0</td><td>0.333333</td><td>0.0</td><td>0.0</td><td>0.0</td><td>0.0</td><td>0.0</td><td>0.0</td><td>4753</td><td>4861</td><td>203</td></tr><tr><td>0</td><td>&quot;video_7471681&quot;</td><td>0.0</td><td>0</td><td>0.845654</td><td>7</td><td>5064</td><td>&quot;UGC&quot;</td><td>&quot;Телепередачи&quot;</td><td>0</td><td>367</td><td>39</td><td>9</td><td>1</td><td>0</td><td>0</td><td>85886</td><td>0.0</td><td>0.0</td><td>0.0</td><td>0.666667</td><td>0.0</td><td>0.0</td><td>0.0</td><td>0.0</td><td>0.282051</td><td>0.0</td><td>0.0</td><td>0.0</td><td>0.0</td><td>0.0</td><td>0.0</td><td>4753</td><td>4861</td><td>203</td></tr><tr><td>0</td><td>&quot;video_11083436…</td><td>0.0</td><td>0</td><td>0.842199</td><td>8</td><td>5064</td><td>&quot;UGC&quot;</td><td>&quot;Развлечения&quot;</td><td>0</td><td>262</td><td>8</td><td>0</td><td>0</td><td>0</td><td>0</td><td>76377</td><td>0.0</td><td>0.0</td><td>0.0</td><td>0.0</td><td>0.0</td><td>0.0</td><td>0.0</td><td>0.0</td><td>0.0</td><td>0.0</td><td>0.0</td><td>0.0</td><td>0.0</td><td>0.0</td><td>0.0</td><td>4753</td><td>4859</td><td>205</td></tr><tr><td>0</td><td>&quot;video_14905715…</td><td>0.0</td><td>0</td><td>0.840221</td><td>9</td><td>5064</td><td>&quot;UGC&quot;</td><td>&quot;Телепередачи&quot;</td><td>0</td><td>514</td><td>32</td><td>6</td><td>0</td><td>0</td><td>0</td><td>75643</td><td>0.0</td><td>0.0</td><td>0.0</td><td>1.0</td><td>0.0</td><td>0.0</td><td>0.0</td><td>0.0</td><td>0.3125</td><td>0.0</td><td>0.0</td><td>0.0</td><td>0.0</td><td>0.0</td><td>0.0</td><td>4753</td><td>4858</td><td>206</td></tr><tr><td>0</td><td>&quot;video_7471407&quot;</td><td>0.0</td><td>0</td><td>0.831619</td><td>10</td><td>5064</td><td>&quot;UGC&quot;</td><td>&quot;Развлечения&quot;</td><td>0</td><td>251</td><td>23</td><td>14</td><td>2</td><td>0</td><td>0</td><td>75643</td><td>0.0</td><td>0.0</td><td>0.0</td><td>0.785714</td><td>0.0</td><td>0.0</td><td>0.0</td><td>0.0</td><td>0.521739</td><td>0.0</td><td>0.0</td><td>0.0</td><td>0.0</td><td>0.5</td><td>0.0</td><td>4753</td><td>4852</td><td>212</td></tr><tr><td>0</td><td>&quot;video_28382683…</td><td>0.0</td><td>0</td><td>0.822173</td><td>11</td><td>5064</td><td>&quot;UGC&quot;</td><td>&quot;Телепередачи&quot;</td><td>0</td><td>636</td><td>15</td><td>0</td><td>0</td><td>0</td><td>0</td><td>85920</td><td>0.0</td><td>0.0</td><td>0.0</td><td>0.0</td><td>0.0</td><td>0.0</td><td>0.0</td><td>0.0</td><td>0.133333</td><td>0.0</td><td>0.0</td><td>0.0</td><td>0.0</td><td>0.0</td><td>0.0</td><td>4753</td><td>4858</td><td>206</td></tr><tr><td>0</td><td>&quot;video_8686115&quot;</td><td>0.0</td><td>0</td><td>0.819226</td><td>12</td><td>5064</td><td>&quot;UGC&quot;</td><td>&quot;Развлечения&quot;</td><td>0</td><td>136</td><td>3</td><td>0</td><td>0</td><td>0</td><td>0</td><td>73941</td><td>0.0</td><td>0.0</td><td>0.0</td><td>0.0</td><td>0.0</td><td>0.0</td><td>0.0</td><td>0.0</td><td>0.0</td><td>0.0</td><td>0.0</td><td>0.0</td><td>0.0</td><td>0.0</td><td>0.0</td><td>4753</td><td>4859</td><td>205</td></tr><tr><td>&hellip;</td><td>&hellip;</td><td>&hellip;</td><td>&hellip;</td><td>&hellip;</td><td>&hellip;</td><td>&hellip;</td><td>&hellip;</td><td>&hellip;</td><td>&hellip;</td><td>&hellip;</td><td>&hellip;</td><td>&hellip;</td><td>&hellip;</td><td>&hellip;</td><td>&hellip;</td><td>&hellip;</td><td>&hellip;</td><td>&hellip;</td><td>&hellip;</td><td>&hellip;</td><td>&hellip;</td><td>&hellip;</td><td>&hellip;</td><td>&hellip;</td><td>&hellip;</td><td>&hellip;</td><td>&hellip;</td><td>&hellip;</td><td>&hellip;</td><td>&hellip;</td><td>&hellip;</td><td>&hellip;</td><td>&hellip;</td><td>&hellip;</td></tr><tr><td>1999</td><td>&quot;video_8078060&quot;</td><td>14.329625</td><td>24</td><td>0.0</td><td>0</td><td>5064</td><td>&quot;ТВ И СМИ&quot;</td><td>&quot;Телепередачи&quot;</td><td>90</td><td>222807</td><td>222807</td><td>190502</td><td>5928</td><td>349</td><td>6</td><td>2390699</td><td>0.001396</td><td>0.000021</td><td>0.000289</td><td>0.669767</td><td>0.000294</td><td>0.001566</td><td>0.000027</td><td>0.000359</td><td>0.680769</td><td>0.000368</td><td>0.00135</td><td>0.0</td><td>0.0</td><td>0.614372</td><td>0.0</td><td>4088</td><td>5046</td><td>18</td></tr><tr><td>1999</td><td>&quot;video_6425477&quot;</td><td>13.480462</td><td>39</td><td>0.0</td><td>0</td><td>5064</td><td>&quot;ТВ И СМИ&quot;</td><td>&quot;Телепередачи&quot;</td><td>177</td><td>218604</td><td>218604</td><td>32351</td><td>2692</td><td>310</td><td>9</td><td>2386603</td><td>0.000835</td><td>0.000031</td><td>0.0</td><td>0.539303</td><td>0.000216</td><td>0.001418</td><td>0.000041</td><td>0.000325</td><td>0.642458</td><td>0.000755</td><td>0.0</td><td>0.0</td><td>0.0</td><td>0.530089</td><td>0.0</td><td>4088</td><td>5040</td><td>24</td></tr><tr><td>1999</td><td>&quot;video_8764646&quot;</td><td>14.329625</td><td>28</td><td>0.0</td><td>0</td><td>5064</td><td>&quot;ТВ И СМИ&quot;</td><td>&quot;Телепередачи&quot;</td><td>144</td><td>168940</td><td>168940</td><td>9203</td><td>1190</td><td>300</td><td>6</td><td>2330728</td><td>0.001521</td><td>0.000109</td><td>0.000109</td><td>0.64316</td><td>0.000326</td><td>0.001776</td><td>0.000036</td><td>0.000438</td><td>0.701196</td><td>0.000823</td><td>0.001681</td><td>0.0</td><td>0.0</td><td>0.633613</td><td>0.0</td><td>4088</td><td>5030</td><td>34</td></tr><tr><td>1999</td><td>&quot;video_31712511…</td><td>12.183094</td><td>79</td><td>0.0</td><td>0</td><td>5064</td><td>&quot;UGC&quot;</td><td>&quot;Разное&quot;</td><td>0</td><td>1</td><td>1</td><td>0</td><td>0</td><td>0</td><td>0</td><td>1176277</td><td>0.0</td><td>0.0</td><td>0.0</td><td>0.0</td><td>0.0</td><td>0.0</td><td>0.0</td><td>0.0</td><td>0.0</td><td>0.0</td><td>0.0</td><td>0.0</td><td>0.0</td><td>0.0</td><td>0.0</td><td>5019</td><td>5024</td><td>40</td></tr><tr><td>1999</td><td>&quot;video_6035905&quot;</td><td>11.965569</td><td>92</td><td>0.0</td><td>0</td><td>5064</td><td>&quot;UGC&quot;</td><td>&quot;Разное&quot;</td><td>0</td><td>2</td><td>2</td><td>2</td><td>0</td><td>0</td><td>0</td><td>229460</td><td>0.0</td><td>0.0</td><td>0.0</td><td>0.5</td><td>0.0</td><td>0.0</td><td>0.0</td><td>0.0</td><td>0.5</td><td>0.0</td><td>0.0</td><td>0.0</td><td>0.0</td><td>0.0</td><td>0.0</td><td>5019</td><td>5026</td><td>38</td></tr><tr><td>1999</td><td>&quot;video_26609443…</td><td>13.002546</td><td>54</td><td>0.0</td><td>0</td><td>5064</td><td>&quot;UGC&quot;</td><td>&quot;Разное&quot;</td><td>0</td><td>1</td><td>1</td><td>1</td><td>0</td><td>0</td><td>0</td><td>186573</td><td>0.0</td><td>0.0</td><td>0.0</td><td>1.0</td><td>0.0</td><td>0.0</td><td>0.0</td><td>0.0</td><td>1.0</td><td>0.0</td><td>0.0</td><td>0.0</td><td>0.0</td><td>0.0</td><td>0.0</td><td>5019</td><td>5028</td><td>36</td></tr><tr><td>1999</td><td>&quot;video_17174035…</td><td>14.329625</td><td>27</td><td>0.0</td><td>0</td><td>5064</td><td>&quot;UGC&quot;</td><td>&quot;Телепередачи&quot;</td><td>0</td><td>2445</td><td>429</td><td>51</td><td>8</td><td>0</td><td>0</td><td>64504</td><td>0.0</td><td>0.0</td><td>0.0</td><td>0.803922</td><td>0.0</td><td>0.0</td><td>0.0</td><td>0.0</td><td>0.752914</td><td>0.0</td><td>0.0</td><td>0.0</td><td>0.0</td><td>0.875</td><td>0.0</td><td>4127</td><td>5017</td><td>47</td></tr><tr><td>1999</td><td>&quot;video_12286416…</td><td>12.72631</td><td>67</td><td>0.0</td><td>0</td><td>5064</td><td>&quot;UGC&quot;</td><td>&quot;Развлечения&quot;</td><td>0</td><td>4407</td><td>4407</td><td>390</td><td>44</td><td>2</td><td>1</td><td>61580</td><td>0.0</td><td>0.0</td><td>0.0</td><td>0.707692</td><td>0.0</td><td>0.000454</td><td>0.000227</td><td>0.0</td><td>0.538688</td><td>0.0</td><td>0.0</td><td>0.0</td><td>0.0</td><td>0.772727</td><td>0.0</td><td>4112</td><td>5029</td><td>35</td></tr><tr><td>1999</td><td>&quot;video_12373643…</td><td>15.292961</td><td>14</td><td>0.0</td><td>0</td><td>5064</td><td>&quot;UGC&quot;</td><td>&quot;Развлечения&quot;</td><td>0</td><td>2285</td><td>2285</td><td>185</td><td>21</td><td>1</td><td>0</td><td>64417</td><td>0.0</td><td>0.0</td><td>0.0</td><td>0.794595</td><td>0.0</td><td>0.000438</td><td>0.0</td><td>0.0</td><td>0.455142</td><td>0.0</td><td>0.0</td><td>0.0</td><td>0.0</td><td>0.857143</td><td>0.0</td><td>4874</td><td>5036</td><td>28</td></tr><tr><td>1999</td><td>&quot;video_32145938…</td><td>12.776827</td><td>62</td><td>0.0</td><td>0</td><td>5064</td><td>&quot;UGC&quot;</td><td>&quot;Образование&quot;</td><td>0</td><td>5</td><td>5</td><td>0</td><td>0</td><td>0</td><td>0</td><td>954555</td><td>0.0</td><td>0.0</td><td>0.0</td><td>0.0</td><td>0.0</td><td>0.0</td><td>0.0</td><td>0.0</td><td>0.4</td><td>0.0</td><td>0.0</td><td>0.0</td><td>0.0</td><td>0.0</td><td>0.0</td><td>4996</td><td>5026</td><td>38</td></tr><tr><td>1999</td><td>&quot;video_23795967…</td><td>12.647624</td><td>75</td><td>0.0</td><td>0</td><td>5064</td><td>&quot;UGC&quot;</td><td>&quot;Разное&quot;</td><td>0</td><td>3</td><td>3</td><td>1</td><td>1</td><td>0</td><td>0</td><td>1037932</td><td>0.0</td><td>0.0</td><td>0.0</td><td>1.0</td><td>0.0</td><td>0.0</td><td>0.0</td><td>0.333333</td><td>0.666667</td><td>0.0</td><td>0.0</td><td>0.0</td><td>0.0</td><td>1.0</td><td>0.0</td><td>4991</td><td>5019</td><td>45</td></tr><tr><td>1999</td><td>&quot;video_33077191…</td><td>12.776827</td><td>64</td><td>0.0</td><td>0</td><td>5064</td><td>&quot;UGC&quot;</td><td>&quot;Технологии и и…</td><td>0</td><td>2</td><td>2</td><td>0</td><td>0</td><td>0</td><td>0</td><td>1060695</td><td>0.0</td><td>0.0</td><td>0.0</td><td>0.0</td><td>0.0</td><td>0.0</td><td>0.0</td><td>0.0</td><td>0.5</td><td>0.0</td><td>0.0</td><td>0.0</td><td>0.0</td><td>0.0</td><td>0.0</td><td>4997</td><td>5026</td><td>38</td></tr></tbody></table></div>"
      ],
      "text/plain": [
       "shape: (376_165, 35)\n",
       "┌──────────┬──────────┬───────────┬──────────┬───┬────────────┬────────────┬────────────┬──────────┐\n",
       "│ query_id ┆ video_id ┆ lex_score ┆ lex_rank ┆ … ┆ v_cr_click ┆ v_channel_ ┆ v_pub_date ┆ ind_diff │\n",
       "│ ---      ┆ ---      ┆ ---       ┆ ---      ┆   ┆ _comment_1 ┆ reg_dateti ┆ time_ind   ┆ ---      │\n",
       "│ i32      ┆ str      ┆ f32       ┆ i8       ┆   ┆ _days      ┆ me_ind     ┆ ---        ┆ i64      │\n",
       "│          ┆          ┆           ┆          ┆   ┆ ---        ┆ ---        ┆ i64        ┆          │\n",
       "│          ┆          ┆           ┆          ┆   ┆ f32        ┆ i64        ┆            ┆          │\n",
       "╞══════════╪══════════╪═══════════╪══════════╪═══╪════════════╪════════════╪════════════╪══════════╡\n",
       "│ 0        ┆ video_72 ┆ 0.0       ┆ 0        ┆ … ┆ 0.0        ┆ 4753       ┆ 4857       ┆ 207      │\n",
       "│          ┆ 05638    ┆           ┆          ┆   ┆            ┆            ┆            ┆          │\n",
       "│ 0        ┆ video_14 ┆ 0.0       ┆ 0        ┆ … ┆ 0.0        ┆ 4753       ┆ 4861       ┆ 203      │\n",
       "│          ┆ 611671   ┆           ┆          ┆   ┆            ┆            ┆            ┆          │\n",
       "│ 0        ┆ video_95 ┆ 0.0       ┆ 0        ┆ … ┆ 0.0        ┆ 4753       ┆ 4861       ┆ 203      │\n",
       "│          ┆ 58708    ┆           ┆          ┆   ┆            ┆            ┆            ┆          │\n",
       "│ 0        ┆ video_51 ┆ 0.0       ┆ 0        ┆ … ┆ 0.0        ┆ 4753       ┆ 4861       ┆ 203      │\n",
       "│          ┆ 23456    ┆           ┆          ┆   ┆            ┆            ┆            ┆          │\n",
       "│ …        ┆ …        ┆ …         ┆ …        ┆ … ┆ …          ┆ …          ┆ …          ┆ …        │\n",
       "│ 1999     ┆ video_12 ┆ 15.292961 ┆ 14       ┆ … ┆ 0.0        ┆ 4874       ┆ 5036       ┆ 28       │\n",
       "│          ┆ 373643   ┆           ┆          ┆   ┆            ┆            ┆            ┆          │\n",
       "│ 1999     ┆ video_32 ┆ 12.776827 ┆ 62       ┆ … ┆ 0.0        ┆ 4996       ┆ 5026       ┆ 38       │\n",
       "│          ┆ 145938   ┆           ┆          ┆   ┆            ┆            ┆            ┆          │\n",
       "│ 1999     ┆ video_23 ┆ 12.647624 ┆ 75       ┆ … ┆ 0.0        ┆ 4991       ┆ 5019       ┆ 45       │\n",
       "│          ┆ 795967   ┆           ┆          ┆   ┆            ┆            ┆            ┆          │\n",
       "│ 1999     ┆ video_33 ┆ 12.776827 ┆ 64       ┆ … ┆ 0.0        ┆ 4997       ┆ 5026       ┆ 38       │\n",
       "│          ┆ 077191   ┆           ┆          ┆   ┆            ┆            ┆            ┆          │\n",
       "└──────────┴──────────┴───────────┴──────────┴───┴────────────┴────────────┴────────────┴──────────┘"
      ]
     },
     "execution_count": 51,
     "metadata": {},
     "output_type": "execute_result"
    }
   ],
   "source": [
    "merged"
   ]
  },
  {
   "cell_type": "code",
   "execution_count": 52,
   "id": "b8227ef7-103e-4c27-b0a3-e063e3d214dc",
   "metadata": {
    "execution": {
     "iopub.execute_input": "2023-11-25T10:06:46.942107Z",
     "iopub.status.busy": "2023-11-25T10:06:46.941263Z",
     "iopub.status.idle": "2023-11-25T10:06:47.185264Z",
     "shell.execute_reply": "2023-11-25T10:06:47.184380Z",
     "shell.execute_reply.started": "2023-11-25T10:06:46.942063Z"
    },
    "tags": []
   },
   "outputs": [],
   "source": [
    "test_pool = Pool(\n",
    "    data=merged.to_pandas().drop(['query_id', 'video_id'], axis=1),\n",
    "    cat_features=cat_features\n",
    ")"
   ]
  },
  {
   "cell_type": "code",
   "execution_count": 53,
   "id": "c5cd6671-ff45-4f45-9940-0ada9ebd0536",
   "metadata": {
    "execution": {
     "iopub.execute_input": "2023-11-25T10:06:47.248847Z",
     "iopub.status.busy": "2023-11-25T10:06:47.248169Z",
     "iopub.status.idle": "2023-11-25T10:06:47.408977Z",
     "shell.execute_reply": "2023-11-25T10:06:47.408131Z",
     "shell.execute_reply.started": "2023-11-25T10:06:47.248801Z"
    },
    "tags": []
   },
   "outputs": [
    {
     "data": {
      "text/html": [
       "<div><style>\n",
       ".dataframe > thead > tr > th,\n",
       ".dataframe > tbody > tr > td {\n",
       "  text-align: right;\n",
       "}\n",
       "</style>\n",
       "<small>shape: (2000, 2)</small><table border=\"1\" class=\"dataframe\"><thead><tr><th>query_id</th><th>video_id</th></tr><tr><td>i32</td><td>list[str]</td></tr></thead><tbody><tr><td>1712</td><td>[&quot;video_7943626&quot;, &quot;video_15682119&quot;, … &quot;video_15382920&quot;]</td></tr><tr><td>128</td><td>[&quot;video_2114851&quot;, &quot;video_26428756&quot;, … &quot;video_27896582&quot;]</td></tr><tr><td>1096</td><td>[&quot;video_10854637&quot;, &quot;video_25347986&quot;, … &quot;video_31312854&quot;]</td></tr><tr><td>32</td><td>[&quot;video_914067&quot;, &quot;video_9107345&quot;, … &quot;video_9630055&quot;]</td></tr><tr><td>1928</td><td>[&quot;video_18764678&quot;, &quot;video_25347986&quot;, … &quot;video_18791835&quot;]</td></tr><tr><td>576</td><td>[&quot;video_10854637&quot;, &quot;video_25347986&quot;, … &quot;video_18764678&quot;]</td></tr><tr><td>824</td><td>[&quot;video_8128938&quot;, &quot;video_1352018&quot;, … &quot;video_768797&quot;]</td></tr><tr><td>320</td><td>[&quot;video_25964450&quot;, &quot;video_12572940&quot;, … &quot;video_13313121&quot;]</td></tr><tr><td>544</td><td>[&quot;video_9092991&quot;, &quot;video_1153833&quot;, … &quot;video_168145&quot;]</td></tr><tr><td>776</td><td>[&quot;video_3134715&quot;, &quot;video_8297464&quot;, … &quot;video_1048042&quot;]</td></tr><tr><td>1376</td><td>[&quot;video_30146879&quot;, &quot;video_24926278&quot;, … &quot;video_19446208&quot;]</td></tr><tr><td>1568</td><td>[&quot;video_8812586&quot;, &quot;video_5224814&quot;, … &quot;video_6220216&quot;]</td></tr><tr><td>&hellip;</td><td>&hellip;</td></tr><tr><td>343</td><td>[&quot;video_11130677&quot;, &quot;video_9029005&quot;, … &quot;video_23769754&quot;]</td></tr><tr><td>63</td><td>[&quot;video_26004977&quot;, &quot;video_29438262&quot;, … &quot;video_23471604&quot;]</td></tr><tr><td>1399</td><td>[&quot;video_26482899&quot;, &quot;video_9758777&quot;, … &quot;video_19677891&quot;]</td></tr><tr><td>119</td><td>[&quot;video_23327727&quot;, &quot;video_15633301&quot;, … &quot;video_23419642&quot;]</td></tr><tr><td>687</td><td>[&quot;video_929654&quot;, &quot;video_25347986&quot;, … &quot;video_23769754&quot;]</td></tr><tr><td>1991</td><td>[&quot;video_8577851&quot;, &quot;video_30237082&quot;, … &quot;video_24051429&quot;]</td></tr><tr><td>159</td><td>[&quot;video_2403488&quot;, &quot;video_8514981&quot;, … &quot;video_26613046&quot;]</td></tr><tr><td>535</td><td>[&quot;video_33600375&quot;, &quot;video_15169729&quot;, … &quot;video_12744847&quot;]</td></tr><tr><td>999</td><td>[&quot;video_22228869&quot;, &quot;video_25347986&quot;, … &quot;video_10854637&quot;]</td></tr><tr><td>39</td><td>[&quot;video_4809676&quot;, &quot;video_31279616&quot;, … &quot;video_16693641&quot;]</td></tr><tr><td>135</td><td>[&quot;video_13463234&quot;, &quot;video_34293220&quot;, … &quot;video_9239539&quot;]</td></tr><tr><td>175</td><td>[&quot;video_28537981&quot;, &quot;video_27664522&quot;, … &quot;video_20892444&quot;]</td></tr></tbody></table></div>"
      ],
      "text/plain": [
       "shape: (2_000, 2)\n",
       "┌──────────┬───────────────────────────────────┐\n",
       "│ query_id ┆ video_id                          │\n",
       "│ ---      ┆ ---                               │\n",
       "│ i32      ┆ list[str]                         │\n",
       "╞══════════╪═══════════════════════════════════╡\n",
       "│ 1712     ┆ [\"video_7943626\", \"video_1568211… │\n",
       "│ 128      ┆ [\"video_2114851\", \"video_2642875… │\n",
       "│ 1096     ┆ [\"video_10854637\", \"video_253479… │\n",
       "│ 32       ┆ [\"video_914067\", \"video_9107345\"… │\n",
       "│ …        ┆ …                                 │\n",
       "│ 999      ┆ [\"video_22228869\", \"video_253479… │\n",
       "│ 39       ┆ [\"video_4809676\", \"video_3127961… │\n",
       "│ 135      ┆ [\"video_13463234\", \"video_342932… │\n",
       "│ 175      ┆ [\"video_28537981\", \"video_276645… │\n",
       "└──────────┴───────────────────────────────────┘"
      ]
     },
     "execution_count": 53,
     "metadata": {},
     "output_type": "execute_result"
    }
   ],
   "source": [
    "merged = merged.with_columns(\n",
    "    score=pl.Series(model_cb.predict(test_pool))\n",
    ")\n",
    "\n",
    "merged = (\n",
    "    merged\n",
    "    .sort(by='score', descending=True)\n",
    "    .groupby('query_id').agg(pl.col('video_id').head(5))\n",
    "    .select('query_id', 'video_id')\n",
    ")\n",
    "\n",
    "merged"
   ]
  },
  {
   "cell_type": "code",
   "execution_count": null,
   "id": "129b45b9-6383-41a8-8f16-ba296a9cab49",
   "metadata": {},
   "outputs": [],
   "source": []
  },
  {
   "cell_type": "code",
   "execution_count": 54,
   "id": "706235cc-fa7e-4078-963a-6d539e7845fc",
   "metadata": {
    "execution": {
     "iopub.execute_input": "2023-11-25T10:06:49.681007Z",
     "iopub.status.busy": "2023-11-25T10:06:49.680189Z",
     "iopub.status.idle": "2023-11-25T10:06:49.769159Z",
     "shell.execute_reply": "2023-11-25T10:06:49.768337Z",
     "shell.execute_reply.started": "2023-11-25T10:06:49.680953Z"
    },
    "tags": []
   },
   "outputs": [],
   "source": [
    "top_video_id = automarkup[\"video_id\"].value_counts().index[:5].to_list()"
   ]
  },
  {
   "cell_type": "code",
   "execution_count": 55,
   "id": "b9b38a6e-fad6-457a-938e-325a46f563f2",
   "metadata": {
    "execution": {
     "iopub.execute_input": "2023-11-25T10:06:49.872795Z",
     "iopub.status.busy": "2023-11-25T10:06:49.872100Z",
     "iopub.status.idle": "2023-11-25T10:06:49.888460Z",
     "shell.execute_reply": "2023-11-25T10:06:49.887605Z",
     "shell.execute_reply.started": "2023-11-25T10:06:49.872755Z"
    },
    "tags": []
   },
   "outputs": [],
   "source": [
    "merged = merged.to_pandas().set_index('query_id')"
   ]
  },
  {
   "cell_type": "code",
   "execution_count": 56,
   "id": "c9eb6968-8581-4b50-ae9f-867db5afd79f",
   "metadata": {
    "execution": {
     "iopub.execute_input": "2023-11-25T10:06:49.991778Z",
     "iopub.status.busy": "2023-11-25T10:06:49.990996Z",
     "iopub.status.idle": "2023-11-25T10:06:50.001452Z",
     "shell.execute_reply": "2023-11-25T10:06:50.000649Z",
     "shell.execute_reply.started": "2023-11-25T10:06:49.991733Z"
    },
    "tags": []
   },
   "outputs": [],
   "source": [
    "for value in set(test_queries.index) - set(merged.index):\n",
    "    merged.loc[value, 'video_id'] = top_video_id"
   ]
  },
  {
   "cell_type": "code",
   "execution_count": 57,
   "id": "6f9e8a6e-7c4d-4a02-8417-d3f4d6733184",
   "metadata": {
    "execution": {
     "iopub.execute_input": "2023-11-25T10:06:50.285729Z",
     "iopub.status.busy": "2023-11-25T10:06:50.284905Z",
     "iopub.status.idle": "2023-11-25T10:06:50.310470Z",
     "shell.execute_reply": "2023-11-25T10:06:50.309727Z",
     "shell.execute_reply.started": "2023-11-25T10:06:50.285676Z"
    },
    "tags": []
   },
   "outputs": [
    {
     "data": {
      "text/html": [
       "<div>\n",
       "<style scoped>\n",
       "    .dataframe tbody tr th:only-of-type {\n",
       "        vertical-align: middle;\n",
       "    }\n",
       "\n",
       "    .dataframe tbody tr th {\n",
       "        vertical-align: top;\n",
       "    }\n",
       "\n",
       "    .dataframe thead th {\n",
       "        text-align: right;\n",
       "    }\n",
       "</style>\n",
       "<table border=\"1\" class=\"dataframe\">\n",
       "  <thead>\n",
       "    <tr style=\"text-align: right;\">\n",
       "      <th></th>\n",
       "      <th>video_id</th>\n",
       "    </tr>\n",
       "    <tr>\n",
       "      <th>query_id</th>\n",
       "      <th></th>\n",
       "    </tr>\n",
       "  </thead>\n",
       "  <tbody>\n",
       "    <tr>\n",
       "      <th>1712</th>\n",
       "      <td>[video_7943626, video_15682119, video_5676856,...</td>\n",
       "    </tr>\n",
       "    <tr>\n",
       "      <th>128</th>\n",
       "      <td>[video_2114851, video_26428756, video_21987179...</td>\n",
       "    </tr>\n",
       "    <tr>\n",
       "      <th>1096</th>\n",
       "      <td>[video_10854637, video_25347986, video_1876467...</td>\n",
       "    </tr>\n",
       "    <tr>\n",
       "      <th>32</th>\n",
       "      <td>[video_914067, video_9107345, video_8359490, v...</td>\n",
       "    </tr>\n",
       "    <tr>\n",
       "      <th>1928</th>\n",
       "      <td>[video_18764678, video_25347986, video_1085463...</td>\n",
       "    </tr>\n",
       "    <tr>\n",
       "      <th>...</th>\n",
       "      <td>...</td>\n",
       "    </tr>\n",
       "    <tr>\n",
       "      <th>535</th>\n",
       "      <td>[video_33600375, video_15169729, video_1672843...</td>\n",
       "    </tr>\n",
       "    <tr>\n",
       "      <th>999</th>\n",
       "      <td>[video_22228869, video_25347986, video_7472050...</td>\n",
       "    </tr>\n",
       "    <tr>\n",
       "      <th>39</th>\n",
       "      <td>[video_4809676, video_31279616, video_3691126,...</td>\n",
       "    </tr>\n",
       "    <tr>\n",
       "      <th>135</th>\n",
       "      <td>[video_13463234, video_34293220, video_8581151...</td>\n",
       "    </tr>\n",
       "    <tr>\n",
       "      <th>175</th>\n",
       "      <td>[video_28537981, video_27664522, video_3331768...</td>\n",
       "    </tr>\n",
       "  </tbody>\n",
       "</table>\n",
       "<p>2000 rows × 1 columns</p>\n",
       "</div>"
      ],
      "text/plain": [
       "                                                   video_id\n",
       "query_id                                                   \n",
       "1712      [video_7943626, video_15682119, video_5676856,...\n",
       "128       [video_2114851, video_26428756, video_21987179...\n",
       "1096      [video_10854637, video_25347986, video_1876467...\n",
       "32        [video_914067, video_9107345, video_8359490, v...\n",
       "1928      [video_18764678, video_25347986, video_1085463...\n",
       "...                                                     ...\n",
       "535       [video_33600375, video_15169729, video_1672843...\n",
       "999       [video_22228869, video_25347986, video_7472050...\n",
       "39        [video_4809676, video_31279616, video_3691126,...\n",
       "135       [video_13463234, video_34293220, video_8581151...\n",
       "175       [video_28537981, video_27664522, video_3331768...\n",
       "\n",
       "[2000 rows x 1 columns]"
      ]
     },
     "execution_count": 57,
     "metadata": {},
     "output_type": "execute_result"
    }
   ],
   "source": [
    "merged"
   ]
  },
  {
   "cell_type": "code",
   "execution_count": 58,
   "id": "ec819442-a921-441b-8755-b8ab52a49717",
   "metadata": {
    "execution": {
     "iopub.execute_input": "2023-11-25T10:06:51.799073Z",
     "iopub.status.busy": "2023-11-25T10:06:51.798235Z",
     "iopub.status.idle": "2023-11-25T10:06:51.835891Z",
     "shell.execute_reply": "2023-11-25T10:06:51.835039Z",
     "shell.execute_reply.started": "2023-11-25T10:06:51.799035Z"
    },
    "tags": []
   },
   "outputs": [],
   "source": [
    "merged = merged.reset_index()"
   ]
  },
  {
   "cell_type": "code",
   "execution_count": 59,
   "id": "baa513fd-f84f-468a-975f-6da6ff7b238c",
   "metadata": {
    "execution": {
     "iopub.execute_input": "2023-11-25T10:06:58.522893Z",
     "iopub.status.busy": "2023-11-25T10:06:58.522048Z",
     "iopub.status.idle": "2023-11-25T10:06:58.549865Z",
     "shell.execute_reply": "2023-11-25T10:06:58.548959Z",
     "shell.execute_reply.started": "2023-11-25T10:06:58.522849Z"
    },
    "tags": []
   },
   "outputs": [],
   "source": [
    "with open(\"submit_lex+sem+cb_gpu+f.csv\", \"w\") as f:\n",
    "    f.write('query,video_id\\n')\n",
    "    for query, video_id in zip(merged[\"query_id\"].to_list(), merged[\"video_id\"].to_list()):\n",
    "        video_id = list(video_id) + top_video_id\n",
    "        for video in video_id[:5]:\n",
    "            f.write(\"query_\" + str(query))\n",
    "            f.write(',')\n",
    "            f.write(str(video))\n",
    "            f.write('\\n')"
   ]
  },
  {
   "cell_type": "markdown",
   "id": "482b3401-171f-4cfd-ae01-5f8832e95051",
   "metadata": {},
   "source": [
    "# Сохранение модели"
   ]
  },
  {
   "cell_type": "code",
   "execution_count": 60,
   "id": "50d2ae18-11b7-41a8-b277-ee5088bc0b7b",
   "metadata": {
    "execution": {
     "iopub.execute_input": "2023-11-25T10:11:33.459143Z",
     "iopub.status.busy": "2023-11-25T10:11:33.458377Z",
     "iopub.status.idle": "2023-11-25T10:11:33.479913Z",
     "shell.execute_reply": "2023-11-25T10:11:33.478969Z",
     "shell.execute_reply.started": "2023-11-25T10:11:33.459104Z"
    },
    "tags": []
   },
   "outputs": [],
   "source": [
    "model_cb.save_model('model_cb.cbm')"
   ]
  }
 ],
 "metadata": {
  "kernelspec": {
   "display_name": "DataSphere Kernel",
   "language": "python",
   "name": "python3"
  },
  "language_info": {
   "codemirror_mode": {
    "name": "ipython",
    "version": 3
   },
   "file_extension": ".py",
   "mimetype": "text/x-python",
   "name": "python",
   "nbconvert_exporter": "python",
   "pygments_lexer": "ipython3",
   "version": "3.7.7"
  }
 },
 "nbformat": 4,
 "nbformat_minor": 5
}
