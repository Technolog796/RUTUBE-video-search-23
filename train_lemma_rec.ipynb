{
 "cells": [
  {
   "cell_type": "markdown",
   "id": "07bc1762-4d4a-4611-a76a-15c4679b6cf5",
   "metadata": {
    "tags": []
   },
   "source": [
    "# Библиотеки"
   ]
  },
  {
   "cell_type": "code",
   "execution_count": 1,
   "id": "af87dcd5-c069-4a02-8361-b873cb91d866",
   "metadata": {
    "execution": {
     "iopub.execute_input": "2023-11-24T01:04:40.642835Z",
     "iopub.status.busy": "2023-11-24T01:04:40.642247Z",
     "iopub.status.idle": "2023-11-24T01:04:40.811074Z",
     "shell.execute_reply": "2023-11-24T01:04:40.810483Z",
     "shell.execute_reply.started": "2023-11-24T01:04:40.642808Z"
    },
    "tags": []
   },
   "outputs": [
    {
     "name": "stderr",
     "output_type": "stream",
     "text": [
      "/home/jupyter/.local/lib/python3.10/site-packages/implicit/gpu/__init__.py:13: UserWarning: CUDA extension is built, but disabling GPU support because of 'Cuda Error: no CUDA-capable device is detected (/project/./implicit/gpu/utils.h:71)'\n",
      "  warnings.warn(\n"
     ]
    }
   ],
   "source": [
    "import pickle\n",
    "from tqdm.auto import tqdm\n",
    "\n",
    "import numpy as np\n",
    "import pandas as pd\n",
    "import polars as pl\n",
    "\n",
    "from lemma import LemmaRecommender"
   ]
  },
  {
   "cell_type": "markdown",
   "id": "e9d14a76-f921-4b8e-a1f3-c519c8424c80",
   "metadata": {},
   "source": [
    "# Обучение"
   ]
  },
  {
   "cell_type": "code",
   "execution_count": 2,
   "id": "b69c5bfd-2edc-4855-a453-42dd4a45a131",
   "metadata": {
    "execution": {
     "iopub.execute_input": "2023-11-24T01:04:40.812389Z",
     "iopub.status.busy": "2023-11-24T01:04:40.811948Z",
     "iopub.status.idle": "2023-11-24T01:04:55.700455Z",
     "shell.execute_reply": "2023-11-24T01:04:55.699790Z",
     "shell.execute_reply.started": "2023-11-24T01:04:40.812368Z"
    },
    "tags": []
   },
   "outputs": [
    {
     "data": {
      "text/html": [
       "<div><style>\n",
       ".dataframe > thead > tr > th,\n",
       ".dataframe > tbody > tr > td {\n",
       "  text-align: right;\n",
       "}\n",
       "</style>\n",
       "<small>shape: (5, 2)</small><table border=\"1\" class=\"dataframe\"><thead><tr><th>video_id</th><th>v_pub_datetime</th></tr><tr><td>str</td><td>str</td></tr></thead><tbody><tr><td>&quot;video_2172262&quot;</td><td>&quot;2023-11-22 15:…</td></tr><tr><td>&quot;video_22618974…</td><td>&quot;2023-11-22 15:…</td></tr><tr><td>&quot;video_11792065…</td><td>&quot;2023-11-22 15:…</td></tr><tr><td>&quot;video_11792064…</td><td>&quot;2023-11-22 15:…</td></tr><tr><td>&quot;video_11792080…</td><td>&quot;2023-11-22 15:…</td></tr></tbody></table></div>"
      ],
      "text/plain": [
       "shape: (5, 2)\n",
       "┌────────────────┬─────────────────────┐\n",
       "│ video_id       ┆ v_pub_datetime      │\n",
       "│ ---            ┆ ---                 │\n",
       "│ str            ┆ str                 │\n",
       "╞════════════════╪═════════════════════╡\n",
       "│ video_2172262  ┆ 2023-11-22 15:00:53 │\n",
       "│ video_22618974 ┆ 2023-11-22 15:30:16 │\n",
       "│ video_11792065 ┆ 2023-11-22 15:30:36 │\n",
       "│ video_11792064 ┆ 2023-11-22 15:30:51 │\n",
       "│ video_11792080 ┆ 2023-11-22 15:31:11 │\n",
       "└────────────────┴─────────────────────┘"
      ]
     },
     "execution_count": 2,
     "metadata": {},
     "output_type": "execute_result"
    }
   ],
   "source": [
    "features = pl.read_parquet('./features.parquet', columns = ['video_id', 'v_pub_datetime']).sort('v_pub_datetime')\n",
    "features.tail()"
   ]
  },
  {
   "cell_type": "code",
   "execution_count": 3,
   "id": "936d3647-63cb-4978-b219-ff592b518a2d",
   "metadata": {
    "execution": {
     "iopub.execute_input": "2023-11-24T01:04:55.702373Z",
     "iopub.status.busy": "2023-11-24T01:04:55.701978Z",
     "iopub.status.idle": "2023-11-24T01:05:04.537248Z",
     "shell.execute_reply": "2023-11-24T01:05:04.536304Z",
     "shell.execute_reply.started": "2023-11-24T01:04:55.702346Z"
    },
    "tags": []
   },
   "outputs": [],
   "source": [
    "features = features.unique()"
   ]
  },
  {
   "cell_type": "code",
   "execution_count": 4,
   "id": "4abeb51f-8216-4ecd-83ad-c1c6e1422f2b",
   "metadata": {
    "execution": {
     "iopub.execute_input": "2023-11-24T01:05:04.539822Z",
     "iopub.status.busy": "2023-11-24T01:05:04.539222Z",
     "iopub.status.idle": "2023-11-24T01:05:23.428175Z",
     "shell.execute_reply": "2023-11-24T01:05:23.427493Z",
     "shell.execute_reply.started": "2023-11-24T01:05:04.539781Z"
    },
    "tags": []
   },
   "outputs": [
    {
     "data": {
      "text/html": [
       "<div><style>\n",
       ".dataframe > thead > tr > th,\n",
       ".dataframe > tbody > tr > td {\n",
       "  text-align: right;\n",
       "}\n",
       "</style>\n",
       "<small>shape: (1000000, 3)</small><table border=\"1\" class=\"dataframe\"><thead><tr><th>video_id</th><th>video_title</th><th>v_pub_datetime</th></tr><tr><td>str</td><td>str</td><td>datetime[ns, +00:00]</td></tr></thead><tbody><tr><td>&quot;video_27609121…</td><td>&quot;LIVE 3 : Gayat…</td><td>2023-11-12 22:53:48 +00:00</td></tr><tr><td>&quot;video_16206525…</td><td>&quot;6 - Шримати Ра…</td><td>2023-11-12 22:53:49 +00:00</td></tr><tr><td>&quot;video_15284998…</td><td>&quot;7 CHAKRAS HEAL…</td><td>2023-11-12 22:53:49 +00:00</td></tr><tr><td>&quot;video_13865933…</td><td>&quot;хадсон —  Море…</td><td>2023-11-12 22:53:49 +00:00</td></tr><tr><td>&quot;video_18611538…</td><td>&quot;KALIYUGA || MO…</td><td>2023-11-12 22:53:49 +00:00</td></tr><tr><td>&quot;video_5992598&quot;</td><td>&quot;Dmitri Hvorost…</td><td>2023-11-12 22:53:49 +00:00</td></tr><tr><td>&quot;video_21456410…</td><td>&quot;नवरात्रि स्पॆश…</td><td>2023-11-12 22:53:49 +00:00</td></tr><tr><td>&quot;video_32520621…</td><td>&quot;38 лет в браке…</td><td>2023-11-12 22:53:49 +00:00</td></tr><tr><td>&quot;video_10561672…</td><td>&quot;Большое спасиб…</td><td>2023-11-12 22:53:49 +00:00</td></tr><tr><td>&quot;video_28225804…</td><td>&quot;Илона Ребицкая…</td><td>2023-11-12 22:53:49 +00:00</td></tr><tr><td>&quot;video_24586717…</td><td>&quot;ADI CHOROKAY |…</td><td>2023-11-12 22:53:49 +00:00</td></tr><tr><td>&quot;video_29341769…</td><td>&quot;Медитация на о…</td><td>2023-11-12 22:53:49 +00:00</td></tr><tr><td>&hellip;</td><td>&hellip;</td><td>&hellip;</td></tr><tr><td>&quot;video_15599180…</td><td>&quot;Видеообзор на …</td><td>2023-11-14 11:57:44 +00:00</td></tr><tr><td>&quot;video_15598457…</td><td>&quot;СҮЗБЕЛІ. ТВОРО…</td><td>2023-11-14 11:57:44 +00:00</td></tr><tr><td>&quot;video_14411448…</td><td>&quot;Скрученное дер…</td><td>2023-11-14 11:57:44 +00:00</td></tr><tr><td>&quot;video_14706215…</td><td>&quot;Учим Имена Сущ…</td><td>2023-11-14 11:57:44 +00:00</td></tr><tr><td>&quot;video_15599779…</td><td>&quot;Скибиди туолет…</td><td>2023-11-14 11:58:24 +00:00</td></tr><tr><td>&quot;video_14414126…</td><td>&quot;4ekal&quot;</td><td>2023-11-14 11:58:27 +00:00</td></tr><tr><td>&quot;video_15006834…</td><td>&quot;Буктрейлер Коз…</td><td>2023-11-14 11:58:36 +00:00</td></tr><tr><td>&quot;video_14412320…</td><td>&quot;Угадай мелодию…</td><td>2023-11-14 11:58:56 +00:00</td></tr><tr><td>&quot;video_15300130…</td><td>&quot;Гога, Киря и Е…</td><td>2023-11-14 11:59:13 +00:00</td></tr><tr><td>&quot;video_15600786…</td><td>&quot;Специальный ре…</td><td>2023-11-14 11:59:26 +00:00</td></tr><tr><td>&quot;video_15299879…</td><td>&quot;Угадай мелодию…</td><td>2023-11-14 11:59:41 +00:00</td></tr><tr><td>&quot;video_11792077…</td><td>&quot;Давай поженимс…</td><td>2023-11-14 11:59:59 +00:00</td></tr></tbody></table></div>"
      ],
      "text/plain": [
       "shape: (1_000_000, 3)\n",
       "┌────────────────┬───────────────────────────────────┬────────────────────────────┐\n",
       "│ video_id       ┆ video_title                       ┆ v_pub_datetime             │\n",
       "│ ---            ┆ ---                               ┆ ---                        │\n",
       "│ str            ┆ str                               ┆ datetime[ns, +00:00]       │\n",
       "╞════════════════╪═══════════════════════════════════╪════════════════════════════╡\n",
       "│ video_27609121 ┆ LIVE 3 : Gayatri Mantra  धन मंत्…   ┆ 2023-11-12 22:53:48 +00:00 │\n",
       "│ video_16206525 ┆ 6 - Шримати Радхарани - ШЧЧ.Мадх… ┆ 2023-11-12 22:53:49 +00:00 │\n",
       "│ video_15284998 ┆ 7 CHAKRAS HEALING CHANTS ( MANTR… ┆ 2023-11-12 22:53:49 +00:00 │\n",
       "│ video_13865933 ┆ хадсон —  Море [ПРЕМЬЕРА КЛИПА]   ┆ 2023-11-12 22:53:49 +00:00 │\n",
       "│ …              ┆ …                                 ┆ …                          │\n",
       "│ video_15300130 ┆ Гога, Киря и Егор Покоряют Легку… ┆ 2023-11-14 11:59:13 +00:00 │\n",
       "│ video_15600786 ┆ Специальный репортаж. Первый сне… ┆ 2023-11-14 11:59:26 +00:00 │\n",
       "│ video_15299879 ┆ Угадай мелодию 17.11.1997         ┆ 2023-11-14 11:59:41 +00:00 │\n",
       "│ video_11792077 ┆ Давай поженимся! Бывший библиоте… ┆ 2023-11-14 11:59:59 +00:00 │\n",
       "└────────────────┴───────────────────────────────────┴────────────────────────────┘"
      ]
     },
     "execution_count": 4,
     "metadata": {},
     "output_type": "execute_result"
    }
   ],
   "source": [
    "videos = pl.read_parquet('./videos.parquet', columns = ['video_id', 'video_title', 'v_pub_datetime']).sort('v_pub_datetime')\n",
    "videos.tail(1_000_000)"
   ]
  },
  {
   "cell_type": "markdown",
   "id": "1f13110b-93ed-4a83-843e-f854ed4000c6",
   "metadata": {},
   "source": [
    "за последние два дня целых миллион видео???"
   ]
  },
  {
   "cell_type": "code",
   "execution_count": 5,
   "id": "dd05f6e8-0bbd-464f-82f7-5ad46e296d0c",
   "metadata": {
    "execution": {
     "iopub.execute_input": "2023-11-24T01:05:23.429812Z",
     "iopub.status.busy": "2023-11-24T01:05:23.429328Z",
     "iopub.status.idle": "2023-11-24T01:05:25.588963Z",
     "shell.execute_reply": "2023-11-24T01:05:25.588405Z",
     "shell.execute_reply.started": "2023-11-24T01:05:23.429785Z"
    },
    "tags": []
   },
   "outputs": [
    {
     "data": {
      "text/html": [
       "<div><style>\n",
       ".dataframe > thead > tr > th,\n",
       ".dataframe > tbody > tr > td {\n",
       "  text-align: right;\n",
       "}\n",
       "</style>\n",
       "<small>shape: (5, 4)</small><table border=\"1\" class=\"dataframe\"><thead><tr><th>video_id</th><th>video_title</th><th>v_pub_datetime</th><th>v_pub_datetime_right</th></tr><tr><td>str</td><td>str</td><td>datetime[ns, +00:00]</td><td>str</td></tr></thead><tbody><tr><td>&quot;video_14412320…</td><td>&quot;Угадай мелодию…</td><td>2023-11-14 11:58:56 +00:00</td><td>null</td></tr><tr><td>&quot;video_15300130…</td><td>&quot;Гога, Киря и Е…</td><td>2023-11-14 11:59:13 +00:00</td><td>null</td></tr><tr><td>&quot;video_15600786…</td><td>&quot;Специальный ре…</td><td>2023-11-14 11:59:26 +00:00</td><td>null</td></tr><tr><td>&quot;video_15299879…</td><td>&quot;Угадай мелодию…</td><td>2023-11-14 11:59:41 +00:00</td><td>null</td></tr><tr><td>&quot;video_11792077…</td><td>&quot;Давай поженимс…</td><td>2023-11-14 11:59:59 +00:00</td><td>null</td></tr></tbody></table></div>"
      ],
      "text/plain": [
       "shape: (5, 4)\n",
       "┌────────────────┬─────────────────────────────┬────────────────────────────┬──────────────────────┐\n",
       "│ video_id       ┆ video_title                 ┆ v_pub_datetime             ┆ v_pub_datetime_right │\n",
       "│ ---            ┆ ---                         ┆ ---                        ┆ ---                  │\n",
       "│ str            ┆ str                         ┆ datetime[ns, +00:00]       ┆ str                  │\n",
       "╞════════════════╪═════════════════════════════╪════════════════════════════╪══════════════════════╡\n",
       "│ video_14412320 ┆ Угадай мелодию 03.11.1997   ┆ 2023-11-14 11:58:56 +00:00 ┆ null                 │\n",
       "│ video_15300130 ┆ Гога, Киря и Егор Покоряют  ┆ 2023-11-14 11:59:13 +00:00 ┆ null                 │\n",
       "│                ┆ Легку…                      ┆                            ┆                      │\n",
       "│ video_15600786 ┆ Специальный репортаж.       ┆ 2023-11-14 11:59:26 +00:00 ┆ null                 │\n",
       "│                ┆ Первый сне…                 ┆                            ┆                      │\n",
       "│ video_15299879 ┆ Угадай мелодию 17.11.1997   ┆ 2023-11-14 11:59:41 +00:00 ┆ null                 │\n",
       "│ video_11792077 ┆ Давай поженимся! Бывший     ┆ 2023-11-14 11:59:59 +00:00 ┆ null                 │\n",
       "│                ┆ библиоте…                   ┆                            ┆                      │\n",
       "└────────────────┴─────────────────────────────┴────────────────────────────┴──────────────────────┘"
      ]
     },
     "execution_count": 5,
     "metadata": {},
     "output_type": "execute_result"
    }
   ],
   "source": [
    "videos = videos.join(features, on='video_id', how='left')\n",
    "videos.tail()"
   ]
  },
  {
   "cell_type": "code",
   "execution_count": 6,
   "id": "2a74d8a3-762f-4227-bdc1-a60208315b08",
   "metadata": {
    "execution": {
     "iopub.execute_input": "2023-11-24T01:05:25.590181Z",
     "iopub.status.busy": "2023-11-24T01:05:25.589753Z",
     "iopub.status.idle": "2023-11-24T01:05:28.008167Z",
     "shell.execute_reply": "2023-11-24T01:05:28.007617Z",
     "shell.execute_reply.started": "2023-11-24T01:05:25.590161Z"
    },
    "tags": []
   },
   "outputs": [
    {
     "data": {
      "text/html": [
       "<div><style>\n",
       ".dataframe > thead > tr > th,\n",
       ".dataframe > tbody > tr > td {\n",
       "  text-align: right;\n",
       "}\n",
       "</style>\n",
       "<small>shape: (1000000, 4)</small><table border=\"1\" class=\"dataframe\"><thead><tr><th>video_id</th><th>video_title</th><th>v_pub_datetime</th><th>v_pub_datetime_right</th></tr><tr><td>str</td><td>str</td><td>datetime[ns, +00:00]</td><td>str</td></tr></thead><tbody><tr><td>&quot;video_27711768…</td><td>&quot;Авто из Кореи …</td><td>2023-09-27 10:30:42 +00:00</td><td>&quot;2023-09-27 10:…</td></tr><tr><td>&quot;video_16046805…</td><td>&quot;Русский язык_5…</td><td>2023-09-27 10:30:43 +00:00</td><td>&quot;2023-09-27 10:…</td></tr><tr><td>&quot;video_32024614…</td><td>&quot;Apera Instrume…</td><td>2023-09-27 10:30:43 +00:00</td><td>&quot;2023-09-27 10:…</td></tr><tr><td>&quot;video_28578316…</td><td>&quot;СМОЖЕШЬ СДЕЛАТ…</td><td>2023-09-27 10:30:44 +00:00</td><td>&quot;2023-09-27 10:…</td></tr><tr><td>&quot;video_370606&quot;</td><td>&quot;Жди Меня 05.01…</td><td>2023-09-27 10:30:44 +00:00</td><td>&quot;2023-09-27 10:…</td></tr><tr><td>&quot;video_15732705…</td><td>&quot;Сергей Банарь …</td><td>2023-09-27 10:30:44 +00:00</td><td>&quot;2023-09-27 10:…</td></tr><tr><td>&quot;video_24676052…</td><td>&quot;Вопрос №2 § 27…</td><td>2023-09-27 10:30:45 +00:00</td><td>&quot;2023-09-27 10:…</td></tr><tr><td>&quot;video_5606659&quot;</td><td>&quot;Как Сделать Ро…</td><td>2023-09-27 10:30:46 +00:00</td><td>&quot;2023-09-27 10:…</td></tr><tr><td>&quot;video_7076222&quot;</td><td>&quot;ПАРА ТУФЕЛЬ. Д…</td><td>2023-09-27 10:30:47 +00:00</td><td>&quot;2023-09-27 10:…</td></tr><tr><td>&quot;video_13025558…</td><td>&quot;Как правильно …</td><td>2023-09-27 10:30:49 +00:00</td><td>&quot;2023-09-27 10:…</td></tr><tr><td>&quot;video_14568261…</td><td>&quot;Съёмники рулей…</td><td>2023-09-27 10:30:50 +00:00</td><td>&quot;2023-09-27 10:…</td></tr><tr><td>&quot;video_22598969…</td><td>&quot;Хотите в круго…</td><td>2023-09-27 10:30:50 +00:00</td><td>&quot;2023-09-27 10:…</td></tr><tr><td>&hellip;</td><td>&hellip;</td><td>&hellip;</td><td>&hellip;</td></tr><tr><td>&quot;video_2902008&quot;</td><td>&quot;Банкноты из за…</td><td>2023-11-14 11:06:13 +00:00</td><td>&quot;2023-11-22 04:…</td></tr><tr><td>&quot;video_11792081…</td><td>&quot;Самолёт&quot;</td><td>2023-11-14 11:06:29 +00:00</td><td>&quot;2023-11-22 04:…</td></tr><tr><td>&quot;video_5681949&quot;</td><td>&quot;Ты моя исповед…</td><td>2023-11-14 11:07:18 +00:00</td><td>&quot;2023-11-22 13:…</td></tr><tr><td>&quot;video_11792072…</td><td>&quot;Песня&quot;</td><td>2023-11-14 11:07:34 +00:00</td><td>&quot;2023-11-22 13:…</td></tr><tr><td>&quot;video_11792080…</td><td>&quot;SHAMAN — МОЙ Б…</td><td>2023-11-14 11:07:48 +00:00</td><td>&quot;2023-11-22 15:…</td></tr><tr><td>&quot;video_9200441&quot;</td><td>&quot;Спутник&quot;</td><td>2023-11-14 11:08:01 +00:00</td><td>&quot;2023-11-22 13:…</td></tr><tr><td>&quot;video_11792075…</td><td>&quot;Не важна (Туре…</td><td>2023-11-14 11:08:15 +00:00</td><td>&quot;2023-11-22 13:…</td></tr><tr><td>&quot;video_11792060…</td><td>&quot;Небо&quot;</td><td>2023-11-14 11:08:30 +00:00</td><td>&quot;2023-11-22 13:…</td></tr><tr><td>&quot;video_11792064…</td><td>&quot;Бог войны (010…</td><td>2023-11-14 11:08:42 +00:00</td><td>&quot;2023-11-22 15:…</td></tr><tr><td>&quot;video_11792065…</td><td>&quot;Песня&quot;</td><td>2023-11-14 11:08:58 +00:00</td><td>&quot;2023-11-22 15:…</td></tr><tr><td>&quot;video_15299752…</td><td>&quot;Еженедельный к…</td><td>2023-11-14 11:30:17 +00:00</td><td>&quot;2023-11-14 11:…</td></tr><tr><td>&quot;video_23676213…</td><td>&quot;Чувствительная…</td><td>2023-11-14 11:30:48 +00:00</td><td>&quot;2023-11-14 11:…</td></tr></tbody></table></div>"
      ],
      "text/plain": [
       "shape: (1_000_000, 4)\n",
       "┌────────────────┬─────────────────────────────┬────────────────────────────┬──────────────────────┐\n",
       "│ video_id       ┆ video_title                 ┆ v_pub_datetime             ┆ v_pub_datetime_right │\n",
       "│ ---            ┆ ---                         ┆ ---                        ┆ ---                  │\n",
       "│ str            ┆ str                         ┆ datetime[ns, +00:00]       ┆ str                  │\n",
       "╞════════════════╪═════════════════════════════╪════════════════════════════╪══════════════════════╡\n",
       "│ video_27711768 ┆ Авто из Кореи БЕЗ           ┆ 2023-09-27 10:30:42 +00:00 ┆ 2023-09-27 10:30:42  │\n",
       "│                ┆ ПОСРЕДНИКОВ . …             ┆                            ┆                      │\n",
       "│ video_16046805 ┆ Русский язык_5              ┆ 2023-09-27 10:30:43 +00:00 ┆ 2023-09-27 10:30:43  │\n",
       "│                ┆ класс_Предложения…          ┆                            ┆                      │\n",
       "│ video_32024614 ┆ Apera Instruments PH20      ┆ 2023-09-27 10:30:43 +00:00 ┆ 2023-09-27 10:30:43  │\n",
       "│                ┆ pH-Meter …                  ┆                            ┆                      │\n",
       "│ video_28578316 ┆ СМОЖЕШЬ СДЕЛАТЬ!? / БУДЬ НА ┆ 2023-09-27 10:30:44 +00:00 ┆ 2023-09-27 10:30:44  │\n",
       "│                ┆ ПИКЕ…                       ┆                            ┆                      │\n",
       "│ …              ┆ …                           ┆ …                          ┆ …                    │\n",
       "│ video_11792064 ┆ Бог войны (010)             ┆ 2023-11-14 11:08:42 +00:00 ┆ 2023-11-22 15:30:51  │\n",
       "│ video_11792065 ┆ Песня                       ┆ 2023-11-14 11:08:58 +00:00 ┆ 2023-11-22 15:30:36  │\n",
       "│ video_15299752 ┆ Еженедельный командный      ┆ 2023-11-14 11:30:17 +00:00 ┆ 2023-11-14 11:30:17  │\n",
       "│                ┆ старик St…                  ┆                            ┆                      │\n",
       "│ video_23676213 ┆ Чувствительная/болезненная  ┆ 2023-11-14 11:30:48 +00:00 ┆ 2023-11-14 11:30:48  │\n",
       "│                ┆ кожа …                      ┆                            ┆                      │\n",
       "└────────────────┴─────────────────────────────┴────────────────────────────┴──────────────────────┘"
      ]
     },
     "execution_count": 6,
     "metadata": {},
     "output_type": "execute_result"
    }
   ],
   "source": [
    "videos = videos.filter((~pl.col('v_pub_datetime').is_null()) & (~pl.col('v_pub_datetime_right').is_null()))\n",
    "videos.tail(1_000_000)"
   ]
  },
  {
   "cell_type": "markdown",
   "id": "c5276daa-5e16-46a0-8413-2eb6dce3194d",
   "metadata": {},
   "source": [
    "теперь выглядит более реалистично"
   ]
  },
  {
   "cell_type": "code",
   "execution_count": 7,
   "id": "143b3504-462a-41ea-baaf-6c960c17cd3e",
   "metadata": {
    "execution": {
     "iopub.execute_input": "2023-11-24T01:05:28.010234Z",
     "iopub.status.busy": "2023-11-24T01:05:28.009949Z",
     "iopub.status.idle": "2023-11-24T01:05:28.489253Z",
     "shell.execute_reply": "2023-11-24T01:05:28.488640Z",
     "shell.execute_reply.started": "2023-11-24T01:05:28.010215Z"
    },
    "tags": []
   },
   "outputs": [],
   "source": [
    "video_ids = videos.tail(1_000_000)[\"video_id\"].to_list()\n",
    "video_titles = videos.tail(1_000_000)[\"video_title\"].to_list()"
   ]
  },
  {
   "cell_type": "code",
   "execution_count": 8,
   "id": "daf4b1fc-2ae6-41cf-881a-67e03565a15c",
   "metadata": {
    "execution": {
     "iopub.execute_input": "2023-11-24T01:05:28.490815Z",
     "iopub.status.busy": "2023-11-24T01:05:28.490435Z",
     "iopub.status.idle": "2023-11-24T01:05:28.665753Z",
     "shell.execute_reply": "2023-11-24T01:05:28.665167Z",
     "shell.execute_reply.started": "2023-11-24T01:05:28.490795Z"
    },
    "tags": []
   },
   "outputs": [],
   "source": [
    "lemma_rec = LemmaRecommender()"
   ]
  },
  {
   "cell_type": "code",
   "execution_count": 9,
   "id": "e7a085eb-2753-45ac-8cbf-6a567d8b57fe",
   "metadata": {
    "execution": {
     "iopub.execute_input": "2023-11-24T01:05:28.666907Z",
     "iopub.status.busy": "2023-11-24T01:05:28.666562Z",
     "iopub.status.idle": "2023-11-24T01:07:05.216978Z",
     "shell.execute_reply": "2023-11-24T01:07:05.216294Z",
     "shell.execute_reply.started": "2023-11-24T01:05:28.666886Z"
    },
    "tags": []
   },
   "outputs": [
    {
     "data": {
      "application/vnd.jupyter.widget-view+json": {
       "model_id": "5db36096d46546ce85b8edbaf723d26d",
       "version_major": 2,
       "version_minor": 0
      },
      "text/plain": [
       "  0%|          | 0/1000000 [00:00<?, ?it/s]"
      ]
     },
     "metadata": {},
     "output_type": "display_data"
    },
    {
     "data": {
      "text/plain": [
       "<lemma.LemmaRecommender at 0x7f9a341d1510>"
      ]
     },
     "execution_count": 9,
     "metadata": {},
     "output_type": "execute_result"
    }
   ],
   "source": [
    "lemma_rec.fit(video_ids, video_titles)"
   ]
  },
  {
   "cell_type": "markdown",
   "id": "f3ad3fe4-f8c9-443e-ad1c-0052e6ad7022",
   "metadata": {},
   "source": [
    "# Тестирование"
   ]
  },
  {
   "cell_type": "code",
   "execution_count": 10,
   "id": "f1b5a57d-f538-4ae7-9da1-a289fc4660c7",
   "metadata": {
    "execution": {
     "iopub.execute_input": "2023-11-24T01:07:05.218866Z",
     "iopub.status.busy": "2023-11-24T01:07:05.218297Z",
     "iopub.status.idle": "2023-11-24T01:07:06.295467Z",
     "shell.execute_reply": "2023-11-24T01:07:06.294840Z",
     "shell.execute_reply.started": "2023-11-24T01:07:05.218821Z"
    },
    "tags": []
   },
   "outputs": [],
   "source": [
    "videos = videos.tail(1_000_000).to_pandas()\n",
    "videos = videos.set_index('video_id')"
   ]
  },
  {
   "cell_type": "code",
   "execution_count": 11,
   "id": "1bd74e00-1734-4916-ad06-807859e784ff",
   "metadata": {
    "execution": {
     "iopub.execute_input": "2023-11-24T01:07:06.296908Z",
     "iopub.status.busy": "2023-11-24T01:07:06.296328Z",
     "iopub.status.idle": "2023-11-24T01:07:06.456615Z",
     "shell.execute_reply": "2023-11-24T01:07:06.456047Z",
     "shell.execute_reply.started": "2023-11-24T01:07:06.296871Z"
    },
    "tags": []
   },
   "outputs": [
    {
     "data": {
      "application/vnd.jupyter.widget-view+json": {
       "model_id": "51b37c0d124542fc9978917a9d4e060e",
       "version_major": 2,
       "version_minor": 0
      },
      "text/plain": [
       "  0%|          | 0/1 [00:00<?, ?it/s]"
      ]
     },
     "metadata": {},
     "output_type": "display_data"
    },
    {
     "name": "stdout",
     "output_type": "stream",
     "text": [
      "CPU times: user 133 ms, sys: 12.2 ms, total: 145 ms\n",
      "Wall time: 143 ms\n"
     ]
    },
    {
     "data": {
      "text/html": [
       "<div><style>\n",
       ".dataframe > thead > tr > th,\n",
       ".dataframe > tbody > tr > td {\n",
       "  text-align: right;\n",
       "}\n",
       "</style>\n",
       "<small>shape: (20, 4)</small><table border=\"1\" class=\"dataframe\"><thead><tr><th>query_id</th><th>video_id</th><th>lex_score</th><th>lex_rank</th></tr><tr><td>i32</td><td>str</td><td>f32</td><td>i8</td></tr></thead><tbody><tr><td>0</td><td>&quot;video_20498139…</td><td>16.428774</td><td>1</td></tr><tr><td>0</td><td>&quot;video_16193787…</td><td>12.2701</td><td>2</td></tr><tr><td>0</td><td>&quot;video_6941488&quot;</td><td>10.966259</td><td>3</td></tr><tr><td>0</td><td>&quot;video_15480127…</td><td>10.966259</td><td>4</td></tr><tr><td>0</td><td>&quot;video_22062260…</td><td>10.966259</td><td>5</td></tr><tr><td>0</td><td>&quot;video_31103050…</td><td>10.966259</td><td>6</td></tr><tr><td>0</td><td>&quot;video_27330270…</td><td>10.966259</td><td>7</td></tr><tr><td>0</td><td>&quot;video_12838041…</td><td>10.966259</td><td>8</td></tr><tr><td>0</td><td>&quot;video_31827393…</td><td>10.966259</td><td>9</td></tr><tr><td>0</td><td>&quot;video_14578919…</td><td>10.966259</td><td>10</td></tr><tr><td>1</td><td>&quot;video_12219378…</td><td>24.153326</td><td>1</td></tr><tr><td>1</td><td>&quot;video_22102798…</td><td>22.11936</td><td>2</td></tr><tr><td>1</td><td>&quot;video_11201091…</td><td>20.401352</td><td>3</td></tr><tr><td>1</td><td>&quot;video_28580319…</td><td>20.401352</td><td>4</td></tr><tr><td>1</td><td>&quot;video_29324289…</td><td>20.401352</td><td>5</td></tr><tr><td>1</td><td>&quot;video_31309549…</td><td>18.930983</td><td>6</td></tr><tr><td>1</td><td>&quot;video_3740141&quot;</td><td>18.930983</td><td>7</td></tr><tr><td>1</td><td>&quot;video_32030260…</td><td>18.930983</td><td>8</td></tr><tr><td>1</td><td>&quot;video_28619976…</td><td>18.930983</td><td>9</td></tr><tr><td>1</td><td>&quot;video_27389348…</td><td>18.930983</td><td>10</td></tr></tbody></table></div>"
      ],
      "text/plain": [
       "shape: (20, 4)\n",
       "┌──────────┬────────────────┬───────────┬──────────┐\n",
       "│ query_id ┆ video_id       ┆ lex_score ┆ lex_rank │\n",
       "│ ---      ┆ ---            ┆ ---       ┆ ---      │\n",
       "│ i32      ┆ str            ┆ f32       ┆ i8       │\n",
       "╞══════════╪════════════════╪═══════════╪══════════╡\n",
       "│ 0        ┆ video_20498139 ┆ 16.428774 ┆ 1        │\n",
       "│ 0        ┆ video_16193787 ┆ 12.2701   ┆ 2        │\n",
       "│ 0        ┆ video_6941488  ┆ 10.966259 ┆ 3        │\n",
       "│ 0        ┆ video_15480127 ┆ 10.966259 ┆ 4        │\n",
       "│ …        ┆ …              ┆ …         ┆ …        │\n",
       "│ 1        ┆ video_3740141  ┆ 18.930983 ┆ 7        │\n",
       "│ 1        ┆ video_32030260 ┆ 18.930983 ┆ 8        │\n",
       "│ 1        ┆ video_28619976 ┆ 18.930983 ┆ 9        │\n",
       "│ 1        ┆ video_27389348 ┆ 18.930983 ┆ 10       │\n",
       "└──────────┴────────────────┴───────────┴──────────┘"
      ]
     },
     "execution_count": 11,
     "metadata": {},
     "output_type": "execute_result"
    }
   ],
   "source": [
    "%%time\n",
    "recs = lemma_rec.predict(['цифровой прорыв', 'искусственный интеллект', ''], 10)\n",
    "recs"
   ]
  },
  {
   "cell_type": "code",
   "execution_count": 12,
   "id": "f5eaae05-a14c-4bb1-b5fd-8f19a305a52f",
   "metadata": {
    "execution": {
     "iopub.execute_input": "2023-11-24T01:07:06.458051Z",
     "iopub.status.busy": "2023-11-24T01:07:06.457525Z",
     "iopub.status.idle": "2023-11-24T01:07:06.473156Z",
     "shell.execute_reply": "2023-11-24T01:07:06.472627Z",
     "shell.execute_reply.started": "2023-11-24T01:07:06.458025Z"
    },
    "tags": []
   },
   "outputs": [],
   "source": [
    "recs = recs.to_pandas().groupby('query_id')[['video_id', 'lex_score']].agg(list)"
   ]
  },
  {
   "cell_type": "code",
   "execution_count": 13,
   "id": "45d7b5e2-59ad-48f3-9f2e-24a26c85774c",
   "metadata": {
    "execution": {
     "iopub.execute_input": "2023-11-24T01:07:06.474498Z",
     "iopub.status.busy": "2023-11-24T01:07:06.473998Z",
     "iopub.status.idle": "2023-11-24T01:07:06.484906Z",
     "shell.execute_reply": "2023-11-24T01:07:06.484385Z",
     "shell.execute_reply.started": "2023-11-24T01:07:06.474475Z"
    },
    "tags": []
   },
   "outputs": [],
   "source": [
    "ids, scores = recs['video_id'], recs['lex_score']"
   ]
  },
  {
   "cell_type": "code",
   "execution_count": 14,
   "id": "deea175e-99c9-4e9d-83e6-b6da01ff2043",
   "metadata": {
    "execution": {
     "iopub.execute_input": "2023-11-24T01:07:06.486201Z",
     "iopub.status.busy": "2023-11-24T01:07:06.485648Z",
     "iopub.status.idle": "2023-11-24T01:07:06.509652Z",
     "shell.execute_reply": "2023-11-24T01:07:06.509147Z",
     "shell.execute_reply.started": "2023-11-24T01:07:06.486179Z"
    },
    "tags": []
   },
   "outputs": [
    {
     "data": {
      "text/plain": [
       "(query_id\n",
       " 0    [video_20498139, video_16193787, video_6941488...\n",
       " 1    [video_12219378, video_22102798, video_1120109...\n",
       " Name: video_id, dtype: object,\n",
       " query_id\n",
       " 0    [16.428773880004883, 12.270099639892578, 10.96...\n",
       " 1    [24.1533260345459, 22.119359970092773, 20.4013...\n",
       " Name: lex_score, dtype: object)"
      ]
     },
     "execution_count": 14,
     "metadata": {},
     "output_type": "execute_result"
    }
   ],
   "source": [
    "ids, scores"
   ]
  },
  {
   "cell_type": "code",
   "execution_count": 15,
   "id": "6b8f352d-9ba8-4d32-9017-8f38968fb78c",
   "metadata": {
    "execution": {
     "iopub.execute_input": "2023-11-24T01:07:06.510862Z",
     "iopub.status.busy": "2023-11-24T01:07:06.510387Z",
     "iopub.status.idle": "2023-11-24T01:07:06.711042Z",
     "shell.execute_reply": "2023-11-24T01:07:06.710457Z",
     "shell.execute_reply.started": "2023-11-24T01:07:06.510831Z"
    },
    "tags": []
   },
   "outputs": [
    {
     "data": {
      "text/plain": [
       "(video_id\n",
       " video_20498139    Стартовал новый сезона проекта \"Цифровой проры...\n",
       " video_16193787                   Genshin Impact: Прорыв вдохновения\n",
       " video_6941488                                        Цифровой рубль\n",
       " video_15480127                                    Цифровой манометр\n",
       " video_22062260                                     Цифровой паспорт\n",
       " video_31103050                                    Цифровой паспорт?\n",
       " video_27330270                                   Цифровой акробат))\n",
       " video_12838041                                       Цифровой полис\n",
       " video_31827393                                 Цифровое расширение!\n",
       " video_14578919                                Цифровой Баян-оркестр\n",
       " Name: video_title, dtype: object,\n",
       " video_id\n",
       " video_20498139    Стартовал новый сезона проекта \"Цифровой проры...\n",
       " video_16193787                   Genshin Impact: Прорыв вдохновения\n",
       " video_6941488                                        Цифровой рубль\n",
       " video_15480127                                    Цифровой манометр\n",
       " video_22062260                                     Цифровой паспорт\n",
       " video_31103050                                    Цифровой паспорт?\n",
       " video_27330270                                   Цифровой акробат))\n",
       " video_12838041                                       Цифровой полис\n",
       " video_31827393                                 Цифровое расширение!\n",
       " video_14578919                                Цифровой Баян-оркестр\n",
       " Name: video_title, dtype: object)"
      ]
     },
     "execution_count": 15,
     "metadata": {},
     "output_type": "execute_result"
    }
   ],
   "source": [
    "videos.loc[ids[0], 'video_title'], videos.loc[ids[0], 'video_title']"
   ]
  },
  {
   "cell_type": "code",
   "execution_count": 16,
   "id": "3b97bf8d-fb6d-4d19-b50c-7443889c2ccf",
   "metadata": {
    "execution": {
     "iopub.execute_input": "2023-11-24T01:07:06.712136Z",
     "iopub.status.busy": "2023-11-24T01:07:06.711805Z",
     "iopub.status.idle": "2023-11-24T01:07:06.725792Z",
     "shell.execute_reply": "2023-11-24T01:07:06.725280Z",
     "shell.execute_reply.started": "2023-11-24T01:07:06.712116Z"
    },
    "tags": []
   },
   "outputs": [
    {
     "data": {
      "text/plain": [
       "([16.428773880004883,\n",
       "  12.270099639892578,\n",
       "  10.966259002685547,\n",
       "  10.966259002685547,\n",
       "  10.966259002685547,\n",
       "  10.966259002685547,\n",
       "  10.966259002685547,\n",
       "  10.966259002685547,\n",
       "  10.966259002685547,\n",
       "  10.966259002685547],\n",
       " [24.1533260345459,\n",
       "  22.119359970092773,\n",
       "  20.401351928710938,\n",
       "  20.401351928710938,\n",
       "  20.401351928710938,\n",
       "  18.93098258972168,\n",
       "  18.93098258972168,\n",
       "  18.93098258972168,\n",
       "  18.93098258972168,\n",
       "  18.93098258972168])"
      ]
     },
     "execution_count": 16,
     "metadata": {},
     "output_type": "execute_result"
    }
   ],
   "source": [
    "scores[0], scores[1]"
   ]
  },
  {
   "cell_type": "code",
   "execution_count": null,
   "id": "98fe1230-1d95-4e7c-94cb-84d3d558b0c5",
   "metadata": {},
   "outputs": [],
   "source": []
  },
  {
   "cell_type": "code",
   "execution_count": 17,
   "id": "6f54bd19-60bd-458e-a43c-acd71749137d",
   "metadata": {
    "execution": {
     "iopub.execute_input": "2023-11-24T01:07:06.726820Z",
     "iopub.status.busy": "2023-11-24T01:07:06.726500Z",
     "iopub.status.idle": "2023-11-24T01:07:06.750543Z",
     "shell.execute_reply": "2023-11-24T01:07:06.750027Z",
     "shell.execute_reply.started": "2023-11-24T01:07:06.726802Z"
    },
    "tags": []
   },
   "outputs": [
    {
     "data": {
      "text/html": [
       "<div>\n",
       "<style scoped>\n",
       "    .dataframe tbody tr th:only-of-type {\n",
       "        vertical-align: middle;\n",
       "    }\n",
       "\n",
       "    .dataframe tbody tr th {\n",
       "        vertical-align: top;\n",
       "    }\n",
       "\n",
       "    .dataframe thead th {\n",
       "        text-align: right;\n",
       "    }\n",
       "</style>\n",
       "<table border=\"1\" class=\"dataframe\">\n",
       "  <thead>\n",
       "    <tr style=\"text-align: right;\">\n",
       "      <th></th>\n",
       "      <th>query</th>\n",
       "    </tr>\n",
       "  </thead>\n",
       "  <tbody>\n",
       "    <tr>\n",
       "      <th>0</th>\n",
       "      <td>экстрасенсы битва сильнейших 2 сезон</td>\n",
       "    </tr>\n",
       "    <tr>\n",
       "      <th>1</th>\n",
       "      <td>битва экстрасенсов 2</td>\n",
       "    </tr>\n",
       "    <tr>\n",
       "      <th>2</th>\n",
       "      <td>Экстрасенсы</td>\n",
       "    </tr>\n",
       "    <tr>\n",
       "      <th>3</th>\n",
       "      <td>битва сильнейших 19 сезон</td>\n",
       "    </tr>\n",
       "    <tr>\n",
       "      <th>4</th>\n",
       "      <td>битва экстрасенсов 20 сезон</td>\n",
       "    </tr>\n",
       "    <tr>\n",
       "      <th>...</th>\n",
       "      <td>...</td>\n",
       "    </tr>\n",
       "    <tr>\n",
       "      <th>1995</th>\n",
       "      <td>ПОЛИКЛИНИКА в этом ведре и есть счастье ?</td>\n",
       "    </tr>\n",
       "    <tr>\n",
       "      <th>1996</th>\n",
       "      <td>Как избавиться от страхов и начать бизнес ?</td>\n",
       "    </tr>\n",
       "    <tr>\n",
       "      <th>1997</th>\n",
       "      <td>Как и где продавать аромасвечи ?</td>\n",
       "    </tr>\n",
       "    <tr>\n",
       "      <th>1998</th>\n",
       "      <td>Ответы на Ваши комментарии! Аромасвечи</td>\n",
       "    </tr>\n",
       "    <tr>\n",
       "      <th>1999</th>\n",
       "      <td>Скетч-шоу VELLISSIMOO «знать и молчать?»</td>\n",
       "    </tr>\n",
       "  </tbody>\n",
       "</table>\n",
       "<p>2000 rows × 1 columns</p>\n",
       "</div>"
      ],
      "text/plain": [
       "                                            query\n",
       "0            экстрасенсы битва сильнейших 2 сезон\n",
       "1                            битва экстрасенсов 2\n",
       "2                                     Экстрасенсы\n",
       "3                       битва сильнейших 19 сезон\n",
       "4                     битва экстрасенсов 20 сезон\n",
       "...                                           ...\n",
       "1995    ПОЛИКЛИНИКА в этом ведре и есть счастье ?\n",
       "1996  Как избавиться от страхов и начать бизнес ?\n",
       "1997             Как и где продавать аромасвечи ?\n",
       "1998       Ответы на Ваши комментарии! Аромасвечи\n",
       "1999     Скетч-шоу VELLISSIMOO «знать и молчать?»\n",
       "\n",
       "[2000 rows x 1 columns]"
      ]
     },
     "execution_count": 17,
     "metadata": {},
     "output_type": "execute_result"
    }
   ],
   "source": [
    "queries = pd.read_csv('./submission_queries.csv')\n",
    "queries"
   ]
  },
  {
   "cell_type": "code",
   "execution_count": 18,
   "id": "d24fbe52-c37d-469b-a669-439c27f63b7e",
   "metadata": {
    "execution": {
     "iopub.execute_input": "2023-11-24T01:07:06.751660Z",
     "iopub.status.busy": "2023-11-24T01:07:06.751261Z",
     "iopub.status.idle": "2023-11-24T01:07:11.648934Z",
     "shell.execute_reply": "2023-11-24T01:07:11.648358Z",
     "shell.execute_reply.started": "2023-11-24T01:07:06.751638Z"
    },
    "tags": []
   },
   "outputs": [
    {
     "data": {
      "application/vnd.jupyter.widget-view+json": {
       "model_id": "739f26549b0b4d2cac6ee83e5d9581ff",
       "version_major": 2,
       "version_minor": 0
      },
      "text/plain": [
       "  0%|          | 0/1 [00:00<?, ?it/s]"
      ]
     },
     "metadata": {},
     "output_type": "display_data"
    },
    {
     "name": "stdout",
     "output_type": "stream",
     "text": [
      "CPU times: user 4.64 s, sys: 378 ms, total: 5.02 s\n",
      "Wall time: 4.84 s\n"
     ]
    },
    {
     "data": {
      "text/html": [
       "<div><style>\n",
       ".dataframe > thead > tr > th,\n",
       ".dataframe > tbody > tr > td {\n",
       "  text-align: right;\n",
       "}\n",
       "</style>\n",
       "<small>shape: (19299, 4)</small><table border=\"1\" class=\"dataframe\"><thead><tr><th>query_id</th><th>video_id</th><th>lex_score</th><th>lex_rank</th></tr><tr><td>i32</td><td>str</td><td>f32</td><td>i8</td></tr></thead><tbody><tr><td>0</td><td>&quot;video_13778122…</td><td>28.924025</td><td>1</td></tr><tr><td>0</td><td>&quot;video_16372109…</td><td>26.677498</td><td>2</td></tr><tr><td>0</td><td>&quot;video_5067234&quot;</td><td>26.677498</td><td>3</td></tr><tr><td>0</td><td>&quot;video_3599632&quot;</td><td>26.677498</td><td>4</td></tr><tr><td>0</td><td>&quot;video_27119025…</td><td>26.677498</td><td>5</td></tr><tr><td>0</td><td>&quot;video_22989064…</td><td>26.677498</td><td>6</td></tr><tr><td>0</td><td>&quot;video_26919518…</td><td>24.754795</td><td>7</td></tr><tr><td>0</td><td>&quot;video_23769754…</td><td>24.754795</td><td>8</td></tr><tr><td>0</td><td>&quot;video_18764678…</td><td>24.754795</td><td>9</td></tr><tr><td>0</td><td>&quot;video_11110464…</td><td>24.754795</td><td>10</td></tr><tr><td>1</td><td>&quot;video_32618171…</td><td>21.759335</td><td>1</td></tr><tr><td>1</td><td>&quot;video_13778122…</td><td>19.92697</td><td>2</td></tr><tr><td>&hellip;</td><td>&hellip;</td><td>&hellip;</td><td>&hellip;</td></tr><tr><td>1998</td><td>&quot;video_30163276…</td><td>17.193487</td><td>9</td></tr><tr><td>1998</td><td>&quot;video_25361842…</td><td>16.986725</td><td>10</td></tr><tr><td>1999</td><td>&quot;video_15306504…</td><td>33.018482</td><td>1</td></tr><tr><td>1999</td><td>&quot;video_5065522&quot;</td><td>28.25906</td><td>2</td></tr><tr><td>1999</td><td>&quot;video_22326580…</td><td>26.359289</td><td>3</td></tr><tr><td>1999</td><td>&quot;video_22869893…</td><td>13.804118</td><td>4</td></tr><tr><td>1999</td><td>&quot;video_27593164…</td><td>13.795257</td><td>5</td></tr><tr><td>1999</td><td>&quot;video_25082942…</td><td>12.160263</td><td>6</td></tr><tr><td>1999</td><td>&quot;video_24334401…</td><td>10.147397</td><td>7</td></tr><tr><td>1999</td><td>&quot;video_18987224…</td><td>8.755754</td><td>8</td></tr><tr><td>1999</td><td>&quot;video_31600552…</td><td>3.576812</td><td>9</td></tr><tr><td>1999</td><td>&quot;video_22390326…</td><td>3.24791</td><td>10</td></tr></tbody></table></div>"
      ],
      "text/plain": [
       "shape: (19_299, 4)\n",
       "┌──────────┬────────────────┬───────────┬──────────┐\n",
       "│ query_id ┆ video_id       ┆ lex_score ┆ lex_rank │\n",
       "│ ---      ┆ ---            ┆ ---       ┆ ---      │\n",
       "│ i32      ┆ str            ┆ f32       ┆ i8       │\n",
       "╞══════════╪════════════════╪═══════════╪══════════╡\n",
       "│ 0        ┆ video_13778122 ┆ 28.924025 ┆ 1        │\n",
       "│ 0        ┆ video_16372109 ┆ 26.677498 ┆ 2        │\n",
       "│ 0        ┆ video_5067234  ┆ 26.677498 ┆ 3        │\n",
       "│ 0        ┆ video_3599632  ┆ 26.677498 ┆ 4        │\n",
       "│ …        ┆ …              ┆ …         ┆ …        │\n",
       "│ 1999     ┆ video_24334401 ┆ 10.147397 ┆ 7        │\n",
       "│ 1999     ┆ video_18987224 ┆ 8.755754  ┆ 8        │\n",
       "│ 1999     ┆ video_31600552 ┆ 3.576812  ┆ 9        │\n",
       "│ 1999     ┆ video_22390326 ┆ 3.24791   ┆ 10       │\n",
       "└──────────┴────────────────┴───────────┴──────────┘"
      ]
     },
     "execution_count": 18,
     "metadata": {},
     "output_type": "execute_result"
    }
   ],
   "source": [
    "%%time\n",
    "recs = lemma_rec.predict(queries['query'], 10)\n",
    "recs"
   ]
  },
  {
   "cell_type": "code",
   "execution_count": 19,
   "id": "2d48c8c9-5ac4-4322-bb3b-be261e62a797",
   "metadata": {
    "execution": {
     "iopub.execute_input": "2023-11-24T01:07:11.651443Z",
     "iopub.status.busy": "2023-11-24T01:07:11.651052Z",
     "iopub.status.idle": "2023-11-24T01:07:11.717064Z",
     "shell.execute_reply": "2023-11-24T01:07:11.716538Z",
     "shell.execute_reply.started": "2023-11-24T01:07:11.651422Z"
    },
    "tags": []
   },
   "outputs": [],
   "source": [
    "recs = recs.to_pandas().groupby('query_id')[['video_id', 'lex_score']].agg(list)"
   ]
  },
  {
   "cell_type": "code",
   "execution_count": 21,
   "id": "e75d3731-8411-4797-b4fe-cc830ffaabc5",
   "metadata": {
    "execution": {
     "iopub.execute_input": "2023-11-24T01:08:31.627015Z",
     "iopub.status.busy": "2023-11-24T01:08:31.626592Z",
     "iopub.status.idle": "2023-11-24T01:08:31.691425Z",
     "shell.execute_reply": "2023-11-24T01:08:31.690850Z",
     "shell.execute_reply.started": "2023-11-24T01:08:31.626989Z"
    },
    "tags": []
   },
   "outputs": [
    {
     "data": {
      "text/plain": [
       "('импровизация 4 сезон 33 серия',\n",
       " video_id\n",
       " video_5698521       Воскресший Эртугрул, 4 сезон, 33 серия\n",
       " video_29427975               Анжелика | Сезон 2 | Серия 33\n",
       " video_12899074    САШАТАНЯ, 5 сезон, 33 серия (18.12.2019)\n",
       " video_13782407      Воскресший Эртугрул, 5 сезон, 33 серия\n",
       " video_28093705      Воскресший Эртугрул, 3 сезон, 33 серия\n",
       " video_4180841       Воскресший Эртугрул, 1 сезон, 33 серия\n",
       " video_8706694       Воскресший Эртугрул, 2 сезон, 33 серия\n",
       " video_28189842      Наш спецназ 3 сезон 1 серия (33 серия)\n",
       " video_14321547                    Убийство 4 сезон 4 серия\n",
       " video_10250514                     Клиника 4 сезон 4 серия\n",
       " Name: video_title, dtype: object)"
      ]
     },
     "execution_count": 21,
     "metadata": {},
     "output_type": "execute_result"
    }
   ],
   "source": [
    "i = np.random.randint(0, len(queries))\n",
    "queries.loc[i, 'query'], videos.loc[recs.loc[i, 'video_id'], 'video_title']"
   ]
  },
  {
   "cell_type": "markdown",
   "id": "2f772ab9-babc-45c0-91b3-1f7034c1b126",
   "metadata": {},
   "source": [
    "# Сохранение"
   ]
  },
  {
   "cell_type": "code",
   "execution_count": 22,
   "id": "822a6c62-b77d-47a1-b88b-53542530f753",
   "metadata": {
    "execution": {
     "iopub.execute_input": "2023-11-24T01:08:33.220719Z",
     "iopub.status.busy": "2023-11-24T01:08:33.220320Z",
     "iopub.status.idle": "2023-11-24T01:08:36.168763Z",
     "shell.execute_reply": "2023-11-24T01:08:36.167966Z",
     "shell.execute_reply.started": "2023-11-24T01:08:33.220693Z"
    },
    "tags": []
   },
   "outputs": [],
   "source": [
    "with open('lemma_rec_1e6.pickle', 'wb') as f:\n",
    "    pickle.dump(lemma_rec, f)"
   ]
  }
 ],
 "metadata": {
  "kernelspec": {
   "display_name": "DataSphere Kernel",
   "language": "python",
   "name": "python3"
  },
  "language_info": {
   "codemirror_mode": {
    "name": "ipython",
    "version": 3
   },
   "file_extension": ".py",
   "mimetype": "text/x-python",
   "name": "python",
   "nbconvert_exporter": "python",
   "pygments_lexer": "ipython3",
   "version": "3.7.7"
  }
 },
 "nbformat": 4,
 "nbformat_minor": 5
}
