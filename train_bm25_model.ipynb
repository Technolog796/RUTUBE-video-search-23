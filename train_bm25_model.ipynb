{
 "cells": [
  {
   "cell_type": "code",
   "execution_count": 1,
   "id": "af87dcd5-c069-4a02-8361-b873cb91d866",
   "metadata": {
    "execution": {
     "iopub.execute_input": "2023-11-23T20:01:38.350671Z",
     "iopub.status.busy": "2023-11-23T20:01:38.350110Z",
     "iopub.status.idle": "2023-11-23T20:01:38.497858Z",
     "shell.execute_reply": "2023-11-23T20:01:38.496966Z",
     "shell.execute_reply.started": "2023-11-23T20:01:38.350627Z"
    },
    "tags": []
   },
   "outputs": [],
   "source": [
    "import pickle\n",
    "\n",
    "import numpy as np\n",
    "import polars as pl\n",
    "\n",
    "from bm25 import BM25Model"
   ]
  },
  {
   "cell_type": "code",
   "execution_count": null,
   "id": "45c4549d-c526-4ce7-a60c-96cbb0fc12d3",
   "metadata": {},
   "outputs": [],
   "source": []
  },
  {
   "cell_type": "code",
   "execution_count": 2,
   "id": "b69c5bfd-2edc-4855-a453-42dd4a45a131",
   "metadata": {
    "execution": {
     "iopub.execute_input": "2023-11-23T20:01:38.499597Z",
     "iopub.status.busy": "2023-11-23T20:01:38.499072Z",
     "iopub.status.idle": "2023-11-23T20:01:58.199896Z",
     "shell.execute_reply": "2023-11-23T20:01:58.198871Z",
     "shell.execute_reply.started": "2023-11-23T20:01:38.499565Z"
    },
    "tags": []
   },
   "outputs": [
    {
     "data": {
      "text/html": [
       "<div><style>\n",
       ".dataframe > thead > tr > th,\n",
       ".dataframe > tbody > tr > td {\n",
       "  text-align: right;\n",
       "}\n",
       "</style>\n",
       "<small>shape: (5, 2)</small><table border=\"1\" class=\"dataframe\"><thead><tr><th>video_id</th><th>v_pub_datetime</th></tr><tr><td>str</td><td>str</td></tr></thead><tbody><tr><td>&quot;video_2172262&quot;</td><td>&quot;2023-11-22 15:…</td></tr><tr><td>&quot;video_22618974…</td><td>&quot;2023-11-22 15:…</td></tr><tr><td>&quot;video_11792065…</td><td>&quot;2023-11-22 15:…</td></tr><tr><td>&quot;video_11792064…</td><td>&quot;2023-11-22 15:…</td></tr><tr><td>&quot;video_11792080…</td><td>&quot;2023-11-22 15:…</td></tr></tbody></table></div>"
      ],
      "text/plain": [
       "shape: (5, 2)\n",
       "┌────────────────┬─────────────────────┐\n",
       "│ video_id       ┆ v_pub_datetime      │\n",
       "│ ---            ┆ ---                 │\n",
       "│ str            ┆ str                 │\n",
       "╞════════════════╪═════════════════════╡\n",
       "│ video_2172262  ┆ 2023-11-22 15:00:53 │\n",
       "│ video_22618974 ┆ 2023-11-22 15:30:16 │\n",
       "│ video_11792065 ┆ 2023-11-22 15:30:36 │\n",
       "│ video_11792064 ┆ 2023-11-22 15:30:51 │\n",
       "│ video_11792080 ┆ 2023-11-22 15:31:11 │\n",
       "└────────────────┴─────────────────────┘"
      ]
     },
     "execution_count": 2,
     "metadata": {},
     "output_type": "execute_result"
    }
   ],
   "source": [
    "features = pl.read_parquet('./features.parquet', columns = ['video_id', 'v_pub_datetime']).sort('v_pub_datetime')\n",
    "features.tail()"
   ]
  },
  {
   "cell_type": "code",
   "execution_count": 3,
   "id": "936d3647-63cb-4978-b219-ff592b518a2d",
   "metadata": {
    "execution": {
     "iopub.execute_input": "2023-11-23T20:01:58.202605Z",
     "iopub.status.busy": "2023-11-23T20:01:58.202030Z",
     "iopub.status.idle": "2023-11-23T20:02:07.806699Z",
     "shell.execute_reply": "2023-11-23T20:02:07.805352Z",
     "shell.execute_reply.started": "2023-11-23T20:01:58.202565Z"
    },
    "tags": []
   },
   "outputs": [],
   "source": [
    "features = features.unique()"
   ]
  },
  {
   "cell_type": "code",
   "execution_count": 4,
   "id": "4abeb51f-8216-4ecd-83ad-c1c6e1422f2b",
   "metadata": {
    "execution": {
     "iopub.execute_input": "2023-11-23T20:02:07.809806Z",
     "iopub.status.busy": "2023-11-23T20:02:07.809085Z",
     "iopub.status.idle": "2023-11-23T20:02:28.793802Z",
     "shell.execute_reply": "2023-11-23T20:02:28.792781Z",
     "shell.execute_reply.started": "2023-11-23T20:02:07.809755Z"
    },
    "tags": []
   },
   "outputs": [
    {
     "data": {
      "text/html": [
       "<div><style>\n",
       ".dataframe > thead > tr > th,\n",
       ".dataframe > tbody > tr > td {\n",
       "  text-align: right;\n",
       "}\n",
       "</style>\n",
       "<small>shape: (1000000, 3)</small><table border=\"1\" class=\"dataframe\"><thead><tr><th>video_id</th><th>video_title</th><th>v_pub_datetime</th></tr><tr><td>str</td><td>str</td><td>datetime[ns, +00:00]</td></tr></thead><tbody><tr><td>&quot;video_27609121…</td><td>&quot;LIVE 3 : Gayat…</td><td>2023-11-12 22:53:48 +00:00</td></tr><tr><td>&quot;video_16206525…</td><td>&quot;6 - Шримати Ра…</td><td>2023-11-12 22:53:49 +00:00</td></tr><tr><td>&quot;video_15284998…</td><td>&quot;7 CHAKRAS HEAL…</td><td>2023-11-12 22:53:49 +00:00</td></tr><tr><td>&quot;video_13865933…</td><td>&quot;хадсон —  Море…</td><td>2023-11-12 22:53:49 +00:00</td></tr><tr><td>&quot;video_18611538…</td><td>&quot;KALIYUGA || MO…</td><td>2023-11-12 22:53:49 +00:00</td></tr><tr><td>&quot;video_5992598&quot;</td><td>&quot;Dmitri Hvorost…</td><td>2023-11-12 22:53:49 +00:00</td></tr><tr><td>&quot;video_21456410…</td><td>&quot;नवरात्रि स्पॆश…</td><td>2023-11-12 22:53:49 +00:00</td></tr><tr><td>&quot;video_32520621…</td><td>&quot;38 лет в браке…</td><td>2023-11-12 22:53:49 +00:00</td></tr><tr><td>&quot;video_10561672…</td><td>&quot;Большое спасиб…</td><td>2023-11-12 22:53:49 +00:00</td></tr><tr><td>&quot;video_28225804…</td><td>&quot;Илона Ребицкая…</td><td>2023-11-12 22:53:49 +00:00</td></tr><tr><td>&quot;video_24586717…</td><td>&quot;ADI CHOROKAY |…</td><td>2023-11-12 22:53:49 +00:00</td></tr><tr><td>&quot;video_29341769…</td><td>&quot;Медитация на о…</td><td>2023-11-12 22:53:49 +00:00</td></tr><tr><td>&hellip;</td><td>&hellip;</td><td>&hellip;</td></tr><tr><td>&quot;video_15599180…</td><td>&quot;Видеообзор на …</td><td>2023-11-14 11:57:44 +00:00</td></tr><tr><td>&quot;video_15598457…</td><td>&quot;СҮЗБЕЛІ. ТВОРО…</td><td>2023-11-14 11:57:44 +00:00</td></tr><tr><td>&quot;video_14411448…</td><td>&quot;Скрученное дер…</td><td>2023-11-14 11:57:44 +00:00</td></tr><tr><td>&quot;video_14706215…</td><td>&quot;Учим Имена Сущ…</td><td>2023-11-14 11:57:44 +00:00</td></tr><tr><td>&quot;video_15599779…</td><td>&quot;Скибиди туолет…</td><td>2023-11-14 11:58:24 +00:00</td></tr><tr><td>&quot;video_14414126…</td><td>&quot;4ekal&quot;</td><td>2023-11-14 11:58:27 +00:00</td></tr><tr><td>&quot;video_15006834…</td><td>&quot;Буктрейлер Коз…</td><td>2023-11-14 11:58:36 +00:00</td></tr><tr><td>&quot;video_14412320…</td><td>&quot;Угадай мелодию…</td><td>2023-11-14 11:58:56 +00:00</td></tr><tr><td>&quot;video_15300130…</td><td>&quot;Гога, Киря и Е…</td><td>2023-11-14 11:59:13 +00:00</td></tr><tr><td>&quot;video_15600786…</td><td>&quot;Специальный ре…</td><td>2023-11-14 11:59:26 +00:00</td></tr><tr><td>&quot;video_15299879…</td><td>&quot;Угадай мелодию…</td><td>2023-11-14 11:59:41 +00:00</td></tr><tr><td>&quot;video_11792077…</td><td>&quot;Давай поженимс…</td><td>2023-11-14 11:59:59 +00:00</td></tr></tbody></table></div>"
      ],
      "text/plain": [
       "shape: (1_000_000, 3)\n",
       "┌────────────────┬───────────────────────────────────┬────────────────────────────┐\n",
       "│ video_id       ┆ video_title                       ┆ v_pub_datetime             │\n",
       "│ ---            ┆ ---                               ┆ ---                        │\n",
       "│ str            ┆ str                               ┆ datetime[ns, +00:00]       │\n",
       "╞════════════════╪═══════════════════════════════════╪════════════════════════════╡\n",
       "│ video_27609121 ┆ LIVE 3 : Gayatri Mantra  धन मंत्…   ┆ 2023-11-12 22:53:48 +00:00 │\n",
       "│ video_16206525 ┆ 6 - Шримати Радхарани - ШЧЧ.Мадх… ┆ 2023-11-12 22:53:49 +00:00 │\n",
       "│ video_15284998 ┆ 7 CHAKRAS HEALING CHANTS ( MANTR… ┆ 2023-11-12 22:53:49 +00:00 │\n",
       "│ video_13865933 ┆ хадсон —  Море [ПРЕМЬЕРА КЛИПА]   ┆ 2023-11-12 22:53:49 +00:00 │\n",
       "│ …              ┆ …                                 ┆ …                          │\n",
       "│ video_15300130 ┆ Гога, Киря и Егор Покоряют Легку… ┆ 2023-11-14 11:59:13 +00:00 │\n",
       "│ video_15600786 ┆ Специальный репортаж. Первый сне… ┆ 2023-11-14 11:59:26 +00:00 │\n",
       "│ video_15299879 ┆ Угадай мелодию 17.11.1997         ┆ 2023-11-14 11:59:41 +00:00 │\n",
       "│ video_11792077 ┆ Давай поженимся! Бывший библиоте… ┆ 2023-11-14 11:59:59 +00:00 │\n",
       "└────────────────┴───────────────────────────────────┴────────────────────────────┘"
      ]
     },
     "execution_count": 4,
     "metadata": {},
     "output_type": "execute_result"
    }
   ],
   "source": [
    "videos = pl.read_parquet('./videos.parquet', columns = ['video_id', 'video_title', 'v_pub_datetime']).sort('v_pub_datetime')\n",
    "videos.tail(1_000_000)"
   ]
  },
  {
   "cell_type": "markdown",
   "id": "1f13110b-93ed-4a83-843e-f854ed4000c6",
   "metadata": {},
   "source": [
    "за последние два дня целых миллион видео???"
   ]
  },
  {
   "cell_type": "code",
   "execution_count": 5,
   "id": "dd05f6e8-0bbd-464f-82f7-5ad46e296d0c",
   "metadata": {
    "execution": {
     "iopub.execute_input": "2023-11-23T20:02:28.795738Z",
     "iopub.status.busy": "2023-11-23T20:02:28.795166Z",
     "iopub.status.idle": "2023-11-23T20:02:32.259396Z",
     "shell.execute_reply": "2023-11-23T20:02:32.258648Z",
     "shell.execute_reply.started": "2023-11-23T20:02:28.795700Z"
    },
    "tags": []
   },
   "outputs": [
    {
     "data": {
      "text/html": [
       "<div><style>\n",
       ".dataframe > thead > tr > th,\n",
       ".dataframe > tbody > tr > td {\n",
       "  text-align: right;\n",
       "}\n",
       "</style>\n",
       "<small>shape: (5, 4)</small><table border=\"1\" class=\"dataframe\"><thead><tr><th>video_id</th><th>video_title</th><th>v_pub_datetime</th><th>v_pub_datetime_right</th></tr><tr><td>str</td><td>str</td><td>datetime[ns, +00:00]</td><td>str</td></tr></thead><tbody><tr><td>&quot;video_14412320…</td><td>&quot;Угадай мелодию…</td><td>2023-11-14 11:58:56 +00:00</td><td>null</td></tr><tr><td>&quot;video_15300130…</td><td>&quot;Гога, Киря и Е…</td><td>2023-11-14 11:59:13 +00:00</td><td>null</td></tr><tr><td>&quot;video_15600786…</td><td>&quot;Специальный ре…</td><td>2023-11-14 11:59:26 +00:00</td><td>null</td></tr><tr><td>&quot;video_15299879…</td><td>&quot;Угадай мелодию…</td><td>2023-11-14 11:59:41 +00:00</td><td>null</td></tr><tr><td>&quot;video_11792077…</td><td>&quot;Давай поженимс…</td><td>2023-11-14 11:59:59 +00:00</td><td>null</td></tr></tbody></table></div>"
      ],
      "text/plain": [
       "shape: (5, 4)\n",
       "┌────────────────┬─────────────────────────────┬────────────────────────────┬──────────────────────┐\n",
       "│ video_id       ┆ video_title                 ┆ v_pub_datetime             ┆ v_pub_datetime_right │\n",
       "│ ---            ┆ ---                         ┆ ---                        ┆ ---                  │\n",
       "│ str            ┆ str                         ┆ datetime[ns, +00:00]       ┆ str                  │\n",
       "╞════════════════╪═════════════════════════════╪════════════════════════════╪══════════════════════╡\n",
       "│ video_14412320 ┆ Угадай мелодию 03.11.1997   ┆ 2023-11-14 11:58:56 +00:00 ┆ null                 │\n",
       "│ video_15300130 ┆ Гога, Киря и Егор Покоряют  ┆ 2023-11-14 11:59:13 +00:00 ┆ null                 │\n",
       "│                ┆ Легку…                      ┆                            ┆                      │\n",
       "│ video_15600786 ┆ Специальный репортаж.       ┆ 2023-11-14 11:59:26 +00:00 ┆ null                 │\n",
       "│                ┆ Первый сне…                 ┆                            ┆                      │\n",
       "│ video_15299879 ┆ Угадай мелодию 17.11.1997   ┆ 2023-11-14 11:59:41 +00:00 ┆ null                 │\n",
       "│ video_11792077 ┆ Давай поженимся! Бывший     ┆ 2023-11-14 11:59:59 +00:00 ┆ null                 │\n",
       "│                ┆ библиоте…                   ┆                            ┆                      │\n",
       "└────────────────┴─────────────────────────────┴────────────────────────────┴──────────────────────┘"
      ]
     },
     "execution_count": 5,
     "metadata": {},
     "output_type": "execute_result"
    }
   ],
   "source": [
    "videos = videos.join(features, on='video_id', how='left')\n",
    "videos.tail()"
   ]
  },
  {
   "cell_type": "code",
   "execution_count": 6,
   "id": "2a74d8a3-762f-4227-bdc1-a60208315b08",
   "metadata": {
    "execution": {
     "iopub.execute_input": "2023-11-23T20:02:32.261147Z",
     "iopub.status.busy": "2023-11-23T20:02:32.260590Z",
     "iopub.status.idle": "2023-11-23T20:02:35.775112Z",
     "shell.execute_reply": "2023-11-23T20:02:35.774073Z",
     "shell.execute_reply.started": "2023-11-23T20:02:32.261118Z"
    },
    "tags": []
   },
   "outputs": [
    {
     "data": {
      "text/html": [
       "<div><style>\n",
       ".dataframe > thead > tr > th,\n",
       ".dataframe > tbody > tr > td {\n",
       "  text-align: right;\n",
       "}\n",
       "</style>\n",
       "<small>shape: (1000000, 4)</small><table border=\"1\" class=\"dataframe\"><thead><tr><th>video_id</th><th>video_title</th><th>v_pub_datetime</th><th>v_pub_datetime_right</th></tr><tr><td>str</td><td>str</td><td>datetime[ns, +00:00]</td><td>str</td></tr></thead><tbody><tr><td>&quot;video_27711768…</td><td>&quot;Авто из Кореи …</td><td>2023-09-27 10:30:42 +00:00</td><td>&quot;2023-09-27 10:…</td></tr><tr><td>&quot;video_16046805…</td><td>&quot;Русский язык_5…</td><td>2023-09-27 10:30:43 +00:00</td><td>&quot;2023-09-27 10:…</td></tr><tr><td>&quot;video_32024614…</td><td>&quot;Apera Instrume…</td><td>2023-09-27 10:30:43 +00:00</td><td>&quot;2023-09-27 10:…</td></tr><tr><td>&quot;video_28578316…</td><td>&quot;СМОЖЕШЬ СДЕЛАТ…</td><td>2023-09-27 10:30:44 +00:00</td><td>&quot;2023-09-27 10:…</td></tr><tr><td>&quot;video_370606&quot;</td><td>&quot;Жди Меня 05.01…</td><td>2023-09-27 10:30:44 +00:00</td><td>&quot;2023-09-27 10:…</td></tr><tr><td>&quot;video_15732705…</td><td>&quot;Сергей Банарь …</td><td>2023-09-27 10:30:44 +00:00</td><td>&quot;2023-09-27 10:…</td></tr><tr><td>&quot;video_24676052…</td><td>&quot;Вопрос №2 § 27…</td><td>2023-09-27 10:30:45 +00:00</td><td>&quot;2023-09-27 10:…</td></tr><tr><td>&quot;video_5606659&quot;</td><td>&quot;Как Сделать Ро…</td><td>2023-09-27 10:30:46 +00:00</td><td>&quot;2023-09-27 10:…</td></tr><tr><td>&quot;video_7076222&quot;</td><td>&quot;ПАРА ТУФЕЛЬ. Д…</td><td>2023-09-27 10:30:47 +00:00</td><td>&quot;2023-09-27 10:…</td></tr><tr><td>&quot;video_13025558…</td><td>&quot;Как правильно …</td><td>2023-09-27 10:30:49 +00:00</td><td>&quot;2023-09-27 10:…</td></tr><tr><td>&quot;video_14568261…</td><td>&quot;Съёмники рулей…</td><td>2023-09-27 10:30:50 +00:00</td><td>&quot;2023-09-27 10:…</td></tr><tr><td>&quot;video_22598969…</td><td>&quot;Хотите в круго…</td><td>2023-09-27 10:30:50 +00:00</td><td>&quot;2023-09-27 10:…</td></tr><tr><td>&hellip;</td><td>&hellip;</td><td>&hellip;</td><td>&hellip;</td></tr><tr><td>&quot;video_2902008&quot;</td><td>&quot;Банкноты из за…</td><td>2023-11-14 11:06:13 +00:00</td><td>&quot;2023-11-22 04:…</td></tr><tr><td>&quot;video_11792081…</td><td>&quot;Самолёт&quot;</td><td>2023-11-14 11:06:29 +00:00</td><td>&quot;2023-11-22 04:…</td></tr><tr><td>&quot;video_5681949&quot;</td><td>&quot;Ты моя исповед…</td><td>2023-11-14 11:07:18 +00:00</td><td>&quot;2023-11-22 13:…</td></tr><tr><td>&quot;video_11792072…</td><td>&quot;Песня&quot;</td><td>2023-11-14 11:07:34 +00:00</td><td>&quot;2023-11-22 13:…</td></tr><tr><td>&quot;video_11792080…</td><td>&quot;SHAMAN — МОЙ Б…</td><td>2023-11-14 11:07:48 +00:00</td><td>&quot;2023-11-22 15:…</td></tr><tr><td>&quot;video_9200441&quot;</td><td>&quot;Спутник&quot;</td><td>2023-11-14 11:08:01 +00:00</td><td>&quot;2023-11-22 13:…</td></tr><tr><td>&quot;video_11792075…</td><td>&quot;Не важна (Туре…</td><td>2023-11-14 11:08:15 +00:00</td><td>&quot;2023-11-22 13:…</td></tr><tr><td>&quot;video_11792060…</td><td>&quot;Небо&quot;</td><td>2023-11-14 11:08:30 +00:00</td><td>&quot;2023-11-22 13:…</td></tr><tr><td>&quot;video_11792064…</td><td>&quot;Бог войны (010…</td><td>2023-11-14 11:08:42 +00:00</td><td>&quot;2023-11-22 15:…</td></tr><tr><td>&quot;video_11792065…</td><td>&quot;Песня&quot;</td><td>2023-11-14 11:08:58 +00:00</td><td>&quot;2023-11-22 15:…</td></tr><tr><td>&quot;video_15299752…</td><td>&quot;Еженедельный к…</td><td>2023-11-14 11:30:17 +00:00</td><td>&quot;2023-11-14 11:…</td></tr><tr><td>&quot;video_23676213…</td><td>&quot;Чувствительная…</td><td>2023-11-14 11:30:48 +00:00</td><td>&quot;2023-11-14 11:…</td></tr></tbody></table></div>"
      ],
      "text/plain": [
       "shape: (1_000_000, 4)\n",
       "┌────────────────┬─────────────────────────────┬────────────────────────────┬──────────────────────┐\n",
       "│ video_id       ┆ video_title                 ┆ v_pub_datetime             ┆ v_pub_datetime_right │\n",
       "│ ---            ┆ ---                         ┆ ---                        ┆ ---                  │\n",
       "│ str            ┆ str                         ┆ datetime[ns, +00:00]       ┆ str                  │\n",
       "╞════════════════╪═════════════════════════════╪════════════════════════════╪══════════════════════╡\n",
       "│ video_27711768 ┆ Авто из Кореи БЕЗ           ┆ 2023-09-27 10:30:42 +00:00 ┆ 2023-09-27 10:30:42  │\n",
       "│                ┆ ПОСРЕДНИКОВ . …             ┆                            ┆                      │\n",
       "│ video_16046805 ┆ Русский язык_5              ┆ 2023-09-27 10:30:43 +00:00 ┆ 2023-09-27 10:30:43  │\n",
       "│                ┆ класс_Предложения…          ┆                            ┆                      │\n",
       "│ video_32024614 ┆ Apera Instruments PH20      ┆ 2023-09-27 10:30:43 +00:00 ┆ 2023-09-27 10:30:43  │\n",
       "│                ┆ pH-Meter …                  ┆                            ┆                      │\n",
       "│ video_28578316 ┆ СМОЖЕШЬ СДЕЛАТЬ!? / БУДЬ НА ┆ 2023-09-27 10:30:44 +00:00 ┆ 2023-09-27 10:30:44  │\n",
       "│                ┆ ПИКЕ…                       ┆                            ┆                      │\n",
       "│ …              ┆ …                           ┆ …                          ┆ …                    │\n",
       "│ video_11792064 ┆ Бог войны (010)             ┆ 2023-11-14 11:08:42 +00:00 ┆ 2023-11-22 15:30:51  │\n",
       "│ video_11792065 ┆ Песня                       ┆ 2023-11-14 11:08:58 +00:00 ┆ 2023-11-22 15:30:36  │\n",
       "│ video_15299752 ┆ Еженедельный командный      ┆ 2023-11-14 11:30:17 +00:00 ┆ 2023-11-14 11:30:17  │\n",
       "│                ┆ старик St…                  ┆                            ┆                      │\n",
       "│ video_23676213 ┆ Чувствительная/болезненная  ┆ 2023-11-14 11:30:48 +00:00 ┆ 2023-11-14 11:30:48  │\n",
       "│                ┆ кожа …                      ┆                            ┆                      │\n",
       "└────────────────┴─────────────────────────────┴────────────────────────────┴──────────────────────┘"
      ]
     },
     "execution_count": 6,
     "metadata": {},
     "output_type": "execute_result"
    }
   ],
   "source": [
    "videos = videos.filter((~pl.col('v_pub_datetime').is_null()) & (~pl.col('v_pub_datetime_right').is_null()))\n",
    "videos.tail(1_000_000)"
   ]
  },
  {
   "cell_type": "markdown",
   "id": "c5276daa-5e16-46a0-8413-2eb6dce3194d",
   "metadata": {},
   "source": [
    "теперь выглядит более реалистично"
   ]
  },
  {
   "cell_type": "code",
   "execution_count": null,
   "id": "9c1a2f39-0af6-4889-ac9f-3acd1099526a",
   "metadata": {},
   "outputs": [],
   "source": []
  },
  {
   "cell_type": "code",
   "execution_count": 7,
   "id": "143b3504-462a-41ea-baaf-6c960c17cd3e",
   "metadata": {
    "execution": {
     "iopub.execute_input": "2023-11-23T20:02:35.778619Z",
     "iopub.status.busy": "2023-11-23T20:02:35.778048Z",
     "iopub.status.idle": "2023-11-23T20:02:36.008108Z",
     "shell.execute_reply": "2023-11-23T20:02:36.007316Z",
     "shell.execute_reply.started": "2023-11-23T20:02:35.778581Z"
    },
    "tags": []
   },
   "outputs": [],
   "source": [
    "video_titles = videos.tail(500_000)[\"video_title\"].to_list()"
   ]
  },
  {
   "cell_type": "code",
   "execution_count": 8,
   "id": "daf4b1fc-2ae6-41cf-881a-67e03565a15c",
   "metadata": {
    "execution": {
     "iopub.execute_input": "2023-11-23T20:02:36.010114Z",
     "iopub.status.busy": "2023-11-23T20:02:36.009547Z",
     "iopub.status.idle": "2023-11-23T20:02:36.180553Z",
     "shell.execute_reply": "2023-11-23T20:02:36.179776Z",
     "shell.execute_reply.started": "2023-11-23T20:02:36.010081Z"
    },
    "tags": []
   },
   "outputs": [],
   "source": [
    "bm25_model = BM25Model(100)"
   ]
  },
  {
   "cell_type": "code",
   "execution_count": 9,
   "id": "e7a085eb-2753-45ac-8cbf-6a567d8b57fe",
   "metadata": {
    "execution": {
     "iopub.execute_input": "2023-11-23T20:02:36.182304Z",
     "iopub.status.busy": "2023-11-23T20:02:36.181681Z",
     "iopub.status.idle": "2023-11-23T20:03:39.009748Z",
     "shell.execute_reply": "2023-11-23T20:03:39.008912Z",
     "shell.execute_reply.started": "2023-11-23T20:02:36.182269Z"
    },
    "tags": []
   },
   "outputs": [
    {
     "data": {
      "application/vnd.jupyter.widget-view+json": {
       "model_id": "8e84c12e9e394835af1b1ba473945a62",
       "version_major": 2,
       "version_minor": 0
      },
      "text/plain": [
       "  0%|          | 0/500000 [00:00<?, ?it/s]"
      ]
     },
     "metadata": {},
     "output_type": "display_data"
    },
    {
     "data": {
      "text/plain": [
       "<bm25.BM25Model at 0x7fa8433753c0>"
      ]
     },
     "execution_count": 9,
     "metadata": {},
     "output_type": "execute_result"
    }
   ],
   "source": [
    "bm25_model.fit(video_titles)"
   ]
  },
  {
   "cell_type": "code",
   "execution_count": 10,
   "id": "1bd74e00-1734-4916-ad06-807859e784ff",
   "metadata": {
    "execution": {
     "iopub.execute_input": "2023-11-23T20:03:39.011561Z",
     "iopub.status.busy": "2023-11-23T20:03:39.010876Z",
     "iopub.status.idle": "2023-11-23T20:03:39.513572Z",
     "shell.execute_reply": "2023-11-23T20:03:39.512748Z",
     "shell.execute_reply.started": "2023-11-23T20:03:39.011524Z"
    },
    "tags": []
   },
   "outputs": [
    {
     "name": "stdout",
     "output_type": "stream",
     "text": [
      "CPU times: user 472 ms, sys: 16.4 ms, total: 488 ms\n",
      "Wall time: 486 ms\n"
     ]
    }
   ],
   "source": [
    "%%time\n",
    "ids, _ = bm25_model.predict('цифровой прорыв', 10)"
   ]
  },
  {
   "cell_type": "code",
   "execution_count": 11,
   "id": "9230303e-7681-414a-a3df-b185040301f6",
   "metadata": {
    "execution": {
     "iopub.execute_input": "2023-11-23T20:03:39.515195Z",
     "iopub.status.busy": "2023-11-23T20:03:39.514630Z",
     "iopub.status.idle": "2023-11-23T20:03:39.778290Z",
     "shell.execute_reply": "2023-11-23T20:03:39.777520Z",
     "shell.execute_reply.started": "2023-11-23T20:03:39.515153Z"
    },
    "tags": []
   },
   "outputs": [
    {
     "data": {
      "text/plain": [
       "array(['Стартовал новый сезона проекта \"Цифровой прорыв. Сезон: искусственный интеллект\"',\n",
       "       'Genshin Impact: Прорыв вдохновения',\n",
       "       'Halo 5 Guardians | Прохождение #7 | Прорыв',\n",
       "       'Грехо-Обзор \"Вторжение\" (Прорыв канализации в Москве)',\n",
       "       'ПРОРЫВ В БЛАГОУСТРОЙСТВЕ СКВЕР ТЕКСТИЛЬНАЯ ЛОБНЯ',\n",
       "       'Цифровой манометр', 'Цифровой полис', 'Цифровое расширение!',\n",
       "       'Цифровой паспорт', 'Цифровой акробат))'], dtype='<U100')"
      ]
     },
     "execution_count": 11,
     "metadata": {},
     "output_type": "execute_result"
    }
   ],
   "source": [
    "np.array(video_titles)[ids]"
   ]
  },
  {
   "cell_type": "code",
   "execution_count": null,
   "id": "97d6869d-053f-41c3-ace4-062ee15b41fd",
   "metadata": {},
   "outputs": [],
   "source": []
  },
  {
   "cell_type": "code",
   "execution_count": 12,
   "id": "822a6c62-b77d-47a1-b88b-53542530f753",
   "metadata": {
    "execution": {
     "iopub.execute_input": "2023-11-23T20:03:39.779877Z",
     "iopub.status.busy": "2023-11-23T20:03:39.779292Z",
     "iopub.status.idle": "2023-11-23T20:03:42.122457Z",
     "shell.execute_reply": "2023-11-23T20:03:42.121549Z",
     "shell.execute_reply.started": "2023-11-23T20:03:39.779846Z"
    },
    "tags": []
   },
   "outputs": [],
   "source": [
    "with open('bm25_model.pickle', 'wb') as f:\n",
    "    pickle.dump(bm25_model, f)"
   ]
  },
  {
   "cell_type": "code",
   "execution_count": null,
   "id": "ea115c52-f890-4a45-8b9e-b3972d266022",
   "metadata": {},
   "outputs": [],
   "source": []
  }
 ],
 "metadata": {
  "kernelspec": {
   "display_name": "DataSphere Kernel",
   "language": "python",
   "name": "python3"
  },
  "language_info": {
   "codemirror_mode": {
    "name": "ipython",
    "version": 3
   },
   "file_extension": ".py",
   "mimetype": "text/x-python",
   "name": "python",
   "nbconvert_exporter": "python",
   "pygments_lexer": "ipython3",
   "version": "3.7.7"
  }
 },
 "nbformat": 4,
 "nbformat_minor": 5
}
