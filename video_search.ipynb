{
 "cells": [
  {
   "cell_type": "markdown",
   "id": "e0c5ee95-04fa-4ef6-88eb-0f823499c4c3",
   "metadata": {},
   "source": [
    "# Функция для поиска"
   ]
  },
  {
   "cell_type": "code",
   "execution_count": 87,
   "id": "324f7308-0dc6-4a61-ab6b-c399992a2fb0",
   "metadata": {
    "execution": {
     "iopub.execute_input": "2023-11-25T10:37:57.395923Z",
     "iopub.status.busy": "2023-11-25T10:37:57.395286Z",
     "iopub.status.idle": "2023-11-25T10:37:57.454293Z",
     "shell.execute_reply": "2023-11-25T10:37:57.453743Z",
     "shell.execute_reply.started": "2023-11-25T10:37:57.395896Z"
    },
    "tags": []
   },
   "outputs": [],
   "source": [
    "from dataclasses import dataclass\n",
    "from typing import List\n",
    "\n",
    "import polars as pl\n",
    "\n",
    "from transliterate import translit\n",
    "from spellchecker import SpellChecker\n",
    "\n",
    "from catboost import CatBoostRanker, Pool\n",
    "\n",
    "from lemma import LemmaRecommender\n",
    "from semantic import SemanticRecommender\n",
    "\n",
    "russian = SpellChecker(language='ru')\n",
    "\n",
    "\n",
    "@dataclass\n",
    "class Model:\n",
    "    lex_rec: LemmaRecommender\n",
    "    sem_rec: SemanticRecommender\n",
    "    features: pl.DataFrame\n",
    "    model_cb: CatBoostRanker\n",
    "\n",
    "\n",
    "def search_video(query: str, model: Model) -> List[str]:\n",
    "    fixed_query = []\n",
    "    for word in query.split():\n",
    "        fixed_word = russian.correction(word)\n",
    "        if fixed_word is not None:\n",
    "            fixed_query.append(fixed_word)\n",
    "        else:\n",
    "            fixed_query.append(word)\n",
    "    fixed_query = ' '.join(fixed_query)\n",
    "    if fixed_query != query:\n",
    "        print('Автоисправление:\\n', fixed_query)\n",
    "        query = fixed_query\n",
    "\n",
    "    merged = model.lex_rec.predict_one(query, 100)\n",
    "    if len(merged) == 0:\n",
    "        query = translit(query, 'ru')\n",
    "        print('Транслитерация:\\n', query)\n",
    "        merged = model.lex_rec.predict_one(query, 100)\n",
    "        \n",
    "    merged = merged.join(model.sem_rec.predict_one(query, 100), on=['video_id'], how='outer')\n",
    "    merged = merged.fill_null(0)\n",
    "    merged = merged.with_columns(datetime_ind=pl.lit(5064, pl.Int32))\n",
    "    merged = merged.join(model.features, on=['video_id'], how='left')\n",
    "    merged = merged.with_columns(ind_diff=pl.col('datetime_ind') - pl.col('v_pub_datetime_ind'))\n",
    "    merged = merged.fill_null(-1)\n",
    "    pool = Pool(\n",
    "        data=merged.to_pandas().drop(['video_id'], axis=1),\n",
    "        cat_features=['v_channel_type', 'v_category']\n",
    "    )\n",
    "    return (\n",
    "        merged\n",
    "        .with_columns(score=pl.Series(model.model_cb.predict(pool)))\n",
    "        .sort(by='score', descending=True)[\"video_id\"]\n",
    "        .head(5)\n",
    "        .to_list()\n",
    "    )\n"
   ]
  },
  {
   "cell_type": "code",
   "execution_count": 88,
   "id": "70c2095b-9a92-40cf-972c-ef88f1e8a7d8",
   "metadata": {
    "execution": {
     "iopub.execute_input": "2023-11-25T10:37:59.567436Z",
     "iopub.status.busy": "2023-11-25T10:37:59.567030Z",
     "iopub.status.idle": "2023-11-25T10:37:59.577585Z",
     "shell.execute_reply": "2023-11-25T10:37:59.577058Z",
     "shell.execute_reply.started": "2023-11-25T10:37:59.567413Z"
    },
    "tags": []
   },
   "outputs": [],
   "source": [
    "def get_results(search_result: pl.DataFrame) -> List[str]:\n",
    "    return videos.filter(pl.col('video_id').is_in(search_result)).to_pandas().set_index('video_id').loc[search_result, 'video_title'].to_list()"
   ]
  },
  {
   "cell_type": "markdown",
   "id": "b0f3f328-07af-4703-ab7a-9c0a270a04b4",
   "metadata": {},
   "source": [
    "# Дополнительные данные"
   ]
  },
  {
   "cell_type": "markdown",
   "id": "50e4915e-9e3e-41a1-bc46-f9d0d19ab1ce",
   "metadata": {},
   "source": [
    "код стоит переписать"
   ]
  },
  {
   "cell_type": "code",
   "execution_count": 66,
   "id": "e376a95a-fcd5-4ce6-a21f-845bbad4a2b4",
   "metadata": {
    "execution": {
     "iopub.execute_input": "2023-11-25T10:26:26.299891Z",
     "iopub.status.busy": "2023-11-25T10:26:26.299308Z",
     "iopub.status.idle": "2023-11-25T10:26:26.307512Z",
     "shell.execute_reply": "2023-11-25T10:26:26.306953Z",
     "shell.execute_reply.started": "2023-11-25T10:26:26.299867Z"
    },
    "tags": []
   },
   "outputs": [],
   "source": [
    "import pickle"
   ]
  },
  {
   "cell_type": "code",
   "execution_count": 67,
   "id": "46506d62-2f16-4bc5-a1a2-4f2a4bb1de8f",
   "metadata": {
    "execution": {
     "iopub.execute_input": "2023-11-25T10:26:26.531043Z",
     "iopub.status.busy": "2023-11-25T10:26:26.530606Z",
     "iopub.status.idle": "2023-11-25T10:26:29.940016Z",
     "shell.execute_reply": "2023-11-25T10:26:29.939396Z",
     "shell.execute_reply.started": "2023-11-25T10:26:26.531022Z"
    },
    "tags": []
   },
   "outputs": [],
   "source": [
    "with open('./lemma_rec_1e6.pickle', 'rb') as f:\n",
    "    lex_rec: LemmaRecommender = pickle.load(f)"
   ]
  },
  {
   "cell_type": "code",
   "execution_count": 68,
   "id": "8cdb2211-b991-46ca-9afe-b58eb74db9d9",
   "metadata": {
    "execution": {
     "iopub.execute_input": "2023-11-25T10:26:31.048243Z",
     "iopub.status.busy": "2023-11-25T10:26:31.047845Z",
     "iopub.status.idle": "2023-11-25T10:29:41.742476Z",
     "shell.execute_reply": "2023-11-25T10:29:41.741752Z",
     "shell.execute_reply.started": "2023-11-25T10:26:31.048221Z"
    },
    "tags": []
   },
   "outputs": [
    {
     "data": {
      "application/vnd.jupyter.widget-view+json": {
       "model_id": "096b94b6098943728555cadf668af238",
       "version_major": 2,
       "version_minor": 0
      },
      "text/plain": [
       "tokenizer_config.json:   0%|          | 0.00/49.0 [00:00<?, ?B/s]"
      ]
     },
     "metadata": {},
     "output_type": "display_data"
    },
    {
     "data": {
      "application/vnd.jupyter.widget-view+json": {
       "model_id": "9bde062f18194cbbbb6cef884016c7e0",
       "version_major": 2,
       "version_minor": 0
      },
      "text/plain": [
       "config.json:   0%|          | 0.00/806 [00:00<?, ?B/s]"
      ]
     },
     "metadata": {},
     "output_type": "display_data"
    },
    {
     "data": {
      "application/vnd.jupyter.widget-view+json": {
       "model_id": "aee2e78d4658446abca7602632a9fa2d",
       "version_major": 2,
       "version_minor": 0
      },
      "text/plain": [
       "vocab.txt:   0%|          | 0.00/521k [00:00<?, ?B/s]"
      ]
     },
     "metadata": {},
     "output_type": "display_data"
    },
    {
     "data": {
      "application/vnd.jupyter.widget-view+json": {
       "model_id": "4a68896f3d5c4fdaa3da500e7586102e",
       "version_major": 2,
       "version_minor": 0
      },
      "text/plain": [
       "special_tokens_map.json:   0%|          | 0.00/112 [00:00<?, ?B/s]"
      ]
     },
     "metadata": {},
     "output_type": "display_data"
    },
    {
     "data": {
      "application/vnd.jupyter.widget-view+json": {
       "model_id": "7299a7a8233447488607a55d3ddccabd",
       "version_major": 2,
       "version_minor": 0
      },
      "text/plain": [
       "model.safetensors:   0%|          | 0.00/516M [00:00<?, ?B/s]"
      ]
     },
     "metadata": {},
     "output_type": "display_data"
    }
   ],
   "source": [
    "features = pl.read_parquet('./features.parquet', columns = ['video_id', 'v_pub_datetime']).sort('v_pub_datetime')\n",
    "features = features.unique()\n",
    "videos = pl.read_parquet('./videos.parquet', columns = ['video_id', 'video_title', 'v_pub_datetime']).sort('v_pub_datetime')\n",
    "videos = videos.join(features, on='video_id', how='left')\n",
    "videos = videos.filter((~pl.col('v_pub_datetime').is_null()) & (~pl.col('v_pub_datetime_right').is_null()))\n",
    "videos = videos.sort('video_id')\n",
    "automarkup = pl.read_parquet('./automarkup.parquet', columns=['video_id'])\n",
    "video_ids = videos[\"video_id\"].tail(1_000_000).to_list()\n",
    "video_ids += automarkup[\"video_id\"].to_list()\n",
    "video_ids = sorted(list(set(video_ids)))\n",
    "\n",
    "from transformers import AutoTokenizer, AutoModel\n",
    "import torch\n",
    "from tqdm.auto import tqdm\n",
    "\n",
    "import os\n",
    "\n",
    "os.environ['TRANSFORMERS_CACHE'] = './cache/'\n",
    "\n",
    "device = 'cpu'\n",
    "tokenizer = AutoTokenizer.from_pretrained(\"cointegrated/LaBSE-en-ru\")\n",
    "model = AutoModel.from_pretrained(\"cointegrated/LaBSE-en-ru\").to(device)\n"
   ]
  },
  {
   "cell_type": "code",
   "execution_count": 69,
   "id": "3b0a3658-7cba-4173-b8ab-0be22d84fcee",
   "metadata": {
    "execution": {
     "iopub.execute_input": "2023-11-25T10:29:41.744132Z",
     "iopub.status.busy": "2023-11-25T10:29:41.743743Z",
     "iopub.status.idle": "2023-11-25T10:32:00.933831Z",
     "shell.execute_reply": "2023-11-25T10:32:00.932911Z",
     "shell.execute_reply.started": "2023-11-25T10:29:41.744104Z"
    },
    "tags": []
   },
   "outputs": [],
   "source": [
    "import faiss\n",
    "\n",
    "index = faiss.read_index('labse_candidates.index')\n",
    "\n",
    "sem_rec = SemanticRecommender(videos.filter(pl.col('video_id').is_in(video_ids))[\"video_id\"].to_list(), index,  tokenizer, model)"
   ]
  },
  {
   "cell_type": "code",
   "execution_count": 71,
   "id": "55a072e3-beaf-435f-9fbc-577b65138843",
   "metadata": {
    "execution": {
     "iopub.execute_input": "2023-11-25T10:33:09.616897Z",
     "iopub.status.busy": "2023-11-25T10:33:09.616158Z",
     "iopub.status.idle": "2023-11-25T10:33:09.625670Z",
     "shell.execute_reply": "2023-11-25T10:33:09.625149Z",
     "shell.execute_reply.started": "2023-11-25T10:33:09.616869Z"
    }
   },
   "outputs": [],
   "source": [
    "import pandas as pd"
   ]
  },
  {
   "cell_type": "code",
   "execution_count": 72,
   "id": "3ddf2b82-f491-4220-a067-35b51c7ecf40",
   "metadata": {
    "execution": {
     "iopub.execute_input": "2023-11-25T10:33:09.869153Z",
     "iopub.status.busy": "2023-11-25T10:33:09.868745Z",
     "iopub.status.idle": "2023-11-25T10:33:25.112423Z",
     "shell.execute_reply": "2023-11-25T10:33:25.111614Z",
     "shell.execute_reply.started": "2023-11-25T10:33:09.869133Z"
    },
    "tags": []
   },
   "outputs": [],
   "source": [
    "features = pl.read_parquet('./features_nov.parquet')\n",
    "v_channel_reg_datetime = features[\"v_channel_reg_datetime\"].to_pandas()\n",
    "v_pub_datetime = features[\"v_pub_datetime\"].to_pandas()\n",
    "v_channel_reg_datetime_ind = (pd.to_datetime(v_channel_reg_datetime) - pd.Timestamp(year=2010, month=1, day=1)).dt.days\n",
    "v_pub_datetime_ind = (pd.to_datetime(v_pub_datetime) - pd.Timestamp(year=2010, month=1, day=1)).dt.days\n",
    "features = features.with_columns(v_channel_reg_datetime_ind=pl.Series(v_channel_reg_datetime_ind), v_pub_datetime_ind=pl.Series(v_pub_datetime_ind))\n",
    "features = features.drop(['report_date', 'v_channel_reg_datetime', 'v_pub_datetime']).unique(subset='video_id', keep='last')"
   ]
  },
  {
   "cell_type": "code",
   "execution_count": 73,
   "id": "57711361-5ae8-4e77-a945-1a672e3a97e0",
   "metadata": {
    "execution": {
     "iopub.execute_input": "2023-11-25T10:33:25.114273Z",
     "iopub.status.busy": "2023-11-25T10:33:25.113564Z",
     "iopub.status.idle": "2023-11-25T10:33:25.163983Z",
     "shell.execute_reply": "2023-11-25T10:33:25.163391Z",
     "shell.execute_reply.started": "2023-11-25T10:33:25.114230Z"
    },
    "tags": []
   },
   "outputs": [],
   "source": [
    "model_cb = CatBoostRanker().load_model('./model_cb.cbm')"
   ]
  },
  {
   "cell_type": "code",
   "execution_count": 74,
   "id": "d5055a43-483a-4fb0-8f8e-97da9daf5c43",
   "metadata": {
    "execution": {
     "iopub.execute_input": "2023-11-25T10:33:25.165501Z",
     "iopub.status.busy": "2023-11-25T10:33:25.165135Z",
     "iopub.status.idle": "2023-11-25T10:33:37.680155Z",
     "shell.execute_reply": "2023-11-25T10:33:37.679118Z",
     "shell.execute_reply.started": "2023-11-25T10:33:25.165481Z"
    },
    "tags": []
   },
   "outputs": [],
   "source": [
    "videos = pl.read_parquet('./videos.parquet', columns=['video_id', 'video_title'])"
   ]
  },
  {
   "cell_type": "markdown",
   "id": "9989e8e9-79fd-4639-b1ae-474dfd818e47",
   "metadata": {},
   "source": [
    "# Тестирование"
   ]
  },
  {
   "cell_type": "code",
   "execution_count": 89,
   "id": "b9009c98-f7eb-4ca2-af76-37869e71a253",
   "metadata": {
    "execution": {
     "iopub.execute_input": "2023-11-25T10:38:02.734105Z",
     "iopub.status.busy": "2023-11-25T10:38:02.733761Z",
     "iopub.status.idle": "2023-11-25T10:38:02.742366Z",
     "shell.execute_reply": "2023-11-25T10:38:02.741824Z",
     "shell.execute_reply.started": "2023-11-25T10:38:02.734082Z"
    },
    "tags": []
   },
   "outputs": [],
   "source": [
    "model = Model(lex_rec=lex_rec, sem_rec=sem_rec, features=features, model_cb=model_cb)"
   ]
  },
  {
   "cell_type": "code",
   "execution_count": null,
   "id": "05854220-1f81-4e6c-9461-00128ad665aa",
   "metadata": {},
   "outputs": [],
   "source": []
  },
  {
   "cell_type": "code",
   "execution_count": 124,
   "id": "f7d21454-b756-4665-b518-db3628366c5e",
   "metadata": {
    "execution": {
     "iopub.execute_input": "2023-11-25T10:46:20.819092Z",
     "iopub.status.busy": "2023-11-25T10:46:20.818097Z",
     "iopub.status.idle": "2023-11-25T10:46:21.571844Z",
     "shell.execute_reply": "2023-11-25T10:46:21.571230Z",
     "shell.execute_reply.started": "2023-11-25T10:46:20.819048Z"
    },
    "tags": []
   },
   "outputs": [
    {
     "name": "stdout",
     "output_type": "stream",
     "text": [
      "CPU times: user 4.57 s, sys: 2.14 s, total: 6.71 s\n",
      "Wall time: 733 ms\n"
     ]
    }
   ],
   "source": [
    "%%time\n",
    "search_result = search_video('как построить карьеру', model)"
   ]
  },
  {
   "cell_type": "code",
   "execution_count": 123,
   "id": "7117e9d0-36ac-4f9f-846b-c6bd1cc745cf",
   "metadata": {
    "execution": {
     "iopub.execute_input": "2023-11-25T10:45:28.563588Z",
     "iopub.status.busy": "2023-11-25T10:45:28.562970Z",
     "iopub.status.idle": "2023-11-25T10:45:28.577215Z",
     "shell.execute_reply": "2023-11-25T10:45:28.576668Z",
     "shell.execute_reply.started": "2023-11-25T10:45:28.563556Z"
    },
    "tags": []
   },
   "outputs": [
    {
     "data": {
      "text/plain": [
       "['video_8823568',\n",
       " 'video_7914063',\n",
       " 'video_9636578',\n",
       " 'video_18727621',\n",
       " 'video_8731746']"
      ]
     },
     "execution_count": 123,
     "metadata": {},
     "output_type": "execute_result"
    }
   ],
   "source": [
    "search_result"
   ]
  },
  {
   "cell_type": "code",
   "execution_count": null,
   "id": "90ec0d18-b15a-4508-9c40-9b4ee4850e34",
   "metadata": {},
   "outputs": [],
   "source": []
  },
  {
   "cell_type": "code",
   "execution_count": 114,
   "id": "892f4426-d34c-46e3-99c0-31d10de1d5b7",
   "metadata": {
    "execution": {
     "iopub.execute_input": "2023-11-25T10:44:15.885743Z",
     "iopub.status.busy": "2023-11-25T10:44:15.885399Z",
     "iopub.status.idle": "2023-11-25T10:44:16.322766Z",
     "shell.execute_reply": "2023-11-25T10:44:16.322197Z",
     "shell.execute_reply.started": "2023-11-25T10:44:15.885723Z"
    },
    "tags": []
   },
   "outputs": [
    {
     "data": {
      "text/plain": [
       "['Собака', 'Собака', 'собака', 'Собачка резвится', 'СОБАКА.']"
      ]
     },
     "execution_count": 114,
     "metadata": {},
     "output_type": "execute_result"
    }
   ],
   "source": [
    "get_results(search_result)"
   ]
  },
  {
   "cell_type": "code",
   "execution_count": null,
   "id": "6d5f7ab9-98ae-4609-8993-02ad177a2693",
   "metadata": {},
   "outputs": [],
   "source": []
  }
 ],
 "metadata": {
  "kernelspec": {
   "display_name": "DataSphere Kernel",
   "language": "python",
   "name": "python3"
  },
  "language_info": {
   "codemirror_mode": {
    "name": "ipython",
    "version": 3
   },
   "file_extension": ".py",
   "mimetype": "text/x-python",
   "name": "python",
   "nbconvert_exporter": "python",
   "pygments_lexer": "ipython3",
   "version": "3.7.7"
  }
 },
 "nbformat": 4,
 "nbformat_minor": 5
}
